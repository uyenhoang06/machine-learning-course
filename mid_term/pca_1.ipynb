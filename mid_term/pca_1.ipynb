{
 "cells": [
  {
   "cell_type": "code",
   "execution_count": 3,
   "id": "176b009a1172833",
   "metadata": {
    "ExecuteTime": {
     "end_time": "2024-05-03T20:53:36.426089100Z",
     "start_time": "2024-05-03T20:53:36.394456100Z"
    },
    "collapsed": false
   },
   "outputs": [],
   "source": [
    "import os\n",
    "import gzip\n",
    "import numpy as np\n",
    "import pandas as pd\n",
    "import matplotlib.pyplot as plt"
   ]
  },
  {
   "cell_type": "code",
   "execution_count": 4,
   "id": "69d8332f86fa02d8",
   "metadata": {
    "ExecuteTime": {
     "end_time": "2024-05-03T20:53:39.157174200Z",
     "start_time": "2024-05-03T20:53:37.129592300Z"
    },
    "collapsed": false
   },
   "outputs": [],
   "source": [
    "data_path = ''\n",
    "\n",
    "# Đường dẫn\n",
    "images_train_path = os.path.join(data_path, 'train-images-idx3-ubyte.gz')\n",
    "labels_train_path = os.path.join(data_path, 'train-labels-idx1-ubyte.gz')\n",
    "\n",
    "images_test_path = os.path.join(data_path, 't10k-images-idx3-ubyte.gz')\n",
    "labels_test_path = os.path.join(data_path, 't10k-labels-idx1-ubyte.gz')\n",
    "\n",
    "\n",
    "def get_mnist_data_as_dataframe(images_path, labels_path, shuffle=False, image_size=28):\n",
    "    # Đọc dữ liệu ảnh\n",
    "    with gzip.open(images_path, 'r') as f_images:\n",
    "        # Bỏ qua 16 byte đầu tiên vì đây không phải là dữ liệu, chỉ là thông tin header\n",
    "        f_images.read(16)\n",
    "        \n",
    "        # Đọc tất cả dữ liệu sau khi bỏ đi phần head\n",
    "        buf_images = f_images.read()\n",
    "        \n",
    "        # Chuyển dữ liệu thành numpy array và đổi dtype thành float32\n",
    "        images = np.frombuffer(buf_images, dtype=np.uint8).astype(np.float32)\n",
    "        \n",
    "        # Reshape dữ liệu thành dạng (num_images, image_size*image_size)\n",
    "        images = images.reshape(-1, image_size * image_size)\n",
    "    \n",
    "    # Đọc tệp labels\n",
    "    with gzip.open(labels_path, 'r') as f_labels:\n",
    "        f_labels.read(8)\n",
    "        buf_labels = f_labels.read()\n",
    "        labels = np.frombuffer(buf_labels, dtype=np.uint8).astype(np.int64)\n",
    "    \n",
    "    # Tạo DataFrame từ dữ liệu ảnh\n",
    "    df_images = pd.DataFrame(images)\n",
    "    \n",
    "    # Thêm cột label vào DataFrame dữ liệu ảnh\n",
    "    df_images['label'] = labels\n",
    "    \n",
    "    # Trộn dữ liệu trong dataframe\n",
    "    if shuffle:\n",
    "        df_images = df_images.sample(frac=1).reset_index(drop=True)\n",
    "    \n",
    "    return df_images\n",
    "\n",
    "# Sử dụng hàm để đọc dữ liệu\n",
    "# dataframe train\n",
    "mnist_train_df = get_mnist_data_as_dataframe(images_train_path, labels_train_path, shuffle=True)\n",
    "\n",
    "# dataframe test\n",
    "mnist_test_df = get_mnist_data_as_dataframe(images_test_path, labels_test_path, shuffle=True)"
   ]
  },
  {
   "cell_type": "code",
   "execution_count": 5,
   "id": "f877d408a9cf6abc",
   "metadata": {
    "ExecuteTime": {
     "start_time": "2024-05-03T20:47:06.195797200Z"
    },
    "collapsed": false
   },
   "outputs": [
    {
     "data": {
      "text/plain": [
       "(60000, 785)"
      ]
     },
     "execution_count": 5,
     "metadata": {},
     "output_type": "execute_result"
    }
   ],
   "source": [
    "mnist_train_df.shape"
   ]
  },
  {
   "cell_type": "code",
   "execution_count": 6,
   "id": "3b0abff386dca27a",
   "metadata": {
    "ExecuteTime": {
     "start_time": "2024-05-03T20:47:06.195797200Z"
    },
    "collapsed": false
   },
   "outputs": [
    {
     "data": {
      "text/html": [
       "<div>\n",
       "<style scoped>\n",
       "    .dataframe tbody tr th:only-of-type {\n",
       "        vertical-align: middle;\n",
       "    }\n",
       "\n",
       "    .dataframe tbody tr th {\n",
       "        vertical-align: top;\n",
       "    }\n",
       "\n",
       "    .dataframe thead th {\n",
       "        text-align: right;\n",
       "    }\n",
       "</style>\n",
       "<table border=\"1\" class=\"dataframe\">\n",
       "  <thead>\n",
       "    <tr style=\"text-align: right;\">\n",
       "      <th></th>\n",
       "      <th>0</th>\n",
       "      <th>1</th>\n",
       "      <th>2</th>\n",
       "      <th>3</th>\n",
       "      <th>4</th>\n",
       "      <th>5</th>\n",
       "      <th>6</th>\n",
       "      <th>7</th>\n",
       "      <th>8</th>\n",
       "      <th>9</th>\n",
       "      <th>...</th>\n",
       "      <th>775</th>\n",
       "      <th>776</th>\n",
       "      <th>777</th>\n",
       "      <th>778</th>\n",
       "      <th>779</th>\n",
       "      <th>780</th>\n",
       "      <th>781</th>\n",
       "      <th>782</th>\n",
       "      <th>783</th>\n",
       "      <th>label</th>\n",
       "    </tr>\n",
       "  </thead>\n",
       "  <tbody>\n",
       "    <tr>\n",
       "      <th>count</th>\n",
       "      <td>60000.0</td>\n",
       "      <td>60000.0</td>\n",
       "      <td>60000.0</td>\n",
       "      <td>60000.0</td>\n",
       "      <td>60000.0</td>\n",
       "      <td>60000.0</td>\n",
       "      <td>60000.0</td>\n",
       "      <td>60000.0</td>\n",
       "      <td>60000.0</td>\n",
       "      <td>60000.0</td>\n",
       "      <td>...</td>\n",
       "      <td>60000.000000</td>\n",
       "      <td>60000.000000</td>\n",
       "      <td>60000.000000</td>\n",
       "      <td>60000.000000</td>\n",
       "      <td>60000.0000</td>\n",
       "      <td>60000.0</td>\n",
       "      <td>60000.0</td>\n",
       "      <td>60000.0</td>\n",
       "      <td>60000.0</td>\n",
       "      <td>60000.000000</td>\n",
       "    </tr>\n",
       "    <tr>\n",
       "      <th>mean</th>\n",
       "      <td>0.0</td>\n",
       "      <td>0.0</td>\n",
       "      <td>0.0</td>\n",
       "      <td>0.0</td>\n",
       "      <td>0.0</td>\n",
       "      <td>0.0</td>\n",
       "      <td>0.0</td>\n",
       "      <td>0.0</td>\n",
       "      <td>0.0</td>\n",
       "      <td>0.0</td>\n",
       "      <td>...</td>\n",
       "      <td>0.088867</td>\n",
       "      <td>0.045633</td>\n",
       "      <td>0.019283</td>\n",
       "      <td>0.015117</td>\n",
       "      <td>0.0020</td>\n",
       "      <td>0.0</td>\n",
       "      <td>0.0</td>\n",
       "      <td>0.0</td>\n",
       "      <td>0.0</td>\n",
       "      <td>4.453933</td>\n",
       "    </tr>\n",
       "    <tr>\n",
       "      <th>std</th>\n",
       "      <td>0.0</td>\n",
       "      <td>0.0</td>\n",
       "      <td>0.0</td>\n",
       "      <td>0.0</td>\n",
       "      <td>0.0</td>\n",
       "      <td>0.0</td>\n",
       "      <td>0.0</td>\n",
       "      <td>0.0</td>\n",
       "      <td>0.0</td>\n",
       "      <td>0.0</td>\n",
       "      <td>...</td>\n",
       "      <td>3.956189</td>\n",
       "      <td>2.839845</td>\n",
       "      <td>1.686770</td>\n",
       "      <td>1.678283</td>\n",
       "      <td>0.3466</td>\n",
       "      <td>0.0</td>\n",
       "      <td>0.0</td>\n",
       "      <td>0.0</td>\n",
       "      <td>0.0</td>\n",
       "      <td>2.889270</td>\n",
       "    </tr>\n",
       "    <tr>\n",
       "      <th>min</th>\n",
       "      <td>0.0</td>\n",
       "      <td>0.0</td>\n",
       "      <td>0.0</td>\n",
       "      <td>0.0</td>\n",
       "      <td>0.0</td>\n",
       "      <td>0.0</td>\n",
       "      <td>0.0</td>\n",
       "      <td>0.0</td>\n",
       "      <td>0.0</td>\n",
       "      <td>0.0</td>\n",
       "      <td>...</td>\n",
       "      <td>0.000000</td>\n",
       "      <td>0.000000</td>\n",
       "      <td>0.000000</td>\n",
       "      <td>0.000000</td>\n",
       "      <td>0.0000</td>\n",
       "      <td>0.0</td>\n",
       "      <td>0.0</td>\n",
       "      <td>0.0</td>\n",
       "      <td>0.0</td>\n",
       "      <td>0.000000</td>\n",
       "    </tr>\n",
       "    <tr>\n",
       "      <th>25%</th>\n",
       "      <td>0.0</td>\n",
       "      <td>0.0</td>\n",
       "      <td>0.0</td>\n",
       "      <td>0.0</td>\n",
       "      <td>0.0</td>\n",
       "      <td>0.0</td>\n",
       "      <td>0.0</td>\n",
       "      <td>0.0</td>\n",
       "      <td>0.0</td>\n",
       "      <td>0.0</td>\n",
       "      <td>...</td>\n",
       "      <td>0.000000</td>\n",
       "      <td>0.000000</td>\n",
       "      <td>0.000000</td>\n",
       "      <td>0.000000</td>\n",
       "      <td>0.0000</td>\n",
       "      <td>0.0</td>\n",
       "      <td>0.0</td>\n",
       "      <td>0.0</td>\n",
       "      <td>0.0</td>\n",
       "      <td>2.000000</td>\n",
       "    </tr>\n",
       "    <tr>\n",
       "      <th>50%</th>\n",
       "      <td>0.0</td>\n",
       "      <td>0.0</td>\n",
       "      <td>0.0</td>\n",
       "      <td>0.0</td>\n",
       "      <td>0.0</td>\n",
       "      <td>0.0</td>\n",
       "      <td>0.0</td>\n",
       "      <td>0.0</td>\n",
       "      <td>0.0</td>\n",
       "      <td>0.0</td>\n",
       "      <td>...</td>\n",
       "      <td>0.000000</td>\n",
       "      <td>0.000000</td>\n",
       "      <td>0.000000</td>\n",
       "      <td>0.000000</td>\n",
       "      <td>0.0000</td>\n",
       "      <td>0.0</td>\n",
       "      <td>0.0</td>\n",
       "      <td>0.0</td>\n",
       "      <td>0.0</td>\n",
       "      <td>4.000000</td>\n",
       "    </tr>\n",
       "    <tr>\n",
       "      <th>75%</th>\n",
       "      <td>0.0</td>\n",
       "      <td>0.0</td>\n",
       "      <td>0.0</td>\n",
       "      <td>0.0</td>\n",
       "      <td>0.0</td>\n",
       "      <td>0.0</td>\n",
       "      <td>0.0</td>\n",
       "      <td>0.0</td>\n",
       "      <td>0.0</td>\n",
       "      <td>0.0</td>\n",
       "      <td>...</td>\n",
       "      <td>0.000000</td>\n",
       "      <td>0.000000</td>\n",
       "      <td>0.000000</td>\n",
       "      <td>0.000000</td>\n",
       "      <td>0.0000</td>\n",
       "      <td>0.0</td>\n",
       "      <td>0.0</td>\n",
       "      <td>0.0</td>\n",
       "      <td>0.0</td>\n",
       "      <td>7.000000</td>\n",
       "    </tr>\n",
       "    <tr>\n",
       "      <th>max</th>\n",
       "      <td>0.0</td>\n",
       "      <td>0.0</td>\n",
       "      <td>0.0</td>\n",
       "      <td>0.0</td>\n",
       "      <td>0.0</td>\n",
       "      <td>0.0</td>\n",
       "      <td>0.0</td>\n",
       "      <td>0.0</td>\n",
       "      <td>0.0</td>\n",
       "      <td>0.0</td>\n",
       "      <td>...</td>\n",
       "      <td>254.000000</td>\n",
       "      <td>253.000000</td>\n",
       "      <td>253.000000</td>\n",
       "      <td>254.000000</td>\n",
       "      <td>62.0000</td>\n",
       "      <td>0.0</td>\n",
       "      <td>0.0</td>\n",
       "      <td>0.0</td>\n",
       "      <td>0.0</td>\n",
       "      <td>9.000000</td>\n",
       "    </tr>\n",
       "  </tbody>\n",
       "</table>\n",
       "<p>8 rows × 785 columns</p>\n",
       "</div>"
      ],
      "text/plain": [
       "             0        1        2        3        4        5        6        7  \\\n",
       "count  60000.0  60000.0  60000.0  60000.0  60000.0  60000.0  60000.0  60000.0   \n",
       "mean       0.0      0.0      0.0      0.0      0.0      0.0      0.0      0.0   \n",
       "std        0.0      0.0      0.0      0.0      0.0      0.0      0.0      0.0   \n",
       "min        0.0      0.0      0.0      0.0      0.0      0.0      0.0      0.0   \n",
       "25%        0.0      0.0      0.0      0.0      0.0      0.0      0.0      0.0   \n",
       "50%        0.0      0.0      0.0      0.0      0.0      0.0      0.0      0.0   \n",
       "75%        0.0      0.0      0.0      0.0      0.0      0.0      0.0      0.0   \n",
       "max        0.0      0.0      0.0      0.0      0.0      0.0      0.0      0.0   \n",
       "\n",
       "             8        9  ...           775           776           777  \\\n",
       "count  60000.0  60000.0  ...  60000.000000  60000.000000  60000.000000   \n",
       "mean       0.0      0.0  ...      0.088867      0.045633      0.019283   \n",
       "std        0.0      0.0  ...      3.956189      2.839845      1.686770   \n",
       "min        0.0      0.0  ...      0.000000      0.000000      0.000000   \n",
       "25%        0.0      0.0  ...      0.000000      0.000000      0.000000   \n",
       "50%        0.0      0.0  ...      0.000000      0.000000      0.000000   \n",
       "75%        0.0      0.0  ...      0.000000      0.000000      0.000000   \n",
       "max        0.0      0.0  ...    254.000000    253.000000    253.000000   \n",
       "\n",
       "                778         779      780      781      782      783  \\\n",
       "count  60000.000000  60000.0000  60000.0  60000.0  60000.0  60000.0   \n",
       "mean       0.015117      0.0020      0.0      0.0      0.0      0.0   \n",
       "std        1.678283      0.3466      0.0      0.0      0.0      0.0   \n",
       "min        0.000000      0.0000      0.0      0.0      0.0      0.0   \n",
       "25%        0.000000      0.0000      0.0      0.0      0.0      0.0   \n",
       "50%        0.000000      0.0000      0.0      0.0      0.0      0.0   \n",
       "75%        0.000000      0.0000      0.0      0.0      0.0      0.0   \n",
       "max      254.000000     62.0000      0.0      0.0      0.0      0.0   \n",
       "\n",
       "              label  \n",
       "count  60000.000000  \n",
       "mean       4.453933  \n",
       "std        2.889270  \n",
       "min        0.000000  \n",
       "25%        2.000000  \n",
       "50%        4.000000  \n",
       "75%        7.000000  \n",
       "max        9.000000  \n",
       "\n",
       "[8 rows x 785 columns]"
      ]
     },
     "execution_count": 6,
     "metadata": {},
     "output_type": "execute_result"
    }
   ],
   "source": [
    "mnist_train_df.describe()"
   ]
  },
  {
   "cell_type": "code",
   "execution_count": 7,
   "id": "cfb81ea39dcb97df",
   "metadata": {
    "ExecuteTime": {
     "start_time": "2024-05-03T20:47:06.195797200Z"
    },
    "collapsed": false
   },
   "outputs": [
    {
     "data": {
      "text/html": [
       "<div>\n",
       "<style scoped>\n",
       "    .dataframe tbody tr th:only-of-type {\n",
       "        vertical-align: middle;\n",
       "    }\n",
       "\n",
       "    .dataframe tbody tr th {\n",
       "        vertical-align: top;\n",
       "    }\n",
       "\n",
       "    .dataframe thead th {\n",
       "        text-align: right;\n",
       "    }\n",
       "</style>\n",
       "<table border=\"1\" class=\"dataframe\">\n",
       "  <thead>\n",
       "    <tr style=\"text-align: right;\">\n",
       "      <th></th>\n",
       "      <th>0</th>\n",
       "      <th>1</th>\n",
       "      <th>2</th>\n",
       "      <th>3</th>\n",
       "      <th>4</th>\n",
       "      <th>5</th>\n",
       "      <th>6</th>\n",
       "      <th>7</th>\n",
       "      <th>8</th>\n",
       "      <th>9</th>\n",
       "      <th>...</th>\n",
       "      <th>775</th>\n",
       "      <th>776</th>\n",
       "      <th>777</th>\n",
       "      <th>778</th>\n",
       "      <th>779</th>\n",
       "      <th>780</th>\n",
       "      <th>781</th>\n",
       "      <th>782</th>\n",
       "      <th>783</th>\n",
       "      <th>label</th>\n",
       "    </tr>\n",
       "  </thead>\n",
       "  <tbody>\n",
       "    <tr>\n",
       "      <th>0</th>\n",
       "      <td>0.0</td>\n",
       "      <td>0.0</td>\n",
       "      <td>0.0</td>\n",
       "      <td>0.0</td>\n",
       "      <td>0.0</td>\n",
       "      <td>0.0</td>\n",
       "      <td>0.0</td>\n",
       "      <td>0.0</td>\n",
       "      <td>0.0</td>\n",
       "      <td>0.0</td>\n",
       "      <td>...</td>\n",
       "      <td>0.0</td>\n",
       "      <td>0.0</td>\n",
       "      <td>0.0</td>\n",
       "      <td>0.0</td>\n",
       "      <td>0.0</td>\n",
       "      <td>0.0</td>\n",
       "      <td>0.0</td>\n",
       "      <td>0.0</td>\n",
       "      <td>0.0</td>\n",
       "      <td>2</td>\n",
       "    </tr>\n",
       "    <tr>\n",
       "      <th>1</th>\n",
       "      <td>0.0</td>\n",
       "      <td>0.0</td>\n",
       "      <td>0.0</td>\n",
       "      <td>0.0</td>\n",
       "      <td>0.0</td>\n",
       "      <td>0.0</td>\n",
       "      <td>0.0</td>\n",
       "      <td>0.0</td>\n",
       "      <td>0.0</td>\n",
       "      <td>0.0</td>\n",
       "      <td>...</td>\n",
       "      <td>0.0</td>\n",
       "      <td>0.0</td>\n",
       "      <td>0.0</td>\n",
       "      <td>0.0</td>\n",
       "      <td>0.0</td>\n",
       "      <td>0.0</td>\n",
       "      <td>0.0</td>\n",
       "      <td>0.0</td>\n",
       "      <td>0.0</td>\n",
       "      <td>3</td>\n",
       "    </tr>\n",
       "    <tr>\n",
       "      <th>2</th>\n",
       "      <td>0.0</td>\n",
       "      <td>0.0</td>\n",
       "      <td>0.0</td>\n",
       "      <td>0.0</td>\n",
       "      <td>0.0</td>\n",
       "      <td>0.0</td>\n",
       "      <td>0.0</td>\n",
       "      <td>0.0</td>\n",
       "      <td>0.0</td>\n",
       "      <td>0.0</td>\n",
       "      <td>...</td>\n",
       "      <td>0.0</td>\n",
       "      <td>0.0</td>\n",
       "      <td>0.0</td>\n",
       "      <td>0.0</td>\n",
       "      <td>0.0</td>\n",
       "      <td>0.0</td>\n",
       "      <td>0.0</td>\n",
       "      <td>0.0</td>\n",
       "      <td>0.0</td>\n",
       "      <td>5</td>\n",
       "    </tr>\n",
       "    <tr>\n",
       "      <th>3</th>\n",
       "      <td>0.0</td>\n",
       "      <td>0.0</td>\n",
       "      <td>0.0</td>\n",
       "      <td>0.0</td>\n",
       "      <td>0.0</td>\n",
       "      <td>0.0</td>\n",
       "      <td>0.0</td>\n",
       "      <td>0.0</td>\n",
       "      <td>0.0</td>\n",
       "      <td>0.0</td>\n",
       "      <td>...</td>\n",
       "      <td>0.0</td>\n",
       "      <td>0.0</td>\n",
       "      <td>0.0</td>\n",
       "      <td>0.0</td>\n",
       "      <td>0.0</td>\n",
       "      <td>0.0</td>\n",
       "      <td>0.0</td>\n",
       "      <td>0.0</td>\n",
       "      <td>0.0</td>\n",
       "      <td>2</td>\n",
       "    </tr>\n",
       "    <tr>\n",
       "      <th>4</th>\n",
       "      <td>0.0</td>\n",
       "      <td>0.0</td>\n",
       "      <td>0.0</td>\n",
       "      <td>0.0</td>\n",
       "      <td>0.0</td>\n",
       "      <td>0.0</td>\n",
       "      <td>0.0</td>\n",
       "      <td>0.0</td>\n",
       "      <td>0.0</td>\n",
       "      <td>0.0</td>\n",
       "      <td>...</td>\n",
       "      <td>0.0</td>\n",
       "      <td>0.0</td>\n",
       "      <td>0.0</td>\n",
       "      <td>0.0</td>\n",
       "      <td>0.0</td>\n",
       "      <td>0.0</td>\n",
       "      <td>0.0</td>\n",
       "      <td>0.0</td>\n",
       "      <td>0.0</td>\n",
       "      <td>3</td>\n",
       "    </tr>\n",
       "  </tbody>\n",
       "</table>\n",
       "<p>5 rows × 785 columns</p>\n",
       "</div>"
      ],
      "text/plain": [
       "     0    1    2    3    4    5    6    7    8    9  ...  775  776  777  778  \\\n",
       "0  0.0  0.0  0.0  0.0  0.0  0.0  0.0  0.0  0.0  0.0  ...  0.0  0.0  0.0  0.0   \n",
       "1  0.0  0.0  0.0  0.0  0.0  0.0  0.0  0.0  0.0  0.0  ...  0.0  0.0  0.0  0.0   \n",
       "2  0.0  0.0  0.0  0.0  0.0  0.0  0.0  0.0  0.0  0.0  ...  0.0  0.0  0.0  0.0   \n",
       "3  0.0  0.0  0.0  0.0  0.0  0.0  0.0  0.0  0.0  0.0  ...  0.0  0.0  0.0  0.0   \n",
       "4  0.0  0.0  0.0  0.0  0.0  0.0  0.0  0.0  0.0  0.0  ...  0.0  0.0  0.0  0.0   \n",
       "\n",
       "   779  780  781  782  783  label  \n",
       "0  0.0  0.0  0.0  0.0  0.0      2  \n",
       "1  0.0  0.0  0.0  0.0  0.0      3  \n",
       "2  0.0  0.0  0.0  0.0  0.0      5  \n",
       "3  0.0  0.0  0.0  0.0  0.0      2  \n",
       "4  0.0  0.0  0.0  0.0  0.0      3  \n",
       "\n",
       "[5 rows x 785 columns]"
      ]
     },
     "execution_count": 7,
     "metadata": {},
     "output_type": "execute_result"
    }
   ],
   "source": [
    "mnist_train_df.head()"
   ]
  },
  {
   "cell_type": "code",
   "execution_count": 8,
   "id": "6b2416ab2923cbfb",
   "metadata": {
    "ExecuteTime": {
     "start_time": "2024-05-03T20:47:06.195797200Z"
    },
    "collapsed": false
   },
   "outputs": [
    {
     "data": {
      "text/plain": [
       "False"
      ]
     },
     "execution_count": 8,
     "metadata": {},
     "output_type": "execute_result"
    }
   ],
   "source": [
    "mnist_train_df.isna().any().any() # kiểm tra xem DF có chứa giá trị NaN nào không"
   ]
  },
  {
   "cell_type": "code",
   "execution_count": null,
   "id": "a085eb644fdde316",
   "metadata": {
    "ExecuteTime": {
     "start_time": "2024-05-03T20:47:06.195797200Z"
    },
    "collapsed": false
   },
   "outputs": [],
   "source": [
    "mnist_test_df.shape"
   ]
  },
  {
   "cell_type": "code",
   "execution_count": null,
   "id": "b55c1eba45c0174b",
   "metadata": {
    "ExecuteTime": {
     "start_time": "2024-05-03T20:47:06.211426Z"
    },
    "collapsed": false
   },
   "outputs": [],
   "source": [
    "mnist_test_df.describe()"
   ]
  },
  {
   "cell_type": "code",
   "execution_count": null,
   "id": "2242e30ee00dfdee",
   "metadata": {
    "ExecuteTime": {
     "start_time": "2024-05-03T20:47:06.211426Z"
    },
    "collapsed": false
   },
   "outputs": [],
   "source": [
    "mnist_test_df.head()"
   ]
  },
  {
   "cell_type": "code",
   "execution_count": null,
   "id": "a7f7f41224d3d3b1",
   "metadata": {
    "ExecuteTime": {
     "start_time": "2024-05-03T20:47:06.211426Z"
    },
    "collapsed": false
   },
   "outputs": [],
   "source": [
    "mnist_test_df.isnull().any().any() # kiểm tra các cột trong dữ liệu test xem có cột nào có chứa NaN/Null không"
   ]
  },
  {
   "cell_type": "code",
   "execution_count": 14,
   "id": "768094481e15fef5",
   "metadata": {
    "ExecuteTime": {
     "end_time": "2024-05-03T20:53:41.946450200Z",
     "start_time": "2024-05-03T20:53:41.879840600Z"
    },
    "collapsed": false
   },
   "outputs": [
    {
     "data": {
      "text/html": [
       "<div>\n",
       "<style scoped>\n",
       "    .dataframe tbody tr th:only-of-type {\n",
       "        vertical-align: middle;\n",
       "    }\n",
       "\n",
       "    .dataframe tbody tr th {\n",
       "        vertical-align: top;\n",
       "    }\n",
       "\n",
       "    .dataframe thead th {\n",
       "        text-align: right;\n",
       "    }\n",
       "</style>\n",
       "<table border=\"1\" class=\"dataframe\">\n",
       "  <thead>\n",
       "    <tr style=\"text-align: right;\">\n",
       "      <th></th>\n",
       "      <th>0</th>\n",
       "      <th>1</th>\n",
       "      <th>2</th>\n",
       "      <th>3</th>\n",
       "      <th>4</th>\n",
       "      <th>5</th>\n",
       "      <th>6</th>\n",
       "      <th>7</th>\n",
       "      <th>8</th>\n",
       "      <th>9</th>\n",
       "      <th>...</th>\n",
       "      <th>774</th>\n",
       "      <th>775</th>\n",
       "      <th>776</th>\n",
       "      <th>777</th>\n",
       "      <th>778</th>\n",
       "      <th>779</th>\n",
       "      <th>780</th>\n",
       "      <th>781</th>\n",
       "      <th>782</th>\n",
       "      <th>783</th>\n",
       "    </tr>\n",
       "  </thead>\n",
       "  <tbody>\n",
       "    <tr>\n",
       "      <th>0</th>\n",
       "      <td>0.0</td>\n",
       "      <td>0.0</td>\n",
       "      <td>0.0</td>\n",
       "      <td>0.0</td>\n",
       "      <td>0.0</td>\n",
       "      <td>0.0</td>\n",
       "      <td>0.0</td>\n",
       "      <td>0.0</td>\n",
       "      <td>0.0</td>\n",
       "      <td>0.0</td>\n",
       "      <td>...</td>\n",
       "      <td>0.0</td>\n",
       "      <td>0.0</td>\n",
       "      <td>0.0</td>\n",
       "      <td>0.0</td>\n",
       "      <td>0.0</td>\n",
       "      <td>0.0</td>\n",
       "      <td>0.0</td>\n",
       "      <td>0.0</td>\n",
       "      <td>0.0</td>\n",
       "      <td>0.0</td>\n",
       "    </tr>\n",
       "    <tr>\n",
       "      <th>1</th>\n",
       "      <td>0.0</td>\n",
       "      <td>0.0</td>\n",
       "      <td>0.0</td>\n",
       "      <td>0.0</td>\n",
       "      <td>0.0</td>\n",
       "      <td>0.0</td>\n",
       "      <td>0.0</td>\n",
       "      <td>0.0</td>\n",
       "      <td>0.0</td>\n",
       "      <td>0.0</td>\n",
       "      <td>...</td>\n",
       "      <td>0.0</td>\n",
       "      <td>0.0</td>\n",
       "      <td>0.0</td>\n",
       "      <td>0.0</td>\n",
       "      <td>0.0</td>\n",
       "      <td>0.0</td>\n",
       "      <td>0.0</td>\n",
       "      <td>0.0</td>\n",
       "      <td>0.0</td>\n",
       "      <td>0.0</td>\n",
       "    </tr>\n",
       "    <tr>\n",
       "      <th>2</th>\n",
       "      <td>0.0</td>\n",
       "      <td>0.0</td>\n",
       "      <td>0.0</td>\n",
       "      <td>0.0</td>\n",
       "      <td>0.0</td>\n",
       "      <td>0.0</td>\n",
       "      <td>0.0</td>\n",
       "      <td>0.0</td>\n",
       "      <td>0.0</td>\n",
       "      <td>0.0</td>\n",
       "      <td>...</td>\n",
       "      <td>0.0</td>\n",
       "      <td>0.0</td>\n",
       "      <td>0.0</td>\n",
       "      <td>0.0</td>\n",
       "      <td>0.0</td>\n",
       "      <td>0.0</td>\n",
       "      <td>0.0</td>\n",
       "      <td>0.0</td>\n",
       "      <td>0.0</td>\n",
       "      <td>0.0</td>\n",
       "    </tr>\n",
       "    <tr>\n",
       "      <th>3</th>\n",
       "      <td>0.0</td>\n",
       "      <td>0.0</td>\n",
       "      <td>0.0</td>\n",
       "      <td>0.0</td>\n",
       "      <td>0.0</td>\n",
       "      <td>0.0</td>\n",
       "      <td>0.0</td>\n",
       "      <td>0.0</td>\n",
       "      <td>0.0</td>\n",
       "      <td>0.0</td>\n",
       "      <td>...</td>\n",
       "      <td>0.0</td>\n",
       "      <td>0.0</td>\n",
       "      <td>0.0</td>\n",
       "      <td>0.0</td>\n",
       "      <td>0.0</td>\n",
       "      <td>0.0</td>\n",
       "      <td>0.0</td>\n",
       "      <td>0.0</td>\n",
       "      <td>0.0</td>\n",
       "      <td>0.0</td>\n",
       "    </tr>\n",
       "    <tr>\n",
       "      <th>4</th>\n",
       "      <td>0.0</td>\n",
       "      <td>0.0</td>\n",
       "      <td>0.0</td>\n",
       "      <td>0.0</td>\n",
       "      <td>0.0</td>\n",
       "      <td>0.0</td>\n",
       "      <td>0.0</td>\n",
       "      <td>0.0</td>\n",
       "      <td>0.0</td>\n",
       "      <td>0.0</td>\n",
       "      <td>...</td>\n",
       "      <td>0.0</td>\n",
       "      <td>0.0</td>\n",
       "      <td>0.0</td>\n",
       "      <td>0.0</td>\n",
       "      <td>0.0</td>\n",
       "      <td>0.0</td>\n",
       "      <td>0.0</td>\n",
       "      <td>0.0</td>\n",
       "      <td>0.0</td>\n",
       "      <td>0.0</td>\n",
       "    </tr>\n",
       "  </tbody>\n",
       "</table>\n",
       "<p>5 rows × 784 columns</p>\n",
       "</div>"
      ],
      "text/plain": [
       "   0    1    2    3    4    5    6    7    8    9    ...  774  775  776  777  \\\n",
       "0  0.0  0.0  0.0  0.0  0.0  0.0  0.0  0.0  0.0  0.0  ...  0.0  0.0  0.0  0.0   \n",
       "1  0.0  0.0  0.0  0.0  0.0  0.0  0.0  0.0  0.0  0.0  ...  0.0  0.0  0.0  0.0   \n",
       "2  0.0  0.0  0.0  0.0  0.0  0.0  0.0  0.0  0.0  0.0  ...  0.0  0.0  0.0  0.0   \n",
       "3  0.0  0.0  0.0  0.0  0.0  0.0  0.0  0.0  0.0  0.0  ...  0.0  0.0  0.0  0.0   \n",
       "4  0.0  0.0  0.0  0.0  0.0  0.0  0.0  0.0  0.0  0.0  ...  0.0  0.0  0.0  0.0   \n",
       "\n",
       "   778  779  780  781  782  783  \n",
       "0  0.0  0.0  0.0  0.0  0.0  0.0  \n",
       "1  0.0  0.0  0.0  0.0  0.0  0.0  \n",
       "2  0.0  0.0  0.0  0.0  0.0  0.0  \n",
       "3  0.0  0.0  0.0  0.0  0.0  0.0  \n",
       "4  0.0  0.0  0.0  0.0  0.0  0.0  \n",
       "\n",
       "[5 rows x 784 columns]"
      ]
     },
     "execution_count": 14,
     "metadata": {},
     "output_type": "execute_result"
    }
   ],
   "source": [
    "y_train = mnist_train_df['label'] \n",
    "X_train = mnist_train_df.drop('label', axis=1) \n",
    "X_train.head()"
   ]
  },
  {
   "cell_type": "code",
   "execution_count": null,
   "id": "c5362720",
   "metadata": {
    "ExecuteTime": {
     "end_time": "2024-05-03T20:50:17.454417300Z",
     "start_time": "2024-05-03T20:50:14.904977600Z"
    }
   },
   "outputs": [],
   "source": [
    "# hiển thị random 20 ảnh trong tập train\n",
    "random_indices = np.random.randint(0, len(X_train), size=20)\n",
    "\n",
    "fig, axis = plt.subplots(2, 10, figsize=(20, 5))\n",
    "for i, ax in zip(random_indices, axis.flat):\n",
    "    grid_data = X_train.iloc[i].values.reshape(28, 28)\n",
    "    ax.imshow(X_train.iloc[i].values.reshape(28, 28),\n",
    "              interpolation='none', cmap='gray')\n",
    "\n",
    "    number = y_train[i]\n",
    "    ax.set(title=f\"Number {number}\")"
   ]
  },
  {
   "cell_type": "code",
   "execution_count": null,
   "id": "23604367",
   "metadata": {
    "ExecuteTime": {
     "start_time": "2024-05-03T20:47:06.227050500Z"
    }
   },
   "outputs": [],
   "source": [
    "# Vẽ biểu đồ histogram thống kê số lượng ảnh mỗi nhãn trên tập train\n",
    "plt.figure(figsize=(8, 6))\n",
    "counts, _, _ = plt.hist(y_train, bins=range(\n",
    "    11), align='left', rwidth=0.8, color='lightblue', edgecolor='black')\n",
    "plt.title('Histogram of Labels In Training Set')\n",
    "plt.xlabel('Label')\n",
    "plt.ylabel('Frequency')\n",
    "plt.xticks(range(10))\n",
    "\n",
    "# Hiển thị số lượng trên đỉnh của từng cột\n",
    "for i, count in enumerate(counts):\n",
    "    plt.text(i, count + 0.5, str(int(count)),\n",
    "             fontsize=10, color='black', ha='center', va='bottom')\n",
    "\n",
    "plt.grid(axis='y', alpha=0.5)\n",
    "plt.show()"
   ]
  },
  {
   "cell_type": "code",
   "execution_count": null,
   "id": "991cbf41395b7d95",
   "metadata": {
    "ExecuteTime": {
     "end_time": "2024-05-03T20:53:48.946782700Z",
     "start_time": "2024-05-03T20:53:48.899391Z"
    },
    "collapsed": false
   },
   "outputs": [],
   "source": [
    "y_test = mnist_test_df['label']\n",
    "X_test = mnist_test_df.drop('label', axis=1)"
   ]
  },
  {
   "cell_type": "code",
   "execution_count": null,
   "id": "ff1677eecfcfff40",
   "metadata": {
    "ExecuteTime": {
     "start_time": "2024-05-03T20:47:06.237029300Z"
    },
    "collapsed": false
   },
   "outputs": [],
   "source": [
    "# Vẽ biểu đồ histogram thống kê số lượng nhãn ứng với mỗi nhãn trong tập test\n",
    "plt.figure(figsize=(8, 6))\n",
    "counts, _, _ = plt.hist(y_test, bins=range(\n",
    "    11), align='left', rwidth=0.8, color='lightblue', edgecolor='black')\n",
    "plt.title('Histogram of Labels In Testing Set')\n",
    "plt.xlabel('Label')\n",
    "plt.ylabel('Frequency')\n",
    "plt.xticks(range(10))\n",
    "\n",
    "# Hiển thị số lượng trên đỉnh của từng cột\n",
    "for i, count in enumerate(counts):\n",
    "    plt.text(i, count + 0.5, str(int(count)),\n",
    "             fontsize=10, color='black', ha='center', va='bottom')\n",
    "\n",
    "plt.grid(axis='y', alpha=0.5)\n",
    "plt.show()"
   ]
  },
  {
   "cell_type": "code",
   "execution_count": null,
   "id": "d4729811",
   "metadata": {
    "ExecuteTime": {
     "start_time": "2024-05-03T20:47:06.237029300Z"
    }
   },
   "outputs": [],
   "source": [
    "# hiển thị random 20 ảnh trong tập test\n",
    "random_indices = np.random.randint(0, len(X_test), size=20)\n",
    "\n",
    "fig, axis = plt.subplots(2, 10, figsize=(20, 5))\n",
    "for i, ax in zip(random_indices, axis.flat):\n",
    "    grid_data = X_test.iloc[i].values.reshape(28, 28)\n",
    "    ax.imshow(X_test.iloc[i].values.reshape(28, 28),\n",
    "              interpolation='none', cmap='gray')\n",
    "   \n",
    "    number = y_test[i]\n",
    "    ax.set(title=f\"Number {number}\")"
   ]
  },
  {
   "cell_type": "code",
   "execution_count": null,
   "id": "a7c71ab5",
   "metadata": {
    "ExecuteTime": {
     "end_time": "2024-05-03T20:53:53.940468900Z",
     "start_time": "2024-05-03T20:53:53.909105500Z"
    }
   },
   "outputs": [],
   "source": [
    "# Kết hợp tập train, test -> tập dữ liệu\n",
    "y = np.concatenate((y_train, y_test))\n",
    "y.shape"
   ]
  },
  {
   "cell_type": "code",
   "execution_count": null,
   "id": "83587722",
   "metadata": {
    "ExecuteTime": {
     "start_time": "2024-05-03T20:47:06.237029300Z"
    }
   },
   "outputs": [],
   "source": [
    "# Vẽ biểu đồ histogram thống kê số lượng ảnh trong mỗi class trên toàn bộ bộ dữ liệu MNIST\n",
    "plt.figure(figsize=(8, 6))\n",
    "counts, _, _ = plt.hist(y, bins=range(\n",
    "    11), align='left', rwidth=0.8, color='lightblue', edgecolor='black')\n",
    "plt.title('Histogram of Labels In MNIST')\n",
    "plt.xlabel('Label')\n",
    "plt.ylabel('Frequency')\n",
    "plt.xticks(range(10))\n",
    "\n",
    "# Hiển thị số lượng trên đỉnh của từng cột\n",
    "for i, count in enumerate(counts):\n",
    "    plt.text(i, count + 0.5, str(int(count)),\n",
    "             fontsize=10, color='black', ha='center', va='bottom')\n",
    "\n",
    "plt.grid(axis='y', alpha=0.5)\n",
    "plt.show()"
   ]
  },
  {
   "cell_type": "code",
   "execution_count": null,
   "id": "b9f19359",
   "metadata": {
    "ExecuteTime": {
     "end_time": "2024-05-03T20:53:56.429974Z",
     "start_time": "2024-05-03T20:53:56.310093500Z"
    }
   },
   "outputs": [],
   "source": [
    "# Gộp X_train và X_test thành X\n",
    "X = np.concatenate((X_train, X_test))\n",
    "X.shape"
   ]
  },
  {
   "cell_type": "code",
   "execution_count": null,
   "id": "4a46081c",
   "metadata": {
    "ExecuteTime": {
     "start_time": "2024-05-03T20:47:06.237029300Z"
    }
   },
   "outputs": [],
   "source": [
    "# hiển thị random 20 ảnh trong tập MNIST\n",
    "random_indices = np.random.randint(0, len(X), size=20)\n",
    "\n",
    "fig, axis = plt.subplots(2, 10, figsize=(20, 5))\n",
    "for i, ax in zip(random_indices, axis.flat):\n",
    "    grid_data = X[i].reshape(28, 28)\n",
    "    ax.imshow(grid_data,\n",
    "              interpolation='none', cmap='gray')\n",
    "    \n",
    "    number = y[i]\n",
    "    ax.set(title=f\"Number {number}\")"
   ]
  },
  {
   "cell_type": "code",
   "execution_count": null,
   "id": "6fb38186",
   "metadata": {},
   "outputs": [],
   "source": [
    "print(np.mean(X, axis=1))"
   ]
  },
  {
   "cell_type": "code",
   "execution_count": null,
   "id": "7e36f3fc",
   "metadata": {
    "ExecuteTime": {
     "end_time": "2024-05-03T20:54:00.898723400Z",
     "start_time": "2024-05-03T20:53:59.027003400Z"
    }
   },
   "outputs": [],
   "source": [
    "from my_pca import MyPCA\n",
    "my_pca_2d = MyPCA(n_components=2)\n",
    "my_pca_2d.fit(X)\n",
    "\n",
    "values_2d, vectors_2d = my_pca_2d.eigenvalues_, my_pca_2d.eigenvectors_\n",
    "\n",
    "print(f'First 10 eigenvalues: {values_2d[:10]}')\n",
    "print(f'\\n\\nLast 10 eigenvalues: {values_2d[-10:]}')"
   ]
  },
  {
   "cell_type": "code",
   "execution_count": null,
   "id": "c942a1f8",
   "metadata": {
    "ExecuteTime": {
     "start_time": "2024-05-03T20:47:06.256858300Z"
    }
   },
   "outputs": [],
   "source": [
    "print('Components:\\n', my_pca_2d.components_)\n",
    "print('Explained variance ratio:\\n', my_pca_2d.explained_variance_ratio_)"
   ]
  },
  {
   "cell_type": "code",
   "execution_count": null,
   "id": "79c2a021",
   "metadata": {
    "ExecuteTime": {
     "start_time": "2024-05-03T20:47:06.259618600Z"
    }
   },
   "outputs": [],
   "source": [
    "my_pca_2d.components_.shape"
   ]
  },
  {
   "cell_type": "code",
   "execution_count": null,
   "id": "27d2e441",
   "metadata": {
    "ExecuteTime": {
     "start_time": "2024-05-03T20:47:06.259618600Z"
    }
   },
   "outputs": [],
   "source": [
    "cum_explained_variance = my_pca_2d.cum_explained_variance_\n",
    "print('Cumulative explained variance:\\n', cum_explained_variance)"
   ]
  },
  {
   "cell_type": "code",
   "execution_count": null,
   "id": "c59f5b57",
   "metadata": {
    "ExecuteTime": {
     "start_time": "2024-05-03T20:47:06.259618600Z"
    }
   },
   "outputs": [],
   "source": [
    "d = X.shape[1]\n",
    "d"
   ]
  },
  {
   "cell_type": "code",
   "execution_count": null,
   "id": "d4c4fa30",
   "metadata": {
    "ExecuteTime": {
     "start_time": "2024-05-03T20:47:06.259618600Z"
    }
   },
   "outputs": [],
   "source": [
    "percentage_var_explained = my_pca_2d.explained_variance_ratio_all / \\\n",
    "    np.sum(my_pca_2d.explained_variance_ratio_all)\n",
    "\n",
    "cum_var_explained = np.cumsum(percentage_var_explained)"
   ]
  },
  {
   "cell_type": "code",
   "execution_count": null,
   "id": "833127dd",
   "metadata": {
    "ExecuteTime": {
     "start_time": "2024-05-03T20:47:06.259618600Z"
    }
   },
   "outputs": [],
   "source": [
    "cum_var_explained"
   ]
  },
  {
   "cell_type": "code",
   "execution_count": null,
   "id": "93119650",
   "metadata": {
    "ExecuteTime": {
     "start_time": "2024-05-03T20:47:06.259618600Z"
    }
   },
   "outputs": [],
   "source": [
    "# Plot the PCA spectrum\n",
    "plt.figure(1, figsize=(6, 4))\n",
    "\n",
    "plt.clf()\n",
    "plt.plot(cum_var_explained, linewidth=2)\n",
    "plt.axis('tight')\n",
    "plt.grid()\n",
    "plt.xlabel('n_components')\n",
    "plt.ylabel('% explained variance')\n",
    "plt.show()"
   ]
  },
  {
   "cell_type": "code",
   "execution_count": null,
   "id": "e0432670",
   "metadata": {},
   "outputs": [],
   "source": [
    "plt.figure(figsize=(10, 8))\n",
    "plt.stem(values_2d[:d+1])\n",
    "plt.xlabel('Eigen value index')\n",
    "plt.ylabel('Eigen value')\n",
    "plt.show()"
   ]
  },
  {
   "cell_type": "code",
   "execution_count": null,
   "id": "5236629b",
   "metadata": {
    "ExecuteTime": {
     "start_time": "2024-05-03T20:47:06.259618600Z"
    }
   },
   "outputs": [],
   "source": [
    "X_pca_2d = my_pca_2d.transform(X)  # Apply dimensionality reduction to X.\n",
    "print('Transformed data shape:', X_pca_2d.shape)"
   ]
  },
  {
   "cell_type": "code",
   "execution_count": null,
   "id": "76493fbb",
   "metadata": {
    "ExecuteTime": {
     "start_time": "2024-05-03T20:47:06.259618600Z"
    }
   },
   "outputs": [],
   "source": [
    "X_pca_2d[:, 0], X_pca_2d[:, 1]"
   ]
  },
  {
   "cell_type": "code",
   "execution_count": 16,
   "id": "e99a62bc",
   "metadata": {
    "ExecuteTime": {
     "start_time": "2024-05-03T20:47:06.259618600Z"
    }
   },
   "outputs": [
    {
     "name": "stdout",
     "output_type": "stream",
     "text": [
      "Components:\n",
      " [[-2.2390335e-08 -4.4697447e-11 -1.9923056e-11 ... -0.0000000e+00\n",
      "  -0.0000000e+00 -0.0000000e+00]\n",
      " [ 1.5466993e-08 -1.3784145e-08  5.0210569e-10 ... -0.0000000e+00\n",
      "  -0.0000000e+00 -0.0000000e+00]\n",
      " [ 7.4152126e-08  4.5150816e-09 -7.5528965e-11 ... -0.0000000e+00\n",
      "  -0.0000000e+00 -0.0000000e+00]\n",
      " ...\n",
      " [ 1.5216401e-08  5.5324372e-09  8.7840437e-09 ...  0.0000000e+00\n",
      "   0.0000000e+00  0.0000000e+00]\n",
      " [-8.5356193e-09  4.6953104e-09  3.3190766e-08 ...  0.0000000e+00\n",
      "   0.0000000e+00  0.0000000e+00]\n",
      " [ 1.0828573e-08  1.7619438e-08 -9.3258623e-10 ... -0.0000000e+00\n",
      "  -0.0000000e+00 -0.0000000e+00]]\n",
      "Explained variance ratio:\n",
      " [0.05646716 0.04078269 0.03739382 0.02885119 0.0252111  0.0219427\n",
      " 0.01923346 0.017458   0.01535094 0.01401721 0.01341743 0.01203743\n",
      " 0.01114571 0.01089924 0.0102865  0.00994486 0.00936383 0.00921046\n",
      " 0.00893437 0.00869912 0.00827362 0.00803412 0.0076484  0.00741769\n",
      " 0.00715273 0.00691806 0.00684108 0.00656618 0.00631592 0.00612864\n",
      " 0.0059586  0.0058757  0.00571337 0.00562112 0.00554568 0.00538043\n",
      " 0.00530618 0.00518958 0.00506858 0.00478975 0.00474012 0.00468545\n",
      " 0.0045098  0.00446836 0.00442939 0.00440069 0.0043052  0.00427058\n",
      " 0.00420613 0.00418389]\n",
      "Cumulative explained variance:\n",
      " 0.55059224\n",
      "Transformed data shape: (60000, 50)\n"
     ]
    }
   ],
   "source": [
    "from sklearn.decomposition import PCA\n",
    "from sklearn.preprocessing import StandardScaler\n",
    "X = X_train.to_numpy()\n",
    "X_std = StandardScaler().fit_transform(X)\n",
    "\n",
    "pca = PCA(n_components=50).fit(X_std)\n",
    "\n",
    "print('Components:\\n', pca.components_)\n",
    "print('Explained variance ratio:\\n', pca.explained_variance_ratio_)\n",
    "\n",
    "cum_explained_variance = np.cumsum(pca.explained_variance_ratio_)\n",
    "print('Cumulative explained variance:\\n', cum_explained_variance[49])\n",
    "\n",
    "X_pca = pca.transform(X_std)  # Apply dimensionality reduction to X.\n",
    "print('Transformed data shape:', X_pca.shape)"
   ]
  },
  {
   "cell_type": "code",
   "execution_count": null,
   "id": "ddcccddc",
   "metadata": {
    "ExecuteTime": {
     "start_time": "2024-05-03T20:47:06.271078300Z"
    }
   },
   "outputs": [],
   "source": [
    "X_pca[:, 0], X_pca[:, 1]"
   ]
  },
  {
   "cell_type": "code",
   "execution_count": null,
   "id": "d5b8a8a7",
   "metadata": {
    "ExecuteTime": {
     "start_time": "2024-05-03T20:47:06.273641900Z"
    }
   },
   "outputs": [],
   "source": [
    "plt.figure(figsize=(10, 8))\n",
    "\n",
    "\n",
    "plt.scatter(X_pca_2d[:, 0], X_pca_2d[:, 1], c=y, edgecolor=\"none\")\n",
    "plt.xlabel(\"PC 1\")\n",
    "plt.ylabel(\"PC 2\")\n",
    "plt.title('2 components, captures {:.4f}% of total variation'.format(\n",
    "    cum_explained_variance[1]*100))\n",
    "plt.colorbar()\n",
    "plt.show()"
   ]
  },
  {
   "cell_type": "code",
   "execution_count": null,
   "id": "bad6fc52",
   "metadata": {
    "ExecuteTime": {
     "start_time": "2024-05-03T20:47:06.279048900Z"
    }
   },
   "outputs": [],
   "source": [
    "pca_3d = MyPCA(3)\n",
    "pca_3d.fit(X)\n",
    "\n",
    "values_3d, vectors_3d = pca_3d.eigenvalues_, pca_3d.eigenvectors_\n",
    "\n",
    "print(f'First 10 eigenvalues: {values_3d[:10]}')\n",
    "print(f'\\n\\nLast 10 eigenvalues: {values_3d[-10:]}')\n",
    "\n",
    "X_pca_3d = pca_3d.transform(X)  # Apply dimensionality reduction to X.\n",
    "print('Transformed data shape:', X_pca_3d.shape)"
   ]
  },
  {
   "cell_type": "code",
   "execution_count": null,
   "id": "432696c0",
   "metadata": {
    "ExecuteTime": {
     "start_time": "2024-05-03T20:47:06.279048900Z"
    }
   },
   "outputs": [],
   "source": [
    "X_pca_3d[:, 0], X_pca_3d[:, 1], X_pca_3d[:,2]"
   ]
  },
  {
   "cell_type": "code",
   "execution_count": null,
   "id": "bbab0695",
   "metadata": {
    "ExecuteTime": {
     "start_time": "2024-05-03T20:47:06.279048900Z"
    }
   },
   "outputs": [],
   "source": [
    "cum_explained_variance_3d = pca_3d.cum_explained_variance_\n",
    "cum_explained_variance_3d"
   ]
  },
  {
   "cell_type": "code",
   "execution_count": null,
   "id": "29f591ae",
   "metadata": {
    "ExecuteTime": {
     "start_time": "2024-05-03T20:47:06.279048900Z"
    }
   },
   "outputs": [],
   "source": [
    "from mpl_toolkits.mplot3d import Axes3D\n",
    "\n",
    "# Tạo một figure mới với kích thước lớn hơn\n",
    "fig = plt.figure(figsize=(10, 8))\n",
    "\n",
    "# Tạo subplot 3D\n",
    "ax = fig.add_subplot(111, projection='3d')\n",
    "\n",
    "\n",
    "# Vẽ scatter plot trong không gian 3D\n",
    "scatter = ax.scatter(X_pca_3d[:, 0], X_pca_3d[:, 1], X_pca_3d[:, 2], c=y, edgecolor=\"none\",\n",
    "                     alpha=1, cmap=plt.cm.get_cmap(\"viridis\", 10))\n",
    "\n",
    "\n",
    "# Đặt nhãn cho các trục\n",
    "ax.set_xlabel('PC 1')\n",
    "ax.set_ylabel('PC 2')\n",
    "ax.set_zlabel('PC 3')\n",
    "\n",
    "# Đặt tiêu đề cho biểu đồ\n",
    "ax.set_title('3 components, captures {:.2f}% of total variation'.format(\n",
    "    cum_explained_variance_3d[2].round(4)*100))\n",
    "\n",
    "# Thêm colorbar\n",
    "plt.colorbar(scatter, ax=ax, label='Label')\n",
    "\n",
    "# Hiển thị biểu đồ\n",
    "plt.show()"
   ]
  },
  {
   "cell_type": "code",
   "execution_count": null,
   "id": "d1bd37fc",
   "metadata": {
    "ExecuteTime": {
     "start_time": "2024-05-03T20:47:06.279048900Z"
    }
   },
   "outputs": [],
   "source": [
    "# Tính giá trị trung bình của mỗi cột\n",
    "mean_X= np.mean(X, axis=0)\n",
    "\n",
    "# Tính độ lệch chuẩn của từng cột thuộc tính\n",
    "std_X = np.std(X, axis=0)\n",
    "std_X[std_X == 0] = 1e-16 # thay std tại những cột có std = 0 để tránh xảy ra lỗi khi thực hiện chuẩn hóa\n",
    "\n",
    "# khôi phục cấu trúc dữ liệu dạng chuẩn X từ dữ liệu đã được đưa về không gian 2 chiều\n",
    "X_reconstructed_2d = np.dot(X_pca_2d, vectors_2d[:2])\n",
    "\n",
    "# Từ cấu trúc dữ liệu dạng chuẩn -> đưa về cấu trúc dạng ban đầu\n",
    "data_reconstructed_2d = (X_reconstructed_2d * std_X) + mean_X"
   ]
  },
  {
   "cell_type": "code",
   "execution_count": null,
   "id": "04687276",
   "metadata": {
    "ExecuteTime": {
     "start_time": "2024-05-03T20:47:06.279048900Z"
    }
   },
   "outputs": [],
   "source": [
    "# hiển thị random 10 ảnh trong tập dữ liệu\n",
    "random_indices = np.random.randint(0, len(X), size=10)\n",
    "\n",
    "fig, axis = plt.subplots(1, 10, figsize=(20, 5))\n",
    "for i, ax in zip(random_indices, axis.flat):\n",
    "    grid_data = X[i].reshape(28, 28)\n",
    "    ax.imshow(grid_data,\n",
    "              interpolation='none', cmap='binary')\n",
    "    \n",
    "    number = y[i]\n",
    "    ax.set(title=f\"Number {number}\")"
   ]
  },
  {
   "cell_type": "code",
   "execution_count": null,
   "id": "29de5490",
   "metadata": {
    "ExecuteTime": {
     "start_time": "2024-05-03T20:47:06.279048900Z"
    }
   },
   "outputs": [],
   "source": [
    "# hiển thị 10 được khôi phục từ không gian 2D\n",
    "fig, axis = plt.subplots(1, 10, figsize=(20, 5))\n",
    "for i, ax in zip(random_indices, axis.flat):\n",
    "    grid_data = data_reconstructed_2d[i].reshape(28, 28)\n",
    "    ax.imshow(grid_data,\n",
    "              interpolation='none', cmap='binary')\n",
    "    \n",
    "    number = y[i]\n",
    "    ax.set(title=f\"Number {number}\")"
   ]
  },
  {
   "cell_type": "code",
   "execution_count": null,
   "id": "731c56b6",
   "metadata": {
    "ExecuteTime": {
     "start_time": "2024-05-03T20:47:06.279048900Z"
    }
   },
   "outputs": [],
   "source": [
    "X_reconstructed_3d = np.dot(X_pca_3d, vectors_3d[:3])\n",
    "data_reconstructed_3d = (X_reconstructed_3d * std_X) + mean_X\n",
    "\n",
    "# hiển thị 10 ảnh được khôi phục từ 3D\n",
    "fig, axis = plt.subplots(1, 10, figsize=(20, 5))\n",
    "for i, ax in zip(random_indices, axis.flat):\n",
    "    grid_data = data_reconstructed_3d[i].reshape(28, 28)\n",
    "    ax.imshow(grid_data,\n",
    "              interpolation='none', cmap='binary')\n",
    "\n",
    "    number = y[i]\n",
    "    ax.set(title=f\"Number {number}\")"
   ]
  },
  {
   "cell_type": "code",
   "execution_count": null,
   "id": "7daf7c59",
   "metadata": {
    "ExecuteTime": {
     "start_time": "2024-05-03T20:47:06.279048900Z"
    }
   },
   "outputs": [],
   "source": [
    "pca_100d = MyPCA(100)\n",
    "X_pca_100d = pca_100d.fit_transform(X)\n",
    "print(f\"Raito Varicane: {pca_100d.cum_explained_variance_[99] * 100:.4f} %\")"
   ]
  },
  {
   "cell_type": "code",
   "execution_count": null,
   "id": "4150390b",
   "metadata": {
    "ExecuteTime": {
     "start_time": "2024-05-03T20:47:06.279048900Z"
    }
   },
   "outputs": [],
   "source": [
    "X_reconstructed_100d = np.dot(X_pca_100d, pca_100d.eigenvectors_[:100])\n",
    "data_reconstructed_100d = (X_reconstructed_3d * std_X) + mean_X\n",
    "reconstructed_images_100d = np.reshape(data_reconstructed_100d, (-1, 28, 28))\n",
    "\n",
    "# hiển thị 10 ảnh được khôi phục từ không gian 100D\n",
    "fig, axis = plt.subplots(1, 10, figsize=(20, 5))\n",
    "for i, ax in zip(random_indices, axis.flat):\n",
    "    grid_data = data_reconstructed_100d[i].reshape(28, 28)\n",
    "    ax.imshow(grid_data,\n",
    "              interpolation='none', cmap='binary')\n",
    "\n",
    "    number = y[i]\n",
    "    ax.set(title=f\"Number {number}\")"
   ]
  }
 ],
 "metadata": {
  "kernelspec": {
   "display_name": "Python 3",
   "language": "python",
   "name": "python3"
  },
  "language_info": {
   "codemirror_mode": {
    "name": "ipython",
    "version": 3
   },
   "file_extension": ".py",
   "mimetype": "text/x-python",
   "name": "python",
   "nbconvert_exporter": "python",
   "pygments_lexer": "ipython3",
   "version": "3.11.7"
  }
 },
 "nbformat": 4,
 "nbformat_minor": 5
}
