{
 "cells": [
  {
   "cell_type": "code",
   "execution_count": 4,
   "metadata": {},
   "outputs": [],
   "source": [
    "import os\n",
    "import numpy as np\n",
    "import pandas as pd\n",
    "from scipy.special import logsumexp\n",
    "from sklearn.decomposition import PCA\n",
    "import gzip\n",
    "\n",
    "from my_gmm import GaussianMixtureModel"
   ]
  },
  {
   "cell_type": "code",
   "execution_count": 5,
   "metadata": {},
   "outputs": [],
   "source": [
    "data_path = ''\n",
    "\n",
    "# Đường dẫn\n",
    "images_train_path = os.path.join(data_path, 'train-images-idx3-ubyte.gz')\n",
    "labels_train_path = os.path.join(data_path, 'train-labels-idx1-ubyte.gz')\n",
    "\n",
    "images_test_path = os.path.join(data_path, 't10k-images-idx3-ubyte.gz')\n",
    "labels_test_path = os.path.join(data_path, 't10k-labels-idx1-ubyte.gz')\n",
    "\n",
    "\n",
    "def get_mnist_data_as_dataframe(images_path, labels_path, shuffle=False, image_size=28):\n",
    "    # Đọc dữ liệu ảnh\n",
    "    with gzip.open(images_path, 'r') as f_images:\n",
    "        # Bỏ qua 16 byte đầu tiên vì đây không phải là dữ liệu, chỉ là thông tin header\n",
    "        f_images.read(16)\n",
    "\n",
    "        # Đọc tất cả dữ liệu sau khi bỏ đi phần head\n",
    "        buf_images = f_images.read()\n",
    "\n",
    "        # Chuyển dữ liệu thành numpy array và đổi dtype thành float32\n",
    "        images = np.frombuffer(buf_images, dtype=np.uint8).astype(np.float32)\n",
    "\n",
    "        # Reshape dữ liệu thành dạng (num_images, image_size*image_size)\n",
    "        images = images.reshape(-1, image_size * image_size)\n",
    "\n",
    "    # Đọc tệp labels\n",
    "    with gzip.open(labels_path, 'r') as f_labels:\n",
    "        f_labels.read(8)\n",
    "        buf_labels = f_labels.read()\n",
    "        labels = np.frombuffer(buf_labels, dtype=np.uint8).astype(np.int64)\n",
    "\n",
    "    # Tạo DataFrame từ dữ liệu ảnh\n",
    "    df_images = pd.DataFrame(images)\n",
    "\n",
    "    # Thêm cột label vào DataFrame dữ liệu ảnh\n",
    "    df_images['label'] = labels\n",
    "\n",
    "    # Trộn dữ liệu trong dataframe\n",
    "    if shuffle:\n",
    "        df_images = df_images.sample(frac=1).reset_index(drop=True)\n",
    "\n",
    "    return df_images\n",
    "\n",
    "\n",
    "# dataframe train\n",
    "mnist_train_df = get_mnist_data_as_dataframe(\n",
    "    images_train_path, labels_train_path, shuffle=True)\n",
    "\n",
    "# dataframe test\n",
    "mnist_test_df = get_mnist_data_as_dataframe(\n",
    "    images_test_path, labels_test_path, shuffle=True)\n",
    "\n",
    "# Convert DataFrames to NumPy arrays\n",
    "y_train = mnist_train_df['label'].values\n",
    "X_train = mnist_train_df.drop(columns=['label']).values / 255.0\n",
    "\n",
    "y_test = mnist_test_df['label'].values\n",
    "X_test = mnist_test_df.drop(columns=['label']).values / 255.0"
   ]
  },
  {
   "cell_type": "code",
   "execution_count": 16,
   "metadata": {},
   "outputs": [
    {
     "name": "stdout",
     "output_type": "stream",
     "text": [
      "(60000, 784)\n",
      "(60000,)\n"
     ]
    }
   ],
   "source": [
    "print(X_train.shape)\n",
    "print(y_train.shape)"
   ]
  },
  {
   "cell_type": "code",
   "execution_count": 17,
   "metadata": {},
   "outputs": [
    {
     "name": "stdout",
     "output_type": "stream",
     "text": [
      "(10000, 784)\n",
      "(10000,)\n"
     ]
    }
   ],
   "source": [
    "print(X_test.shape)\n",
    "print(y_test.shape)"
   ]
  },
  {
   "cell_type": "code",
   "execution_count": 6,
   "metadata": {},
   "outputs": [
    {
     "name": "stdout",
     "output_type": "stream",
     "text": [
      "Fitting GMM to digit 0\n",
      "EM for GMM converged after  35 iteration, with loss:  -3043751.3928405656\n",
      "GMM parameters computed for digit = 0\n",
      "Fitting GMM to digit 1\n",
      "EM for GMM converged after  23 iteration, with loss:  -3980924.7846314334\n",
      "GMM parameters computed for digit = 1\n",
      "Fitting GMM to digit 2\n",
      "EM for GMM converged after  15 iteration, with loss:  -2956922.774048416\n",
      "GMM parameters computed for digit = 2\n",
      "Fitting GMM to digit 3\n",
      "EM for GMM converged after  12 iteration, with loss:  -3128223.390950055\n",
      "GMM parameters computed for digit = 3\n",
      "Fitting GMM to digit 4\n",
      "EM for GMM converged after  33 iteration, with loss:  -3061590.937292721\n",
      "GMM parameters computed for digit = 4\n",
      "Fitting GMM to digit 5\n",
      "EM for GMM converged after  14 iteration, with loss:  -2771131.0710311267\n",
      "GMM parameters computed for digit = 5\n",
      "Fitting GMM to digit 6\n",
      "EM for GMM converged after  34 iteration, with loss:  -3113249.49307268\n",
      "GMM parameters computed for digit = 6\n",
      "Fitting GMM to digit 7\n",
      "EM for GMM converged after  24 iteration, with loss:  -3369230.1504102275\n",
      "GMM parameters computed for digit = 7\n",
      "Fitting GMM to digit 8\n",
      "EM for GMM converged after  23 iteration, with loss:  -2970460.4812182356\n",
      "GMM parameters computed for digit = 8\n",
      "Fitting GMM to digit 9\n",
      "EM for GMM converged after  30 iteration, with loss:  -3172802.662711639\n",
      "GMM parameters computed for digit = 9\n",
      "Accuracy: 0.8918\n"
     ]
    }
   ],
   "source": [
    "# Thực hiện GMM trên dữ liệu gốc\n",
    "# Gaussian Mixture Model (GMM) with EM algorithm\n",
    "gm_num = 10  # number of Gaussian Models in each GMM\n",
    "GMMs = {}\n",
    "log_likelihood_loss = {}\n",
    "for digit in range(10):  # assuming there are 10 digits (0-9)\n",
    "    print('Fitting GMM to digit', digit)\n",
    "    X_digit_train = X_train[y_train == digit]\n",
    "    GMMs[digit] = GaussianMixtureModel(num_components=gm_num)\n",
    "    GMMs[digit].fit(X_digit_train)\n",
    "    print('GMM parameters computed for digit =', digit)\n",
    "\n",
    "# Predictions\n",
    "class_probab_list = np.zeros((10, len(X_test)))\n",
    "for digit in range(10):\n",
    "    class_probab_list[digit] = GMMs[digit].predict_proba(X_test)[digit]\n",
    "\n",
    "predictions = np.argmax(class_probab_list, axis=0)\n",
    "accuracy = np.mean(predictions == y_test)\n",
    "print(\"Accuracy:\", accuracy)"
   ]
  },
  {
   "cell_type": "code",
   "execution_count": 7,
   "metadata": {},
   "outputs": [
    {
     "name": "stdout",
     "output_type": "stream",
     "text": [
      "Davies-Bouldin Index: 3.672608096618955\n"
     ]
    }
   ],
   "source": [
    "from sklearn.metrics import davies_bouldin_score\n",
    "\n",
    "# Calculate Davies-Bouldin Index\n",
    "davies_bouldin_idx = davies_bouldin_score(X_test, predictions)\n",
    "print(\"Davies-Bouldin Index:\", davies_bouldin_idx)"
   ]
  },
  {
   "cell_type": "code",
   "execution_count": 12,
   "metadata": {},
   "outputs": [
    {
     "name": "stderr",
     "output_type": "stream",
     "text": [
      "e:\\ML\\.venv\\Lib\\site-packages\\sklearn\\mixture\\_base.py:268: ConvergenceWarning: Initialization 1 did not converge. Try different init parameters, or increase max_iter, tol or check for degenerate data.\n",
      "  warnings.warn(\n",
      "e:\\ML\\.venv\\Lib\\site-packages\\sklearn\\mixture\\_base.py:268: ConvergenceWarning: Initialization 1 did not converge. Try different init parameters, or increase max_iter, tol or check for degenerate data.\n",
      "  warnings.warn(\n",
      "e:\\ML\\.venv\\Lib\\site-packages\\sklearn\\mixture\\_base.py:268: ConvergenceWarning: Initialization 1 did not converge. Try different init parameters, or increase max_iter, tol or check for degenerate data.\n",
      "  warnings.warn(\n",
      "e:\\ML\\.venv\\Lib\\site-packages\\sklearn\\mixture\\_base.py:268: ConvergenceWarning: Initialization 1 did not converge. Try different init parameters, or increase max_iter, tol or check for degenerate data.\n",
      "  warnings.warn(\n",
      "e:\\ML\\.venv\\Lib\\site-packages\\sklearn\\mixture\\_base.py:268: ConvergenceWarning: Initialization 1 did not converge. Try different init parameters, or increase max_iter, tol or check for degenerate data.\n",
      "  warnings.warn(\n",
      "e:\\ML\\.venv\\Lib\\site-packages\\sklearn\\mixture\\_base.py:268: ConvergenceWarning: Initialization 1 did not converge. Try different init parameters, or increase max_iter, tol or check for degenerate data.\n",
      "  warnings.warn(\n",
      "e:\\ML\\.venv\\Lib\\site-packages\\sklearn\\mixture\\_base.py:268: ConvergenceWarning: Initialization 1 did not converge. Try different init parameters, or increase max_iter, tol or check for degenerate data.\n",
      "  warnings.warn(\n",
      "e:\\ML\\.venv\\Lib\\site-packages\\sklearn\\mixture\\_base.py:268: ConvergenceWarning: Initialization 1 did not converge. Try different init parameters, or increase max_iter, tol or check for degenerate data.\n",
      "  warnings.warn(\n",
      "e:\\ML\\.venv\\Lib\\site-packages\\sklearn\\mixture\\_base.py:268: ConvergenceWarning: Initialization 1 did not converge. Try different init parameters, or increase max_iter, tol or check for degenerate data.\n",
      "  warnings.warn(\n",
      "e:\\ML\\.venv\\Lib\\site-packages\\sklearn\\mixture\\_base.py:268: ConvergenceWarning: Initialization 1 did not converge. Try different init parameters, or increase max_iter, tol or check for degenerate data.\n",
      "  warnings.warn(\n"
     ]
    }
   ],
   "source": [
    "import numpy as np\n",
    "import matplotlib.pyplot as plt\n",
    "from sklearn.decomposition import PCA\n",
    "from sklearn.metrics import accuracy_score\n",
    "from sklearn.mixture import GaussianMixture as GMM\n",
    "\n",
    "# Define the number of effective features\n",
    "effective_features = 25\n",
    "\n",
    "# Initialize arrays to store accuracies and number of dimensions\n",
    "accuracies = []\n",
    "num_dimensions = []\n",
    "\n",
    "# Loop over different number of dimensions\n",
    "for dim in range(1, 784, 1):\n",
    "    # Perform PCA\n",
    "    pca = PCA(n_components=dim)\n",
    "    X_train_pca = pca.fit_transform(X_train)\n",
    "    X_test_pca = pca.transform(X_test)\n",
    "\n",
    "    # Initialize GMMs\n",
    "    GMMs = {}\n",
    "    for digit in range(10):\n",
    "        X_digit_train = X_train_pca[y_train == digit]\n",
    "        GMMs[digit] = GMM(n_components=gm_num)\n",
    "        GMMs[digit].fit(X_digit_train)\n",
    "\n",
    "    # Predictions\n",
    "    class_probab_list = np.zeros((10, len(X_test_pca)))\n",
    "    for digit in range(10):\n",
    "        class_probab_list[digit] = GMMs[digit].score_samples(X_test_pca)\n",
    "\n",
    "    predictions = np.argmax(class_probab_list, axis=0)\n",
    "    accuracy = accuracy_score(y_test, predictions)\n",
    "\n",
    "    # Store accuracy and number of dimensions\n",
    "    accuracies.append(accuracy)\n",
    "    num_dimensions.append(dim)\n",
    "\n",
    "# Plot accuracy vs. number of dimensions\n",
    "plt.plot(num_dimensions, accuracies)\n",
    "plt.xlabel('Number of Dimensions')\n",
    "plt.ylabel('Accuracy')\n",
    "plt.title('Accuracy vs. Number of Dimensions after PCA')\n",
    "plt.grid(True)\n",
    "plt.show()"
   ]
  }
 ],
 "metadata": {
  "kernelspec": {
   "display_name": ".venv",
   "language": "python",
   "name": "python3"
  },
  "language_info": {
   "codemirror_mode": {
    "name": "ipython",
    "version": 3
   },
   "file_extension": ".py",
   "mimetype": "text/x-python",
   "name": "python",
   "nbconvert_exporter": "python",
   "pygments_lexer": "ipython3",
   "version": "3.11.7"
  }
 },
 "nbformat": 4,
 "nbformat_minor": 2
}
