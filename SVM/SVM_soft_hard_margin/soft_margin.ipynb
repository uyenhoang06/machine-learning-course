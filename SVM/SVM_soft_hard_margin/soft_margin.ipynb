{
 "cells": [
  {
   "cell_type": "markdown",
   "id": "24e6690512c66c60",
   "metadata": {
    "collapsed": false
   },
   "source": [
    "# Ví dụ 1\n",
    "\n",
    "Tạo một bộ dữ liệu có 200 mẫu (N=200) phân đều vào 02 lớp – mỗi lớp 100 phần tử. Mỗi mẫu có 2 chiều (d=2).\n",
    "Tiếp theo xây dựng các phương thức cần thiết cho phương pháp Soft Margin Vector Machine"
   ]
  },
  {
   "cell_type": "markdown",
   "id": "d92067206b789c41",
   "metadata": {
    "collapsed": false
   },
   "source": [
    "## Cách 1: Tự xây dựng các bước giải bài toán ràng buộc"
   ]
  },
  {
   "cell_type": "code",
   "execution_count": 1,
   "id": "2c016bac862e6379",
   "metadata": {
    "ExecuteTime": {
     "end_time": "2024-05-08T15:57:05.782117200Z",
     "start_time": "2024-05-08T15:57:01.796091900Z"
    },
    "collapsed": false
   },
   "outputs": [],
   "source": [
    "# generate data\n",
    "# list of points\n",
    "import numpy as np\n",
    "import matplotlib.pyplot as plt\n",
    "from scipy.spatial.distance import cdist\n",
    "np.random.seed(21)\n",
    "from matplotlib.backends.backend_pdf import PdfPages\n",
    "\n",
    "means = [[2, 2], [4, 1]]\n",
    "cov = [[.3, .2], [.2, .3]]\n",
    "N = 10\n",
    "X0 = np.random.multivariate_normal(means[0], cov, N)\n",
    "X1 = np.random.multivariate_normal(means[1], cov, N)\n",
    "X1[-1, :] = [2.7, 2]\n",
    "X = np.concatenate((X0.T, X1.T), axis = 1)\n",
    "y = np.concatenate((np.ones((1, N)), -1*np.ones((1, N))), axis = 1)"
   ]
  },
  {
   "cell_type": "code",
   "execution_count": 21,
   "id": "f80d0806428f0ff",
   "metadata": {
    "ExecuteTime": {
     "end_time": "2024-05-08T16:02:02.582340300Z",
     "start_time": "2024-05-08T16:02:02.519867Z"
    },
    "collapsed": false
   },
   "outputs": [
    {
     "data": {
      "text/plain": [
       "(2, 20)"
      ]
     },
     "execution_count": 21,
     "metadata": {},
     "output_type": "execute_result"
    }
   ],
   "source": [
    "X.shape"
   ]
  },
  {
   "cell_type": "code",
   "execution_count": 23,
   "id": "8fd4ee6462fde2f7",
   "metadata": {
    "ExecuteTime": {
     "end_time": "2024-05-08T16:02:20.291017900Z",
     "start_time": "2024-05-08T16:02:20.251761600Z"
    },
    "collapsed": false
   },
   "outputs": [
    {
     "data": {
      "text/plain": [
       "array([[2.05084632, 1.76011705, 2.00990941, 2.15538393, 1.43875123,\n",
       "        1.99943406, 1.34862014, 1.75423984, 1.86131058, 2.6234161 ,\n",
       "        4.75215781, 4.67253811, 4.68638834, 3.48737994, 4.07611593,\n",
       "        2.95252573, 5.08269415, 3.52036329, 3.79891756, 2.7       ],\n",
       "       [2.00111793, 1.19808615, 1.24470291, 2.05048046, 1.43310473,\n",
       "        2.61376623, 1.04038789, 1.55383645, 1.97634695, 2.65203976,\n",
       "        1.30969881, 0.78518512, 1.79005378, 0.86846079, 1.38790279,\n",
       "        0.47959209, 1.30126272, 1.07691292, 1.22491879, 2.        ]])"
      ]
     },
     "execution_count": 23,
     "metadata": {},
     "output_type": "execute_result"
    }
   ],
   "source": [
    "X"
   ]
  },
  {
   "cell_type": "code",
   "execution_count": 2,
   "id": "f95dd134cfe5ad7",
   "metadata": {
    "ExecuteTime": {
     "end_time": "2024-05-08T15:57:05.934930800Z",
     "start_time": "2024-05-08T15:57:05.791218100Z"
    },
    "collapsed": false
   },
   "outputs": [
    {
     "data": {
      "image/png": "[encoded data removed]",
      "text/plain": [
       "<Figure size 500x500 with 1 Axes>"
      ]
     },
     "metadata": {},
     "output_type": "display_data"
    }
   ],
   "source": [
    "import matplotlib.pyplot as plt\n",
    "fig, ax = plt.subplots(figsize=(5, 5))\n",
    "\n",
    "ani = plt.cla()\n",
    "#plot points\n",
    "ani = plt.plot(X0.T[0, :], X0.T[1, :], 'b^', markersize = 5, alpha = .8)\n",
    "ani = plt.plot(X1.T[0, :], X1.T[1, :], 'ro', markersize = 5, alpha = .8)\n",
    "ani = plt.axis([-1 , 6, -1, 6])\n",
    "plt.show()"
   ]
  },
  {
   "cell_type": "code",
   "execution_count": 3,
   "id": "41ab2f243522220b",
   "metadata": {
    "ExecuteTime": {
     "end_time": "2024-05-08T15:57:06.257174300Z",
     "start_time": "2024-05-08T15:57:05.934930800Z"
    },
    "collapsed": false
   },
   "outputs": [
    {
     "name": "stdout",
     "output_type": "stream",
     "text": [
      "lambda = \n",
      " [[1.26997770e-08 7.29907090e-09 6.75263620e+00 1.20067067e-08\n",
      "  8.83482181e-09 1.00135373e-08 9.49241066e-09 1.10095260e-08\n",
      "  1.09448265e-08 1.15277180e+01 3.06483278e-09 2.92217775e-09\n",
      "  3.52341246e-09 5.49363383e-09 4.48478627e-09 7.55953464e-09\n",
      "  2.73325320e-09 5.71296652e-09 5.02756847e-09 1.82803543e+01]]\n"
     ]
    }
   ],
   "source": [
    "from cvxopt import matrix, solvers\n",
    "C = 100\n",
    "# build K\n",
    "V = np.concatenate((X0.T, -X1.T), axis = 1)\n",
    "K = matrix(V.T.dot(V))\n",
    "\n",
    "p = matrix(-np.ones((2*N, 1)))\n",
    "# build A, b, G, h\n",
    "G = matrix(np.vstack((-np.eye(2*N), np.eye(2*N))))\n",
    "\n",
    "h = matrix(np.vstack((np.zeros((2*N, 1)), C*np.ones((2*N, 1)))))\n",
    "A = matrix(y.reshape((-1, 2*N)))\n",
    "b = matrix(np.zeros((1, 1)))\n",
    "solvers.options['show_progress'] = False\n",
    "sol = solvers.qp(K, p, G, h, A, b)\n",
    "\n",
    "l = np.array(sol['x'])\n",
    "print('lambda = \\n', l.T)"
   ]
  },
  {
   "cell_type": "code",
   "execution_count": 4,
   "id": "547311bee1376f11",
   "metadata": {
    "ExecuteTime": {
     "end_time": "2024-05-08T15:57:06.268337200Z",
     "start_time": "2024-05-08T15:57:06.257174300Z"
    },
    "collapsed": false
   },
   "outputs": [
    {
     "data": {
      "text/plain": [
       "[2, 9, 19]"
      ]
     },
     "execution_count": 4,
     "metadata": {},
     "output_type": "execute_result"
    }
   ],
   "source": [
    "S = np.where(l > 1e-5)[0] # support set\n",
    "S2 = np.where(l < .999*C)[0]\n",
    "\n",
    "M = [val for val in S if val in S2] # intersection of two lists\n",
    "\n",
    "M"
   ]
  },
  {
   "cell_type": "code",
   "execution_count": 5,
   "id": "7a8127c3925563f8",
   "metadata": {
    "ExecuteTime": {
     "end_time": "2024-05-08T15:57:06.276877900Z",
     "start_time": "2024-05-08T15:57:06.263782600Z"
    },
    "collapsed": false
   },
   "outputs": [
    {
     "name": "stdout",
     "output_type": "stream",
     "text": [
      "[[ 1.  1.  1.  1.  1.  1.  1.  1.  1.  1. -1. -1. -1. -1. -1. -1. -1. -1.\n",
      "  -1. -1.]]\n"
     ]
    }
   ],
   "source": [
    "print(y)"
   ]
  },
  {
   "cell_type": "code",
   "execution_count": 6,
   "id": "7d96d4941f0a0d11",
   "metadata": {
    "ExecuteTime": {
     "end_time": "2024-05-08T15:57:06.276877900Z",
     "start_time": "2024-05-08T15:57:06.271372300Z"
    },
    "collapsed": false
   },
   "outputs": [],
   "source": [
    "XT = X.T # we need each column to be one data point in this alg\n",
    "VS = V[:, S]\n",
    "lS = l[S]\n",
    "yM = y[0][M]"
   ]
  },
  {
   "cell_type": "code",
   "execution_count": 7,
   "id": "2c18ebb8948ea3ce",
   "metadata": {
    "ExecuteTime": {
     "end_time": "2024-05-08T15:57:06.376914200Z",
     "start_time": "2024-05-08T15:57:06.276877900Z"
    },
    "collapsed": false
   },
   "outputs": [
    {
     "data": {
      "text/plain": [
       "array([ 1.,  1., -1.])"
      ]
     },
     "execution_count": 7,
     "metadata": {},
     "output_type": "execute_result"
    }
   ],
   "source": [
    "yM"
   ]
  },
  {
   "cell_type": "code",
   "execution_count": 8,
   "id": "d2d7c5d9d20292de",
   "metadata": {
    "ExecuteTime": {
     "end_time": "2024-05-08T15:57:06.392520Z",
     "start_time": "2024-05-08T15:57:06.285385900Z"
    },
    "collapsed": false
   },
   "outputs": [
    {
     "data": {
      "text/plain": [
       "(3,)"
      ]
     },
     "execution_count": 8,
     "metadata": {},
     "output_type": "execute_result"
    }
   ],
   "source": [
    "yM.shape"
   ]
  },
  {
   "cell_type": "code",
   "execution_count": 9,
   "id": "dc4a8e8a148a999b",
   "metadata": {
    "ExecuteTime": {
     "end_time": "2024-05-08T15:57:06.392520Z",
     "start_time": "2024-05-08T15:57:06.293997700Z"
    },
    "collapsed": false
   },
   "outputs": [
    {
     "data": {
      "text/plain": [
       "(20, 2)"
      ]
     },
     "execution_count": 9,
     "metadata": {},
     "output_type": "execute_result"
    }
   ],
   "source": [
    "XT.shape"
   ]
  },
  {
   "cell_type": "code",
   "execution_count": 10,
   "id": "60aaf0e4af560b7d",
   "metadata": {
    "ExecuteTime": {
     "end_time": "2024-05-08T15:57:06.392520Z",
     "start_time": "2024-05-08T15:57:06.312098100Z"
    },
    "collapsed": false
   },
   "outputs": [
    {
     "name": "stdout",
     "output_type": "stream",
     "text": [
      "[[2.05084632 2.00111793]\n",
      " [1.76011705 1.19808615]\n",
      " [2.00990941 1.24470291]\n",
      " [2.15538393 2.05048046]\n",
      " [1.43875123 1.43310473]\n",
      " [1.99943406 2.61376623]\n",
      " [1.34862014 1.04038789]\n",
      " [1.75423984 1.55383645]\n",
      " [1.86131058 1.97634695]\n",
      " [2.6234161  2.65203976]\n",
      " [4.75215781 1.30969881]\n",
      " [4.67253811 0.78518512]\n",
      " [4.68638834 1.79005378]\n",
      " [3.48737994 0.86846079]\n",
      " [4.07611593 1.38790279]\n",
      " [2.95252573 0.47959209]\n",
      " [5.08269415 1.30126272]\n",
      " [3.52036329 1.07691292]\n",
      " [3.79891756 1.22491879]\n",
      " [2.7        2.        ]]\n"
     ]
    }
   ],
   "source": [
    "print(XT)"
   ]
  },
  {
   "cell_type": "code",
   "execution_count": 11,
   "id": "feb27df30292d230",
   "metadata": {
    "ExecuteTime": {
     "end_time": "2024-05-08T15:57:06.392520Z",
     "start_time": "2024-05-08T15:57:06.316053900Z"
    },
    "collapsed": false
   },
   "outputs": [
    {
     "name": "stdout",
     "output_type": "stream",
     "text": [
      "[[2.00990941 1.24470291]\n",
      " [2.6234161  2.65203976]\n",
      " [2.7        2.        ]]\n",
      "(3, 2)\n"
     ]
    }
   ],
   "source": [
    "XM = XT[M]\n",
    "\n",
    "print(XM)\n",
    "print(XM.shape)"
   ]
  },
  {
   "cell_type": "code",
   "execution_count": 12,
   "id": "49e1c72b9eeaf665",
   "metadata": {
    "ExecuteTime": {
     "end_time": "2024-05-08T15:57:06.392520Z",
     "start_time": "2024-05-08T15:57:06.322896300Z"
    },
    "collapsed": false
   },
   "outputs": [
    {
     "name": "stdout",
     "output_type": "stream",
     "text": [
      "[[-5.54276837]\n",
      " [ 2.41628387]]\n",
      "(2, 1)\n"
     ]
    }
   ],
   "source": [
    "w_dual = VS.dot(lS)\n",
    "print(w_dual)\n",
    "print(w_dual.shape)"
   ]
  },
  {
   "cell_type": "code",
   "execution_count": 13,
   "id": "63bd8742dfc8fdfa",
   "metadata": {
    "ExecuteTime": {
     "end_time": "2024-05-08T15:57:06.408811Z",
     "start_time": "2024-05-08T15:57:06.330474900Z"
    },
    "collapsed": false
   },
   "outputs": [
    {
     "name": "stdout",
     "output_type": "stream",
     "text": [
      "[[-5.54276837  2.41628387]] 9.132906850859555\n"
     ]
    }
   ],
   "source": [
    "# w_dual = VS.dot(lS).reshape(-1, 1)\n",
    "\n",
    "r = w_dual.T.dot(XM.T).T\n",
    "\n",
    "b_dual = np.mean(yM - r)\n",
    "print(w_dual.T, b_dual)"
   ]
  },
  {
   "cell_type": "markdown",
   "id": "d36d2d4a1ef2f47e",
   "metadata": {
    "collapsed": false
   },
   "source": [
    "## Cách 2. Xây dựng phương pháp giải bài toán tối ưu không ràng buộc:"
   ]
  },
  {
   "cell_type": "code",
   "execution_count": 14,
   "id": "6da94ce34ab253e8",
   "metadata": {
    "ExecuteTime": {
     "end_time": "2024-05-08T15:57:06.531902200Z",
     "start_time": "2024-05-08T15:57:06.392520Z"
    },
    "collapsed": false
   },
   "outputs": [
    {
     "name": "stdout",
     "output_type": "stream",
     "text": [
      "Gradient different: 0.000000\n"
     ]
    }
   ],
   "source": [
    "X0_bar = np.vstack((X0.T, np.ones((1, N)))) # extended data\n",
    "X1_bar = np.vstack((X1.T, np.ones((1, N)))) # extended data\n",
    "\n",
    "Z = np.hstack((X0_bar, - X1_bar)) # as in (22)\n",
    "lam = 1./C\n",
    "\n",
    "def cost(w):\n",
    "    u = w.T.dot(Z) # as in (23)\n",
    "    return (np.sum(np.maximum(0, 1 - u)) + \\\n",
    ".5*lam*np.sum(w*w)) - .5*lam*w[-1]*w[-1] # no bias\n",
    "\n",
    "def grad(w):\n",
    "    u = w.T.dot(Z) # as in (23)\n",
    "    H = np.where(u < 1)[1]\n",
    "    ZS = Z[:, H]\n",
    "    g = (-np.sum(ZS, axis = 1, keepdims = True) + lam*w)\n",
    "    g[-1] -= lam*w[-1] # no weight decay on bias\n",
    "    return g\n",
    "\n",
    "eps = 1e-6\n",
    "def num_grad(w):\n",
    "    g = np.zeros_like(w)\n",
    "    for i in range(len(w)):\n",
    "        wp = w.copy()\n",
    "        wm = w.copy()\n",
    "        wp[i] += eps\n",
    "    \n",
    "        wm[i] -= eps\n",
    "        g[i] = (cost(wp) - cost(wm))/(2*eps)\n",
    "    return g\n",
    "\n",
    "w0 = np.random.randn(X0_bar.shape[0], 1)\n",
    "g1 = grad(w0)\n",
    "g2 = num_grad(w0)\n",
    "diff = np.linalg.norm(g1 - g2)\n",
    "print('Gradient different: %f' %diff)"
   ]
  },
  {
   "cell_type": "code",
   "execution_count": 15,
   "id": "73b1e00e725c9291",
   "metadata": {
    "ExecuteTime": {
     "end_time": "2024-05-08T15:57:08.450034500Z",
     "start_time": "2024-05-08T15:57:06.408811Z"
    },
    "collapsed": false
   },
   "outputs": [
    {
     "name": "stdout",
     "output_type": "stream",
     "text": [
      "iter 1 cost: 87.184655\n"
     ]
    },
    {
     "name": "stderr",
     "output_type": "stream",
     "text": [
      "C:\\Users\\Admin\\AppData\\Local\\Temp\\ipykernel_1240\\2937714327.py:9: DeprecationWarning: Conversion of an array with ndim > 0 to a scalar is deprecated, and will error in future. Ensure you extract a single element from your array before performing this operation. (Deprecated NumPy 1.25.)\n",
      "  print('iter %d' %it + ' cost: %f' %cost(w))\n"
     ]
    },
    {
     "name": "stdout",
     "output_type": "stream",
     "text": [
      "iter 10001 cost: 1.430915\n",
      "iter 20001 cost: 1.092201\n",
      "iter 30001 cost: 0.779892\n",
      "iter 40001 cost: 0.491327\n",
      "iter 50001 cost: 0.218693\n",
      "iter 60001 cost: 0.183223\n",
      "iter 70001 cost: 0.183222\n",
      "iter 80001 cost: 0.183221\n",
      "iter 90001 cost: 0.183220\n",
      "[[-5.54923267  2.41881653]] [9.14508377]\n"
     ]
    }
   ],
   "source": [
    "def grad_descent(w0, eta):\n",
    "    w = w0\n",
    "    it = 0\n",
    "    while it < 100000:\n",
    "        it = it + 1\n",
    "        g = grad(w)\n",
    "        w -= eta*g\n",
    "        if (it % 10000) == 1:\n",
    "            print('iter %d' %it + ' cost: %f' %cost(w))\n",
    "        if np.linalg.norm(g) < 1e-5:\n",
    "            break\n",
    "    return w\n",
    "\n",
    "w0 = np.random.randn(X0_bar.shape[0], 1)\n",
    "w = grad_descent(w0, 0.001)\n",
    "w_hinge = w[:-1].reshape(-1, 1)\n",
    "b_hinge = w[-1]\n",
    "print(w_hinge.T, b_hinge)"
   ]
  },
  {
   "cell_type": "markdown",
   "id": "89ad4a1bc44a2b9f",
   "metadata": {
    "collapsed": false
   },
   "source": [
    "## Sử dụng thư viện"
   ]
  },
  {
   "cell_type": "code",
   "execution_count": 16,
   "id": "9038ae7ab4a9e090",
   "metadata": {
    "ExecuteTime": {
     "end_time": "2024-05-08T15:57:10.796314100Z",
     "start_time": "2024-05-08T15:57:08.463549600Z"
    },
    "collapsed": false
   },
   "outputs": [
    {
     "name": "stdout",
     "output_type": "stream",
     "text": [
      "w =  [[-5.54202362  2.4156074 ]]\n",
      "b =  [9.13241559]\n"
     ]
    }
   ],
   "source": [
    "from sklearn.svm import SVC\n",
    "# Copy and put code for generate data here\n",
    "y1 = y.reshape((2*N,))\n",
    "X1 = X.T # each sample is one row\n",
    "clf = SVC(kernel = 'linear', C = 100) # use the same C\n",
    "# if C is small, method will be “SoftMagin SVM”,\n",
    "# if C is large enough, method is near to hard margin\n",
    "clf.fit(X1, y1)\n",
    "\n",
    "w = clf.coef_\n",
    "w0 = clf.intercept_\n",
    "print('w = ', w)\n",
    "print('b = ', w0)"
   ]
  },
  {
   "cell_type": "markdown",
   "id": "e8760fe7759b7d9e",
   "metadata": {
    "collapsed": false
   },
   "source": [
    "## so sánh bộ trọng số tối ưu (kết quả) của cả ba phương pháp.\n",
    "\n",
    "cả ba phương pháp trên đều cho ra kết quả gần giống nhau. trong đó phương pháp đầu tiên và thư viện có kết quả giống nhau nhất"
   ]
  },
  {
   "cell_type": "markdown",
   "id": "8bca99e7c0df9d5",
   "metadata": {
    "collapsed": false
   },
   "source": [
    "# Bài tập tự thực hành 1\n",
    "Sử dụng bộ trọng số W đã tính được và dự đoán các phân lớp y ứng với dữ liệu\n",
    "X trên chính tập dữ liệu ngẫu nhiên vừa tạo. Đưa ra độ chính xác Accuracy và ma trận nhầm lẫn Confusion\n",
    "Matrix theo mỗi phương pháp."
   ]
  },
  {
   "cell_type": "markdown",
   "id": "33954843231ffa93",
   "metadata": {
    "collapsed": false
   },
   "source": [
    "## Sử dụng bộ trọng số 1"
   ]
  },
  {
   "cell_type": "code",
   "execution_count": 25,
   "id": "89a75e2201d98ca0",
   "metadata": {
    "ExecuteTime": {
     "end_time": "2024-05-08T16:03:54.020662900Z",
     "start_time": "2024-05-08T16:03:54.004525800Z"
    },
    "collapsed": false
   },
   "outputs": [
    {
     "name": "stdout",
     "output_type": "stream",
     "text": [
      "(2, 1)\n",
      "[[-5.54276837]\n",
      " [ 2.41628387]]\n",
      "<class 'numpy.ndarray'>\n"
     ]
    }
   ],
   "source": [
    "print(w_dual.shape)\n",
    "print(w_dual)\n",
    "print(type(w_dual))"
   ]
  },
  {
   "cell_type": "code",
   "execution_count": 20,
   "id": "b425476a25fb9dfe",
   "metadata": {
    "ExecuteTime": {
     "end_time": "2024-05-08T16:00:33.560377600Z",
     "start_time": "2024-05-08T16:00:33.558165400Z"
    },
    "collapsed": false
   },
   "outputs": [
    {
     "name": "stdout",
     "output_type": "stream",
     "text": [
      "9.132906850859555\n"
     ]
    }
   ],
   "source": [
    "print(b_dual)"
   ]
  },
  {
   "cell_type": "code",
   "execution_count": 28,
   "id": "3c7549544dc2ae79",
   "metadata": {
    "ExecuteTime": {
     "end_time": "2024-05-08T16:10:43.846443500Z",
     "start_time": "2024-05-08T16:10:43.827727300Z"
    },
    "collapsed": false
   },
   "outputs": [
    {
     "name": "stdout",
     "output_type": "stream",
     "text": [
      "Accuracy: 1.0\n",
      "Confusion Matrix:\n",
      "[[10  0]\n",
      " [ 0 10]]\n"
     ]
    }
   ],
   "source": [
    "import numpy as np\n",
    "from sklearn.metrics import accuracy_score, confusion_matrix\n",
    "\n",
    "def predict(X, w, b):\n",
    "    return np.sign(np.dot(w.T, X) + b).flatten()\n",
    "\n",
    "# Dự đoán phân lớp\n",
    "y_pred_dual = predict(X, w_dual, b_dual)\n",
    "\n",
    "# Tính độ chính xác\n",
    "accuracy_dual = accuracy_score(y.flatten(), y_pred_dual)\n",
    "\n",
    "# Tạo ma trận nhầm lẫn\n",
    "conf_matrix_dual = confusion_matrix(y.flatten(), y_pred_dual)\n",
    "\n",
    "print(\"Accuracy:\", accuracy_dual)\n",
    "print(\"Confusion Matrix:\")\n",
    "print(conf_matrix_dual)"
   ]
  },
  {
   "cell_type": "code",
   "execution_count": 29,
   "id": "4008166e1e5e8466",
   "metadata": {
    "ExecuteTime": {
     "end_time": "2024-05-08T16:10:46.020845600Z",
     "start_time": "2024-05-08T16:10:45.773350400Z"
    },
    "collapsed": false
   },
   "outputs": [
    {
     "data": {
      "image/png": "[encoded data removed]",
      "text/plain": [
       "<Figure size 640x480 with 2 Axes>"
      ]
     },
     "metadata": {},
     "output_type": "display_data"
    }
   ],
   "source": [
    "from mlxtend.plotting import plot_confusion_matrix\n",
    "import matplotlib.pyplot as plt\n",
    "\n",
    "fig, ax = plot_confusion_matrix(conf_mat=conf_matrix_dual,\n",
    "                                show_absolute=True,\n",
    "                                show_normed=True,\n",
    "                                colorbar=True)\n",
    "plt.show()"
   ]
  },
  {
   "cell_type": "markdown",
   "id": "1aa8d6b5a4815bd3",
   "metadata": {
    "collapsed": false
   },
   "source": [
    "## Sử dụng bộ trọng số 2"
   ]
  },
  {
   "cell_type": "code",
   "execution_count": 31,
   "id": "fe9a0b7f5e8513e4",
   "metadata": {
    "ExecuteTime": {
     "end_time": "2024-05-08T16:11:41.515726700Z",
     "start_time": "2024-05-08T16:11:41.499760800Z"
    },
    "collapsed": false
   },
   "outputs": [
    {
     "name": "stdout",
     "output_type": "stream",
     "text": [
      "Accuracy: 1.0\n",
      "Confusion Matrix:\n",
      "[[10  0]\n",
      " [ 0 10]]\n"
     ]
    }
   ],
   "source": [
    "import numpy as np\n",
    "from sklearn.metrics import accuracy_score, confusion_matrix\n",
    "\n",
    "# Dự đoán phân lớp\n",
    "y_pred_hinge = predict(X, w_hinge, b_hinge)\n",
    "\n",
    "# Tính độ chính xác\n",
    "accuracy_hinge = accuracy_score(y.flatten(), y_pred_hinge)\n",
    "\n",
    "# Tạo ma trận nhầm lẫn\n",
    "conf_matrix_hinge = confusion_matrix(y.flatten(), y_pred_hinge)\n",
    "\n",
    "print(\"Accuracy:\", accuracy_hinge)\n",
    "print(\"Confusion Matrix:\")\n",
    "print(conf_matrix_hinge)"
   ]
  },
  {
   "cell_type": "code",
   "execution_count": 32,
   "id": "a5fa6e6d95a6bbf8",
   "metadata": {
    "ExecuteTime": {
     "end_time": "2024-05-08T16:11:57.345701700Z",
     "start_time": "2024-05-08T16:11:57.170595900Z"
    },
    "collapsed": false
   },
   "outputs": [
    {
     "data": {
      "image/png": "[encoded data removed]",
      "text/plain": [
       "<Figure size 640x480 with 2 Axes>"
      ]
     },
     "metadata": {},
     "output_type": "display_data"
    }
   ],
   "source": [
    "fig, ax = plot_confusion_matrix(conf_mat=conf_matrix_hinge,\n",
    "                                show_absolute=True,\n",
    "                                show_normed=True,\n",
    "                                colorbar=True)\n",
    "plt.show()"
   ]
  },
  {
   "cell_type": "markdown",
   "id": "ffde0e7b4e444239",
   "metadata": {
    "collapsed": false
   },
   "source": [
    "## Sử dụng bộ trọng số thứ 3"
   ]
  },
  {
   "cell_type": "code",
   "execution_count": 34,
   "id": "eceee4e8f2440f00",
   "metadata": {
    "ExecuteTime": {
     "end_time": "2024-05-08T16:13:39.532977900Z",
     "start_time": "2024-05-08T16:13:39.516903200Z"
    },
    "collapsed": false
   },
   "outputs": [
    {
     "name": "stdout",
     "output_type": "stream",
     "text": [
      "Accuracy: 1.0\n",
      "Confusion Matrix:\n",
      "[[10  0]\n",
      " [ 0 10]]\n"
     ]
    }
   ],
   "source": [
    "# Dự đoán phân lớp\n",
    "y_pred = predict(X, w.T, w0)\n",
    "\n",
    "# Tính độ chính xác\n",
    "accuracy = accuracy_score(y.flatten(), y_pred)\n",
    "\n",
    "# Tạo ma trận nhầm lẫn\n",
    "conf_matrix = confusion_matrix(y.flatten(), y_pred)\n",
    "\n",
    "print(\"Accuracy:\", accuracy)\n",
    "print(\"Confusion Matrix:\")\n",
    "print(conf_matrix)"
   ]
  },
  {
   "cell_type": "code",
   "execution_count": null,
   "id": "f7f07969847f62e3",
   "metadata": {
    "collapsed": false
   },
   "outputs": [],
   "source": [
    "fig, ax = plot_confusion_matrix(conf_mat=conf_matrix,\n",
    "                                show_absolute=True,\n",
    "                                show_normed=True,\n",
    "                                colorbar=True)\n",
    "plt.show()"
   ]
  },
  {
   "cell_type": "markdown",
   "id": "bbb5969be28cc04f",
   "metadata": {
    "collapsed": false
   },
   "source": [
    "# Ví dụ 2"
   ]
  },
  {
   "cell_type": "code",
   "execution_count": 53,
   "id": "55ec4927",
   "metadata": {},
   "outputs": [
    {
     "name": "stdout",
     "output_type": "stream",
     "text": [
      "(208, 60)\n",
      "(208, 1)\n"
     ]
    }
   ],
   "source": [
    "from ucimlrepo import fetch_ucirepo\n",
    "\n",
    "# fetch dataset\n",
    "connectionist_bench_sonar_mines_vs_rocks = fetch_ucirepo(id=151)\n",
    "\n",
    "# data (as pandas dataframes)\n",
    "X = connectionist_bench_sonar_mines_vs_rocks.data.features\n",
    "y = connectionist_bench_sonar_mines_vs_rocks.data.targets\n",
    "\n",
    "print(X.shape)\n",
    "print(y.shape)"
   ]
  },
  {
   "cell_type": "code",
   "execution_count": 54,
   "id": "84a25c85",
   "metadata": {},
   "outputs": [
    {
     "name": "stdout",
     "output_type": "stream",
     "text": [
      "    class\n",
      "0       R\n",
      "1       R\n",
      "2       R\n",
      "3       R\n",
      "4       R\n",
      "..    ...\n",
      "203     M\n",
      "204     M\n",
      "205     M\n",
      "206     M\n",
      "207     M\n",
      "\n",
      "[208 rows x 1 columns]\n"
     ]
    }
   ],
   "source": [
    "print(y)"
   ]
  },
  {
   "cell_type": "code",
   "execution_count": 55,
   "id": "5f0dc5fd",
   "metadata": {},
   "outputs": [
    {
     "name": "stderr",
     "output_type": "stream",
     "text": [
      "C:\\Users\\Admin\\AppData\\Local\\Temp\\ipykernel_11340\\3954369787.py:1: FutureWarning: Downcasting behavior in `replace` is deprecated and will be removed in a future version. To retain the old behavior, explicitly call `result.infer_objects(copy=False)`. To opt-in to the future behavior, set `pd.set_option('future.no_silent_downcasting', True)`\n",
      "  y = y.replace({'M': 1, 'R': -1})\n"
     ]
    },
    {
     "data": {
      "text/html": [
       "<div>\n",
       "<style scoped>\n",
       "    .dataframe tbody tr th:only-of-type {\n",
       "        vertical-align: middle;\n",
       "    }\n",
       "\n",
       "    .dataframe tbody tr th {\n",
       "        vertical-align: top;\n",
       "    }\n",
       "\n",
       "    .dataframe thead th {\n",
       "        text-align: right;\n",
       "    }\n",
       "</style>\n",
       "<table border=\"1\" class=\"dataframe\">\n",
       "  <thead>\n",
       "    <tr style=\"text-align: right;\">\n",
       "      <th></th>\n",
       "      <th>class</th>\n",
       "    </tr>\n",
       "  </thead>\n",
       "  <tbody>\n",
       "    <tr>\n",
       "      <th>0</th>\n",
       "      <td>-1</td>\n",
       "    </tr>\n",
       "    <tr>\n",
       "      <th>1</th>\n",
       "      <td>-1</td>\n",
       "    </tr>\n",
       "    <tr>\n",
       "      <th>2</th>\n",
       "      <td>-1</td>\n",
       "    </tr>\n",
       "    <tr>\n",
       "      <th>3</th>\n",
       "      <td>-1</td>\n",
       "    </tr>\n",
       "    <tr>\n",
       "      <th>4</th>\n",
       "      <td>-1</td>\n",
       "    </tr>\n",
       "    <tr>\n",
       "      <th>...</th>\n",
       "      <td>...</td>\n",
       "    </tr>\n",
       "    <tr>\n",
       "      <th>203</th>\n",
       "      <td>1</td>\n",
       "    </tr>\n",
       "    <tr>\n",
       "      <th>204</th>\n",
       "      <td>1</td>\n",
       "    </tr>\n",
       "    <tr>\n",
       "      <th>205</th>\n",
       "      <td>1</td>\n",
       "    </tr>\n",
       "    <tr>\n",
       "      <th>206</th>\n",
       "      <td>1</td>\n",
       "    </tr>\n",
       "    <tr>\n",
       "      <th>207</th>\n",
       "      <td>1</td>\n",
       "    </tr>\n",
       "  </tbody>\n",
       "</table>\n",
       "<p>208 rows × 1 columns</p>\n",
       "</div>"
      ],
      "text/plain": [
       "     class\n",
       "0       -1\n",
       "1       -1\n",
       "2       -1\n",
       "3       -1\n",
       "4       -1\n",
       "..     ...\n",
       "203      1\n",
       "204      1\n",
       "205      1\n",
       "206      1\n",
       "207      1\n",
       "\n",
       "[208 rows x 1 columns]"
      ]
     },
     "execution_count": 55,
     "metadata": {},
     "output_type": "execute_result"
    }
   ],
   "source": [
    "y = y.replace({'M': 1, 'R': -1})\n",
    "y"
   ]
  },
  {
   "cell_type": "markdown",
   "id": "5913f7d5",
   "metadata": {},
   "source": [
    "## Soft margin SVM thu vien"
   ]
  },
  {
   "cell_type": "code",
   "execution_count": 56,
   "id": "42200928",
   "metadata": {},
   "outputs": [
    {
     "name": "stdout",
     "output_type": "stream",
     "text": [
      "Độ chính xác của mô hình SVM là: 0.8571428571428571\n"
     ]
    },
    {
     "name": "stderr",
     "output_type": "stream",
     "text": [
      "e:\\ML\\.venv\\Lib\\site-packages\\sklearn\\utils\\validation.py:1300: DataConversionWarning: A column-vector y was passed when a 1d array was expected. Please change the shape of y to (n_samples, ), for example using ravel().\n",
      "  y = column_or_1d(y, warn=True)\n"
     ]
    }
   ],
   "source": [
    "import pandas as pd\n",
    "from sklearn.model_selection import train_test_split\n",
    "from sklearn.svm import SVC\n",
    "from sklearn.metrics import accuracy_score\n",
    "\n",
    "\n",
    "# Chia dữ liệu thành tập huấn luyện và tập kiểm tra\n",
    "X_train, X_test, y_train, y_test = train_test_split(\n",
    "    X, y, test_size=0.2, random_state=42)\n",
    "\n",
    "# Tạo mô hình SVM với soft margin, huấn luyện mô hình\n",
    "svm_model = SVC(kernel='linear', C=1.0)\n",
    "svm_model.fit(X_train, y_train)\n",
    "\n",
    "# Dự đoán nhãn cho tập kiểm tra\n",
    "y_pred = svm_model.predict(X_test)\n",
    "\n",
    "# Đánh giá hiệu suất của mô hình bằng độ chính xác\n",
    "accuracy = accuracy_score(y_test, y_pred)\n",
    "print(\"Độ chính xác của mô hình SVM là:\", accuracy)"
   ]
  },
  {
   "cell_type": "markdown",
   "id": "a440adb2",
   "metadata": {},
   "source": [
    "# Ví dụ 3 (Bài tập tự giải): Lọc thư rác:"
   ]
  },
  {
   "cell_type": "code",
   "execution_count": 2,
   "id": "9a0ee446",
   "metadata": {},
   "outputs": [],
   "source": [
    "import numpy as np\n",
    "from sklearn.model_selection import train_test_split\n",
    "from sklearn.preprocessing import StandardScaler\n",
    "from sklearn.svm import SVC\n",
    "from sklearn.metrics import accuracy_score\n",
    "from sklearn.datasets import fetch_openml\n",
    "\n",
    "# Load dataset\n",
    "data = fetch_openml(name='spambase')\n",
    "\n",
    "X = data.data\n",
    "y = data.target"
   ]
  },
  {
   "cell_type": "code",
   "execution_count": 3,
   "id": "73caa47b",
   "metadata": {},
   "outputs": [
    {
     "data": {
      "text/html": [
       "<div>\n",
       "<style scoped>\n",
       "    .dataframe tbody tr th:only-of-type {\n",
       "        vertical-align: middle;\n",
       "    }\n",
       "\n",
       "    .dataframe tbody tr th {\n",
       "        vertical-align: top;\n",
       "    }\n",
       "\n",
       "    .dataframe thead th {\n",
       "        text-align: right;\n",
       "    }\n",
       "</style>\n",
       "<table border=\"1\" class=\"dataframe\">\n",
       "  <thead>\n",
       "    <tr style=\"text-align: right;\">\n",
       "      <th></th>\n",
       "      <th>word_freq_make</th>\n",
       "      <th>word_freq_address</th>\n",
       "      <th>word_freq_all</th>\n",
       "      <th>word_freq_3d</th>\n",
       "      <th>word_freq_our</th>\n",
       "      <th>word_freq_over</th>\n",
       "      <th>word_freq_remove</th>\n",
       "      <th>word_freq_internet</th>\n",
       "      <th>word_freq_order</th>\n",
       "      <th>word_freq_mail</th>\n",
       "      <th>...</th>\n",
       "      <th>word_freq_conference</th>\n",
       "      <th>char_freq_%3B</th>\n",
       "      <th>char_freq_%28</th>\n",
       "      <th>char_freq_%5B</th>\n",
       "      <th>char_freq_%21</th>\n",
       "      <th>char_freq_%24</th>\n",
       "      <th>char_freq_%23</th>\n",
       "      <th>capital_run_length_average</th>\n",
       "      <th>capital_run_length_longest</th>\n",
       "      <th>capital_run_length_total</th>\n",
       "    </tr>\n",
       "  </thead>\n",
       "  <tbody>\n",
       "    <tr>\n",
       "      <th>0</th>\n",
       "      <td>0.00</td>\n",
       "      <td>0.64</td>\n",
       "      <td>0.64</td>\n",
       "      <td>0.0</td>\n",
       "      <td>0.32</td>\n",
       "      <td>0.00</td>\n",
       "      <td>0.00</td>\n",
       "      <td>0.00</td>\n",
       "      <td>0.00</td>\n",
       "      <td>0.00</td>\n",
       "      <td>...</td>\n",
       "      <td>0.0</td>\n",
       "      <td>0.000</td>\n",
       "      <td>0.000</td>\n",
       "      <td>0.0</td>\n",
       "      <td>0.778</td>\n",
       "      <td>0.000</td>\n",
       "      <td>0.000</td>\n",
       "      <td>3.756</td>\n",
       "      <td>61</td>\n",
       "      <td>278</td>\n",
       "    </tr>\n",
       "    <tr>\n",
       "      <th>1</th>\n",
       "      <td>0.21</td>\n",
       "      <td>0.28</td>\n",
       "      <td>0.50</td>\n",
       "      <td>0.0</td>\n",
       "      <td>0.14</td>\n",
       "      <td>0.28</td>\n",
       "      <td>0.21</td>\n",
       "      <td>0.07</td>\n",
       "      <td>0.00</td>\n",
       "      <td>0.94</td>\n",
       "      <td>...</td>\n",
       "      <td>0.0</td>\n",
       "      <td>0.000</td>\n",
       "      <td>0.132</td>\n",
       "      <td>0.0</td>\n",
       "      <td>0.372</td>\n",
       "      <td>0.180</td>\n",
       "      <td>0.048</td>\n",
       "      <td>5.114</td>\n",
       "      <td>101</td>\n",
       "      <td>1028</td>\n",
       "    </tr>\n",
       "    <tr>\n",
       "      <th>2</th>\n",
       "      <td>0.06</td>\n",
       "      <td>0.00</td>\n",
       "      <td>0.71</td>\n",
       "      <td>0.0</td>\n",
       "      <td>1.23</td>\n",
       "      <td>0.19</td>\n",
       "      <td>0.19</td>\n",
       "      <td>0.12</td>\n",
       "      <td>0.64</td>\n",
       "      <td>0.25</td>\n",
       "      <td>...</td>\n",
       "      <td>0.0</td>\n",
       "      <td>0.010</td>\n",
       "      <td>0.143</td>\n",
       "      <td>0.0</td>\n",
       "      <td>0.276</td>\n",
       "      <td>0.184</td>\n",
       "      <td>0.010</td>\n",
       "      <td>9.821</td>\n",
       "      <td>485</td>\n",
       "      <td>2259</td>\n",
       "    </tr>\n",
       "    <tr>\n",
       "      <th>3</th>\n",
       "      <td>0.00</td>\n",
       "      <td>0.00</td>\n",
       "      <td>0.00</td>\n",
       "      <td>0.0</td>\n",
       "      <td>0.63</td>\n",
       "      <td>0.00</td>\n",
       "      <td>0.31</td>\n",
       "      <td>0.63</td>\n",
       "      <td>0.31</td>\n",
       "      <td>0.63</td>\n",
       "      <td>...</td>\n",
       "      <td>0.0</td>\n",
       "      <td>0.000</td>\n",
       "      <td>0.137</td>\n",
       "      <td>0.0</td>\n",
       "      <td>0.137</td>\n",
       "      <td>0.000</td>\n",
       "      <td>0.000</td>\n",
       "      <td>3.537</td>\n",
       "      <td>40</td>\n",
       "      <td>191</td>\n",
       "    </tr>\n",
       "    <tr>\n",
       "      <th>4</th>\n",
       "      <td>0.00</td>\n",
       "      <td>0.00</td>\n",
       "      <td>0.00</td>\n",
       "      <td>0.0</td>\n",
       "      <td>0.63</td>\n",
       "      <td>0.00</td>\n",
       "      <td>0.31</td>\n",
       "      <td>0.63</td>\n",
       "      <td>0.31</td>\n",
       "      <td>0.63</td>\n",
       "      <td>...</td>\n",
       "      <td>0.0</td>\n",
       "      <td>0.000</td>\n",
       "      <td>0.135</td>\n",
       "      <td>0.0</td>\n",
       "      <td>0.135</td>\n",
       "      <td>0.000</td>\n",
       "      <td>0.000</td>\n",
       "      <td>3.537</td>\n",
       "      <td>40</td>\n",
       "      <td>191</td>\n",
       "    </tr>\n",
       "    <tr>\n",
       "      <th>...</th>\n",
       "      <td>...</td>\n",
       "      <td>...</td>\n",
       "      <td>...</td>\n",
       "      <td>...</td>\n",
       "      <td>...</td>\n",
       "      <td>...</td>\n",
       "      <td>...</td>\n",
       "      <td>...</td>\n",
       "      <td>...</td>\n",
       "      <td>...</td>\n",
       "      <td>...</td>\n",
       "      <td>...</td>\n",
       "      <td>...</td>\n",
       "      <td>...</td>\n",
       "      <td>...</td>\n",
       "      <td>...</td>\n",
       "      <td>...</td>\n",
       "      <td>...</td>\n",
       "      <td>...</td>\n",
       "      <td>...</td>\n",
       "      <td>...</td>\n",
       "    </tr>\n",
       "    <tr>\n",
       "      <th>4596</th>\n",
       "      <td>0.31</td>\n",
       "      <td>0.00</td>\n",
       "      <td>0.62</td>\n",
       "      <td>0.0</td>\n",
       "      <td>0.00</td>\n",
       "      <td>0.31</td>\n",
       "      <td>0.00</td>\n",
       "      <td>0.00</td>\n",
       "      <td>0.00</td>\n",
       "      <td>0.00</td>\n",
       "      <td>...</td>\n",
       "      <td>0.0</td>\n",
       "      <td>0.000</td>\n",
       "      <td>0.232</td>\n",
       "      <td>0.0</td>\n",
       "      <td>0.000</td>\n",
       "      <td>0.000</td>\n",
       "      <td>0.000</td>\n",
       "      <td>1.142</td>\n",
       "      <td>3</td>\n",
       "      <td>88</td>\n",
       "    </tr>\n",
       "    <tr>\n",
       "      <th>4597</th>\n",
       "      <td>0.00</td>\n",
       "      <td>0.00</td>\n",
       "      <td>0.00</td>\n",
       "      <td>0.0</td>\n",
       "      <td>0.00</td>\n",
       "      <td>0.00</td>\n",
       "      <td>0.00</td>\n",
       "      <td>0.00</td>\n",
       "      <td>0.00</td>\n",
       "      <td>0.00</td>\n",
       "      <td>...</td>\n",
       "      <td>0.0</td>\n",
       "      <td>0.000</td>\n",
       "      <td>0.000</td>\n",
       "      <td>0.0</td>\n",
       "      <td>0.353</td>\n",
       "      <td>0.000</td>\n",
       "      <td>0.000</td>\n",
       "      <td>1.555</td>\n",
       "      <td>4</td>\n",
       "      <td>14</td>\n",
       "    </tr>\n",
       "    <tr>\n",
       "      <th>4598</th>\n",
       "      <td>0.30</td>\n",
       "      <td>0.00</td>\n",
       "      <td>0.30</td>\n",
       "      <td>0.0</td>\n",
       "      <td>0.00</td>\n",
       "      <td>0.00</td>\n",
       "      <td>0.00</td>\n",
       "      <td>0.00</td>\n",
       "      <td>0.00</td>\n",
       "      <td>0.00</td>\n",
       "      <td>...</td>\n",
       "      <td>0.0</td>\n",
       "      <td>0.102</td>\n",
       "      <td>0.718</td>\n",
       "      <td>0.0</td>\n",
       "      <td>0.000</td>\n",
       "      <td>0.000</td>\n",
       "      <td>0.000</td>\n",
       "      <td>1.404</td>\n",
       "      <td>6</td>\n",
       "      <td>118</td>\n",
       "    </tr>\n",
       "    <tr>\n",
       "      <th>4599</th>\n",
       "      <td>0.96</td>\n",
       "      <td>0.00</td>\n",
       "      <td>0.00</td>\n",
       "      <td>0.0</td>\n",
       "      <td>0.32</td>\n",
       "      <td>0.00</td>\n",
       "      <td>0.00</td>\n",
       "      <td>0.00</td>\n",
       "      <td>0.00</td>\n",
       "      <td>0.00</td>\n",
       "      <td>...</td>\n",
       "      <td>0.0</td>\n",
       "      <td>0.000</td>\n",
       "      <td>0.057</td>\n",
       "      <td>0.0</td>\n",
       "      <td>0.000</td>\n",
       "      <td>0.000</td>\n",
       "      <td>0.000</td>\n",
       "      <td>1.147</td>\n",
       "      <td>5</td>\n",
       "      <td>78</td>\n",
       "    </tr>\n",
       "    <tr>\n",
       "      <th>4600</th>\n",
       "      <td>0.00</td>\n",
       "      <td>0.00</td>\n",
       "      <td>0.65</td>\n",
       "      <td>0.0</td>\n",
       "      <td>0.00</td>\n",
       "      <td>0.00</td>\n",
       "      <td>0.00</td>\n",
       "      <td>0.00</td>\n",
       "      <td>0.00</td>\n",
       "      <td>0.00</td>\n",
       "      <td>...</td>\n",
       "      <td>0.0</td>\n",
       "      <td>0.000</td>\n",
       "      <td>0.000</td>\n",
       "      <td>0.0</td>\n",
       "      <td>0.125</td>\n",
       "      <td>0.000</td>\n",
       "      <td>0.000</td>\n",
       "      <td>1.250</td>\n",
       "      <td>5</td>\n",
       "      <td>40</td>\n",
       "    </tr>\n",
       "  </tbody>\n",
       "</table>\n",
       "<p>4601 rows × 57 columns</p>\n",
       "</div>"
      ],
      "text/plain": [
       "      word_freq_make  word_freq_address  word_freq_all  word_freq_3d  \\\n",
       "0               0.00               0.64           0.64           0.0   \n",
       "1               0.21               0.28           0.50           0.0   \n",
       "2               0.06               0.00           0.71           0.0   \n",
       "3               0.00               0.00           0.00           0.0   \n",
       "4               0.00               0.00           0.00           0.0   \n",
       "...              ...                ...            ...           ...   \n",
       "4596            0.31               0.00           0.62           0.0   \n",
       "4597            0.00               0.00           0.00           0.0   \n",
       "4598            0.30               0.00           0.30           0.0   \n",
       "4599            0.96               0.00           0.00           0.0   \n",
       "4600            0.00               0.00           0.65           0.0   \n",
       "\n",
       "      word_freq_our  word_freq_over  word_freq_remove  word_freq_internet  \\\n",
       "0              0.32            0.00              0.00                0.00   \n",
       "1              0.14            0.28              0.21                0.07   \n",
       "2              1.23            0.19              0.19                0.12   \n",
       "3              0.63            0.00              0.31                0.63   \n",
       "4              0.63            0.00              0.31                0.63   \n",
       "...             ...             ...               ...                 ...   \n",
       "4596           0.00            0.31              0.00                0.00   \n",
       "4597           0.00            0.00              0.00                0.00   \n",
       "4598           0.00            0.00              0.00                0.00   \n",
       "4599           0.32            0.00              0.00                0.00   \n",
       "4600           0.00            0.00              0.00                0.00   \n",
       "\n",
       "      word_freq_order  word_freq_mail  ...  word_freq_conference  \\\n",
       "0                0.00            0.00  ...                   0.0   \n",
       "1                0.00            0.94  ...                   0.0   \n",
       "2                0.64            0.25  ...                   0.0   \n",
       "3                0.31            0.63  ...                   0.0   \n",
       "4                0.31            0.63  ...                   0.0   \n",
       "...               ...             ...  ...                   ...   \n",
       "4596             0.00            0.00  ...                   0.0   \n",
       "4597             0.00            0.00  ...                   0.0   \n",
       "4598             0.00            0.00  ...                   0.0   \n",
       "4599             0.00            0.00  ...                   0.0   \n",
       "4600             0.00            0.00  ...                   0.0   \n",
       "\n",
       "      char_freq_%3B  char_freq_%28  char_freq_%5B  char_freq_%21  \\\n",
       "0             0.000          0.000            0.0          0.778   \n",
       "1             0.000          0.132            0.0          0.372   \n",
       "2             0.010          0.143            0.0          0.276   \n",
       "3             0.000          0.137            0.0          0.137   \n",
       "4             0.000          0.135            0.0          0.135   \n",
       "...             ...            ...            ...            ...   \n",
       "4596          0.000          0.232            0.0          0.000   \n",
       "4597          0.000          0.000            0.0          0.353   \n",
       "4598          0.102          0.718            0.0          0.000   \n",
       "4599          0.000          0.057            0.0          0.000   \n",
       "4600          0.000          0.000            0.0          0.125   \n",
       "\n",
       "      char_freq_%24  char_freq_%23  capital_run_length_average  \\\n",
       "0             0.000          0.000                       3.756   \n",
       "1             0.180          0.048                       5.114   \n",
       "2             0.184          0.010                       9.821   \n",
       "3             0.000          0.000                       3.537   \n",
       "4             0.000          0.000                       3.537   \n",
       "...             ...            ...                         ...   \n",
       "4596          0.000          0.000                       1.142   \n",
       "4597          0.000          0.000                       1.555   \n",
       "4598          0.000          0.000                       1.404   \n",
       "4599          0.000          0.000                       1.147   \n",
       "4600          0.000          0.000                       1.250   \n",
       "\n",
       "      capital_run_length_longest  capital_run_length_total  \n",
       "0                             61                       278  \n",
       "1                            101                      1028  \n",
       "2                            485                      2259  \n",
       "3                             40                       191  \n",
       "4                             40                       191  \n",
       "...                          ...                       ...  \n",
       "4596                           3                        88  \n",
       "4597                           4                        14  \n",
       "4598                           6                       118  \n",
       "4599                           5                        78  \n",
       "4600                           5                        40  \n",
       "\n",
       "[4601 rows x 57 columns]"
      ]
     },
     "execution_count": 3,
     "metadata": {},
     "output_type": "execute_result"
    }
   ],
   "source": [
    "X"
   ]
  },
  {
   "cell_type": "code",
   "execution_count": 4,
   "id": "2e368cd4",
   "metadata": {},
   "outputs": [
    {
     "data": {
      "text/plain": [
       "(4601, 57)"
      ]
     },
     "execution_count": 4,
     "metadata": {},
     "output_type": "execute_result"
    }
   ],
   "source": [
    "X.shape"
   ]
  },
  {
   "cell_type": "code",
   "execution_count": 5,
   "id": "50144d45",
   "metadata": {},
   "outputs": [
    {
     "data": {
      "text/plain": [
       "0       1\n",
       "1       1\n",
       "2       1\n",
       "3       1\n",
       "4       1\n",
       "       ..\n",
       "4596    0\n",
       "4597    0\n",
       "4598    0\n",
       "4599    0\n",
       "4600    0\n",
       "Name: class, Length: 4601, dtype: category\n",
       "Categories (2, object): ['0', '1']"
      ]
     },
     "execution_count": 5,
     "metadata": {},
     "output_type": "execute_result"
    }
   ],
   "source": [
    "y"
   ]
  },
  {
   "cell_type": "code",
   "execution_count": 6,
   "id": "78f56b2a",
   "metadata": {},
   "outputs": [
    {
     "data": {
      "text/plain": [
       "(4601,)"
      ]
     },
     "execution_count": 6,
     "metadata": {},
     "output_type": "execute_result"
    }
   ],
   "source": [
    "y.shape"
   ]
  },
  {
   "cell_type": "code",
   "execution_count": 11,
   "id": "c934f0fc",
   "metadata": {},
   "outputs": [],
   "source": [
    "# Chuẩn hóa dữ liệu\n",
    "scaler = StandardScaler()\n",
    "X_scaled = scaler.fit_transform(X)\n",
    "\n",
    "\n",
    "# Chia dữ liệu thành tập huấn luyện và tập kiểm tra theo tỷ lệ 7:3\n",
    "X_train, X_test, y_train, y_test = train_test_split(\n",
    "    X_scaled, y, test_size=0.3, random_state=42)"
   ]
  },
  {
   "cell_type": "code",
   "execution_count": 12,
   "id": "513c5274",
   "metadata": {},
   "outputs": [
    {
     "name": "stdout",
     "output_type": "stream",
     "text": [
      "SVM model with C=0.001:\n",
      "   Training accuracy: 0.88\n",
      "   Testing accuracy: 0.89\n",
      "SVM model with C=0.01:\n",
      "   Training accuracy: 0.92\n",
      "   Testing accuracy: 0.91\n",
      "SVM model with C=0.1:\n",
      "   Training accuracy: 0.93\n",
      "   Testing accuracy: 0.92\n",
      "SVM model with C=1:\n",
      "   Training accuracy: 0.93\n",
      "   Testing accuracy: 0.93\n",
      "SVM model with C=10:\n",
      "   Training accuracy: 0.94\n",
      "   Testing accuracy: 0.93\n",
      "SVM model with C=100:\n",
      "   Training accuracy: 0.94\n",
      "   Testing accuracy: 0.93\n",
      "SVM model with C=1000:\n",
      "   Training accuracy: 0.93\n",
      "   Testing accuracy: 0.93\n",
      "SVM model with C=10000:\n",
      "   Training accuracy: 0.93\n",
      "   Testing accuracy: 0.93\n"
     ]
    }
   ],
   "source": [
    "# Chuyển các giá trị trong y về nhãn -1 với 1\n",
    "y_train = np.where(y_train == '0', -1, 1)\n",
    "y_test = np.where(y_test == '0', -1, 1)\n",
    "\n",
    "# Huấn luyện mô hình SVM soft margin với các giá trị C trong danh sách\n",
    "C_values = [0.001, 0.01, 0.1, 1, 10, 100, 1000, 10000]\n",
    "for C in C_values:\n",
    "    svm_model = SVC(kernel='linear', C=C)\n",
    "    svm_model.fit(X_train, y_train)\n",
    "\n",
    "    # Predict\n",
    "    y_pred_train = svm_model.predict(X_train)\n",
    "    y_pred_test = svm_model.predict(X_test)\n",
    "\n",
    "    # Calculate accuracy\n",
    "    train_accuracy = accuracy_score(y_train, y_pred_train)\n",
    "    test_accuracy = accuracy_score(y_test, y_pred_test)\n",
    "\n",
    "    print(f\"SVM model with C={C}:\")\n",
    "    print(f\"   Training accuracy: {train_accuracy:.2f}\")\n",
    "    print(f\"   Testing accuracy: {test_accuracy:.2f}\")\n",
    "\n"
   ]
  },
  {
   "cell_type": "markdown",
   "id": "40bcb639",
   "metadata": {},
   "source": [
    "## Nhan xet:\n",
    "C càng lớn, thời gian thực thi mô hình càng lâu. Khi giá trị C tăng lên đến một ngưỡng nhất định, thì độ chĩnh xác trên tập kiểm tra và tập test cũng tăng lên. Cụ thể Khi tăng C = 10, C = 100 thì độ chính xác trên tập kiểm tra là 0.94, tập huấn luyện là 0.93. Tuy nhiên khi C = 1000, hay C = 10000 (hard margin) thì độ chính xác lại giảm về 0.93 trên cả 2 tập test và kiểm tra. Khi giá trị của C tăng đủ lớn, mô hình phân loại dữ liệu nghiêm ngặt hơn. Điều này dẫn đến sự cải thiện độ chính xác trên cả tập huấn luyện và tập kiểm tra.\n",
    "\n",
    "Nguyên nhân của việc khi C tăng đến 1 ngưỡng nhất định mà độ chính xác không được cải thiện thêm là do dữ liệu không thể được phân chia một cách hoàn hảo bằng một ranh giới tuyến tính. Khi đó, việc tăng giá trị của C không gây ra sự cải thiện đáng kể trong độ chính xác trên tập kiểm tra vì mô hình không thể tạo ra một ranh giới tuyến tính tốt hơn. Một nguyên nhân khác là khi C lớn, biên quyết định của mô hình SVM có thể không thay đổi đáng kể so với khi C có giá trị nhỏ hơn, tức là các điểm dữ liệu hỗ trợ (support vectors) và ranh giới giữa các lớp dữ liệu không thay đổi nhiều, nên độ chính xác của mô hình không được cải thiện."
   ]
  }
 ],
 "metadata": {
  "kernelspec": {
   "display_name": "Python 3",
   "language": "python",
   "name": "python3"
  },
  "language_info": {
   "codemirror_mode": {
    "name": "ipython",
    "version": 3
   },
   "file_extension": ".py",
   "mimetype": "text/x-python",
   "name": "python",
   "nbconvert_exporter": "python",
   "pygments_lexer": "ipython3",
   "version": "3.11.7"
  }
 },
 "nbformat": 4,
 "nbformat_minor": 5
}
