{
 "cells": [
  {
   "cell_type": "markdown",
   "source": [
    "# Bài tập tự thực hành 2"
   ],
   "metadata": {
    "collapsed": false
   },
   "id": "fdc1db88a0012f96"
  },
  {
   "cell_type": "code",
   "execution_count": 50,
   "outputs": [
    {
     "name": "stdout",
     "output_type": "stream",
     "text": [
      "[1.245e+01 1.570e+01 8.257e+01 4.771e+02 1.278e-01 1.700e-01 1.578e-01\n",
      " 8.089e-02 2.087e-01 7.613e-02 3.345e-01 8.902e-01 2.217e+00 2.719e+01\n",
      " 7.510e-03 3.345e-02 3.672e-02 1.137e-02 2.165e-02 5.082e-03 1.547e+01\n",
      " 2.375e+01 1.034e+02 7.416e+02 1.791e-01 5.249e-01 5.355e-01 1.741e-01\n",
      " 3.985e-01 1.244e-01]\n",
      "(569, 30)\n",
      "[0 0 0 0 0 0 0 0 0 0 0 0 0 0 0 0 0 0 0 1 1 1 0 0 0 0 0 0 0 0 0 0 0 0 0 0 0\n",
      " 1 0 0 0 0 0 0 0 0 1 0 1 1 1 1 1 0 0 1 0 0 1 1 1 1 0 1 0 0 1 1 1 1 0 1 0 0\n",
      " 1 0 1 0 0 1 1 1 0 0 1 0 0 0 1 1 1 0 1 1 0 0 1 1 1 0 0 1 1 1 1 0 1 1 0 1 1\n",
      " 1 1 1 1 1 1 0 0 0 1 0 0 1 1 1 0 0 1 0 1 0 0 1 0 0 1 1 0 1 1 0 1 1 1 1 0 1\n",
      " 1 1 1 1 1 1 1 1 0 1 1 1 1 0 0 1 0 1 1 0 0 1 1 0 0 1 1 1 1 0 1 1 0 0 0 1 0\n",
      " 1 0 1 1 1 0 1 1 0 0 1 0 0 0 0 1 0 0 0 1 0 1 0 1 1 0 1 0 0 0 0 1 1 0 0 1 1\n",
      " 1 0 1 1 1 1 1 0 0 1 1 0 1 1 0 0 1 0 1 1 1 1 0 1 1 1 1 1 0 1 0 0 0 0 0 0 0\n",
      " 0 0 0 0 0 0 0 1 1 1 1 1 1 0 1 0 1 1 0 1 1 0 1 0 0 1 1 1 1 1 1 1 1 1 1 1 1\n",
      " 1 0 1 1 0 1 0 1 1 1 1 1 1 1 1 1 1 1 1 1 1 0 1 1 1 0 1 0 1 1 1 1 0 0 0 1 1\n",
      " 1 1 0 1 0 1 0 1 1 1 0 1 1 1 1 1 1 1 0 0 0 1 1 1 1 1 1 1 1 1 1 1 0 0 1 0 0\n",
      " 0 1 0 0 1 1 1 1 1 0 1 1 1 1 1 0 1 1 1 0 1 1 0 0 1 1 1 1 1 1 0 1 1 1 1 1 1\n",
      " 1 0 1 1 1 1 1 0 1 1 0 1 1 1 1 1 1 1 1 1 1 1 1 0 1 0 0 1 0 1 1 1 1 1 0 1 1\n",
      " 0 1 0 1 1 0 1 0 1 1 1 1 1 1 1 1 0 0 1 1 1 1 1 1 0 1 1 1 1 1 1 1 1 1 1 0 1\n",
      " 1 1 1 1 1 1 0 1 0 1 1 0 1 1 1 1 1 0 0 1 0 1 0 1 1 1 1 1 0 1 1 0 1 0 1 0 0\n",
      " 1 1 1 0 1 1 1 1 1 1 1 1 1 1 1 0 1 0 0 1 1 1 1 1 1 1 1 1 1 1 1 1 1 1 1 1 1\n",
      " 1 1 1 1 1 1 1 0 0 0 0 0 0 1]\n"
     ]
    }
   ],
   "source": [
    "# load data\n",
    "from sklearn import datasets\n",
    "cancer_data = datasets.load_breast_cancer()\n",
    "\n",
    "# show to test record 5th\n",
    "print(cancer_data.data[5])\n",
    "print(cancer_data.data.shape)\n",
    "\n",
    "#target set\n",
    "print(cancer_data.target)\n",
    "from sklearn.model_selection import train_test_split\n",
    "cancer_data = datasets.load_breast_cancer()\n",
    "\n",
    "X_train, X_test, y_train, y_test = train_test_split(cancer_data.data,\n",
    "\n",
    "cancer_data.target,\n",
    "test_size=0.3,random_state=109)"
   ],
   "metadata": {
    "collapsed": false,
    "ExecuteTime": {
     "end_time": "2024-05-08T18:06:35.764011700Z",
     "start_time": "2024-05-08T18:06:35.733133500Z"
    }
   },
   "id": "38df7e953d54bc9c"
  },
  {
   "cell_type": "code",
   "execution_count": 2,
   "outputs": [],
   "source": [
    "import numpy as np\n",
    "import matplotlib.pyplot as plt\n",
    "from sklearn.svm import SVC\n",
    "from sklearn.metrics import accuracy_score"
   ],
   "metadata": {
    "collapsed": false,
    "ExecuteTime": {
     "end_time": "2024-05-06T02:40:25.977694700Z",
     "start_time": "2024-05-06T02:40:25.296984400Z"
    }
   },
   "id": "7a497c162926441e"
  },
  {
   "cell_type": "markdown",
   "source": [
    "# Hard margin thư viện"
   ],
   "metadata": {
    "collapsed": false
   },
   "id": "2790a34eae174688"
  },
  {
   "cell_type": "code",
   "execution_count": 3,
   "outputs": [
    {
     "data": {
      "text/plain": "SVC(C=1000.0, kernel='linear')",
      "text/html": "<style>#sk-container-id-1 {\n  /* Definition of color scheme common for light and dark mode */\n  --sklearn-color-text: black;\n  --sklearn-color-line: gray;\n  /* Definition of color scheme for unfitted estimators */\n  --sklearn-color-unfitted-level-0: #fff5e6;\n  --sklearn-color-unfitted-level-1: #f6e4d2;\n  --sklearn-color-unfitted-level-2: #ffe0b3;\n  --sklearn-color-unfitted-level-3: chocolate;\n  /* Definition of color scheme for fitted estimators */\n  --sklearn-color-fitted-level-0: #f0f8ff;\n  --sklearn-color-fitted-level-1: #d4ebff;\n  --sklearn-color-fitted-level-2: #b3dbfd;\n  --sklearn-color-fitted-level-3: cornflowerblue;\n\n  /* Specific color for light theme */\n  --sklearn-color-text-on-default-background: var(--sg-text-color, var(--theme-code-foreground, var(--jp-content-font-color1, black)));\n  --sklearn-color-background: var(--sg-background-color, var(--theme-background, var(--jp-layout-color0, white)));\n  --sklearn-color-border-box: var(--sg-text-color, var(--theme-code-foreground, var(--jp-content-font-color1, black)));\n  --sklearn-color-icon: #696969;\n\n  @media (prefers-color-scheme: dark) {\n    /* Redefinition of color scheme for dark theme */\n    --sklearn-color-text-on-default-background: var(--sg-text-color, var(--theme-code-foreground, var(--jp-content-font-color1, white)));\n    --sklearn-color-background: var(--sg-background-color, var(--theme-background, var(--jp-layout-color0, #111)));\n    --sklearn-color-border-box: var(--sg-text-color, var(--theme-code-foreground, var(--jp-content-font-color1, white)));\n    --sklearn-color-icon: #878787;\n  }\n}\n\n#sk-container-id-1 {\n  color: var(--sklearn-color-text);\n}\n\n#sk-container-id-1 pre {\n  padding: 0;\n}\n\n#sk-container-id-1 input.sk-hidden--visually {\n  border: 0;\n  clip: rect(1px 1px 1px 1px);\n  clip: rect(1px, 1px, 1px, 1px);\n  height: 1px;\n  margin: -1px;\n  overflow: hidden;\n  padding: 0;\n  position: absolute;\n  width: 1px;\n}\n\n#sk-container-id-1 div.sk-dashed-wrapped {\n  border: 1px dashed var(--sklearn-color-line);\n  margin: 0 0.4em 0.5em 0.4em;\n  box-sizing: border-box;\n  padding-bottom: 0.4em;\n  background-color: var(--sklearn-color-background);\n}\n\n#sk-container-id-1 div.sk-container {\n  /* jupyter's `normalize.less` sets `[hidden] { display: none; }`\n     but bootstrap.min.css set `[hidden] { display: none !important; }`\n     so we also need the `!important` here to be able to override the\n     default hidden behavior on the sphinx rendered scikit-learn.org.\n     See: https://github.com/scikit-learn/scikit-learn/issues/21755 */\n  display: inline-block !important;\n  position: relative;\n}\n\n#sk-container-id-1 div.sk-text-repr-fallback {\n  display: none;\n}\n\ndiv.sk-parallel-item,\ndiv.sk-serial,\ndiv.sk-item {\n  /* draw centered vertical line to link estimators */\n  background-image: linear-gradient(var(--sklearn-color-text-on-default-background), var(--sklearn-color-text-on-default-background));\n  background-size: 2px 100%;\n  background-repeat: no-repeat;\n  background-position: center center;\n}\n\n/* Parallel-specific style estimator block */\n\n#sk-container-id-1 div.sk-parallel-item::after {\n  content: \"\";\n  width: 100%;\n  border-bottom: 2px solid var(--sklearn-color-text-on-default-background);\n  flex-grow: 1;\n}\n\n#sk-container-id-1 div.sk-parallel {\n  display: flex;\n  align-items: stretch;\n  justify-content: center;\n  background-color: var(--sklearn-color-background);\n  position: relative;\n}\n\n#sk-container-id-1 div.sk-parallel-item {\n  display: flex;\n  flex-direction: column;\n}\n\n#sk-container-id-1 div.sk-parallel-item:first-child::after {\n  align-self: flex-end;\n  width: 50%;\n}\n\n#sk-container-id-1 div.sk-parallel-item:last-child::after {\n  align-self: flex-start;\n  width: 50%;\n}\n\n#sk-container-id-1 div.sk-parallel-item:only-child::after {\n  width: 0;\n}\n\n/* Serial-specific style estimator block */\n\n#sk-container-id-1 div.sk-serial {\n  display: flex;\n  flex-direction: column;\n  align-items: center;\n  background-color: var(--sklearn-color-background);\n  padding-right: 1em;\n  padding-left: 1em;\n}\n\n\n/* Toggleable style: style used for estimator/Pipeline/ColumnTransformer box that is\nclickable and can be expanded/collapsed.\n- Pipeline and ColumnTransformer use this feature and define the default style\n- Estimators will overwrite some part of the style using the `sk-estimator` class\n*/\n\n/* Pipeline and ColumnTransformer style (default) */\n\n#sk-container-id-1 div.sk-toggleable {\n  /* Default theme specific background. It is overwritten whether we have a\n  specific estimator or a Pipeline/ColumnTransformer */\n  background-color: var(--sklearn-color-background);\n}\n\n/* Toggleable label */\n#sk-container-id-1 label.sk-toggleable__label {\n  cursor: pointer;\n  display: block;\n  width: 100%;\n  margin-bottom: 0;\n  padding: 0.5em;\n  box-sizing: border-box;\n  text-align: center;\n}\n\n#sk-container-id-1 label.sk-toggleable__label-arrow:before {\n  /* Arrow on the left of the label */\n  content: \"▸\";\n  float: left;\n  margin-right: 0.25em;\n  color: var(--sklearn-color-icon);\n}\n\n#sk-container-id-1 label.sk-toggleable__label-arrow:hover:before {\n  color: var(--sklearn-color-text);\n}\n\n/* Toggleable content - dropdown */\n\n#sk-container-id-1 div.sk-toggleable__content {\n  max-height: 0;\n  max-width: 0;\n  overflow: hidden;\n  text-align: left;\n  /* unfitted */\n  background-color: var(--sklearn-color-unfitted-level-0);\n}\n\n#sk-container-id-1 div.sk-toggleable__content.fitted {\n  /* fitted */\n  background-color: var(--sklearn-color-fitted-level-0);\n}\n\n#sk-container-id-1 div.sk-toggleable__content pre {\n  margin: 0.2em;\n  border-radius: 0.25em;\n  color: var(--sklearn-color-text);\n  /* unfitted */\n  background-color: var(--sklearn-color-unfitted-level-0);\n}\n\n#sk-container-id-1 div.sk-toggleable__content.fitted pre {\n  /* unfitted */\n  background-color: var(--sklearn-color-fitted-level-0);\n}\n\n#sk-container-id-1 input.sk-toggleable__control:checked~div.sk-toggleable__content {\n  /* Expand drop-down */\n  max-height: 200px;\n  max-width: 100%;\n  overflow: auto;\n}\n\n#sk-container-id-1 input.sk-toggleable__control:checked~label.sk-toggleable__label-arrow:before {\n  content: \"▾\";\n}\n\n/* Pipeline/ColumnTransformer-specific style */\n\n#sk-container-id-1 div.sk-label input.sk-toggleable__control:checked~label.sk-toggleable__label {\n  color: var(--sklearn-color-text);\n  background-color: var(--sklearn-color-unfitted-level-2);\n}\n\n#sk-container-id-1 div.sk-label.fitted input.sk-toggleable__control:checked~label.sk-toggleable__label {\n  background-color: var(--sklearn-color-fitted-level-2);\n}\n\n/* Estimator-specific style */\n\n/* Colorize estimator box */\n#sk-container-id-1 div.sk-estimator input.sk-toggleable__control:checked~label.sk-toggleable__label {\n  /* unfitted */\n  background-color: var(--sklearn-color-unfitted-level-2);\n}\n\n#sk-container-id-1 div.sk-estimator.fitted input.sk-toggleable__control:checked~label.sk-toggleable__label {\n  /* fitted */\n  background-color: var(--sklearn-color-fitted-level-2);\n}\n\n#sk-container-id-1 div.sk-label label.sk-toggleable__label,\n#sk-container-id-1 div.sk-label label {\n  /* The background is the default theme color */\n  color: var(--sklearn-color-text-on-default-background);\n}\n\n/* On hover, darken the color of the background */\n#sk-container-id-1 div.sk-label:hover label.sk-toggleable__label {\n  color: var(--sklearn-color-text);\n  background-color: var(--sklearn-color-unfitted-level-2);\n}\n\n/* Label box, darken color on hover, fitted */\n#sk-container-id-1 div.sk-label.fitted:hover label.sk-toggleable__label.fitted {\n  color: var(--sklearn-color-text);\n  background-color: var(--sklearn-color-fitted-level-2);\n}\n\n/* Estimator label */\n\n#sk-container-id-1 div.sk-label label {\n  font-family: monospace;\n  font-weight: bold;\n  display: inline-block;\n  line-height: 1.2em;\n}\n\n#sk-container-id-1 div.sk-label-container {\n  text-align: center;\n}\n\n/* Estimator-specific */\n#sk-container-id-1 div.sk-estimator {\n  font-family: monospace;\n  border: 1px dotted var(--sklearn-color-border-box);\n  border-radius: 0.25em;\n  box-sizing: border-box;\n  margin-bottom: 0.5em;\n  /* unfitted */\n  background-color: var(--sklearn-color-unfitted-level-0);\n}\n\n#sk-container-id-1 div.sk-estimator.fitted {\n  /* fitted */\n  background-color: var(--sklearn-color-fitted-level-0);\n}\n\n/* on hover */\n#sk-container-id-1 div.sk-estimator:hover {\n  /* unfitted */\n  background-color: var(--sklearn-color-unfitted-level-2);\n}\n\n#sk-container-id-1 div.sk-estimator.fitted:hover {\n  /* fitted */\n  background-color: var(--sklearn-color-fitted-level-2);\n}\n\n/* Specification for estimator info (e.g. \"i\" and \"?\") */\n\n/* Common style for \"i\" and \"?\" */\n\n.sk-estimator-doc-link,\na:link.sk-estimator-doc-link,\na:visited.sk-estimator-doc-link {\n  float: right;\n  font-size: smaller;\n  line-height: 1em;\n  font-family: monospace;\n  background-color: var(--sklearn-color-background);\n  border-radius: 1em;\n  height: 1em;\n  width: 1em;\n  text-decoration: none !important;\n  margin-left: 1ex;\n  /* unfitted */\n  border: var(--sklearn-color-unfitted-level-1) 1pt solid;\n  color: var(--sklearn-color-unfitted-level-1);\n}\n\n.sk-estimator-doc-link.fitted,\na:link.sk-estimator-doc-link.fitted,\na:visited.sk-estimator-doc-link.fitted {\n  /* fitted */\n  border: var(--sklearn-color-fitted-level-1) 1pt solid;\n  color: var(--sklearn-color-fitted-level-1);\n}\n\n/* On hover */\ndiv.sk-estimator:hover .sk-estimator-doc-link:hover,\n.sk-estimator-doc-link:hover,\ndiv.sk-label-container:hover .sk-estimator-doc-link:hover,\n.sk-estimator-doc-link:hover {\n  /* unfitted */\n  background-color: var(--sklearn-color-unfitted-level-3);\n  color: var(--sklearn-color-background);\n  text-decoration: none;\n}\n\ndiv.sk-estimator.fitted:hover .sk-estimator-doc-link.fitted:hover,\n.sk-estimator-doc-link.fitted:hover,\ndiv.sk-label-container:hover .sk-estimator-doc-link.fitted:hover,\n.sk-estimator-doc-link.fitted:hover {\n  /* fitted */\n  background-color: var(--sklearn-color-fitted-level-3);\n  color: var(--sklearn-color-background);\n  text-decoration: none;\n}\n\n/* Span, style for the box shown on hovering the info icon */\n.sk-estimator-doc-link span {\n  display: none;\n  z-index: 9999;\n  position: relative;\n  font-weight: normal;\n  right: .2ex;\n  padding: .5ex;\n  margin: .5ex;\n  width: min-content;\n  min-width: 20ex;\n  max-width: 50ex;\n  color: var(--sklearn-color-text);\n  box-shadow: 2pt 2pt 4pt #999;\n  /* unfitted */\n  background: var(--sklearn-color-unfitted-level-0);\n  border: .5pt solid var(--sklearn-color-unfitted-level-3);\n}\n\n.sk-estimator-doc-link.fitted span {\n  /* fitted */\n  background: var(--sklearn-color-fitted-level-0);\n  border: var(--sklearn-color-fitted-level-3);\n}\n\n.sk-estimator-doc-link:hover span {\n  display: block;\n}\n\n/* \"?\"-specific style due to the `<a>` HTML tag */\n\n#sk-container-id-1 a.estimator_doc_link {\n  float: right;\n  font-size: 1rem;\n  line-height: 1em;\n  font-family: monospace;\n  background-color: var(--sklearn-color-background);\n  border-radius: 1rem;\n  height: 1rem;\n  width: 1rem;\n  text-decoration: none;\n  /* unfitted */\n  color: var(--sklearn-color-unfitted-level-1);\n  border: var(--sklearn-color-unfitted-level-1) 1pt solid;\n}\n\n#sk-container-id-1 a.estimator_doc_link.fitted {\n  /* fitted */\n  border: var(--sklearn-color-fitted-level-1) 1pt solid;\n  color: var(--sklearn-color-fitted-level-1);\n}\n\n/* On hover */\n#sk-container-id-1 a.estimator_doc_link:hover {\n  /* unfitted */\n  background-color: var(--sklearn-color-unfitted-level-3);\n  color: var(--sklearn-color-background);\n  text-decoration: none;\n}\n\n#sk-container-id-1 a.estimator_doc_link.fitted:hover {\n  /* fitted */\n  background-color: var(--sklearn-color-fitted-level-3);\n}\n</style><div id=\"sk-container-id-1\" class=\"sk-top-container\"><div class=\"sk-text-repr-fallback\"><pre>SVC(C=1000.0, kernel=&#x27;linear&#x27;)</pre><b>In a Jupyter environment, please rerun this cell to show the HTML representation or trust the notebook. <br />On GitHub, the HTML representation is unable to render, please try loading this page with nbviewer.org.</b></div><div class=\"sk-container\" hidden><div class=\"sk-item\"><div class=\"sk-estimator fitted sk-toggleable\"><input class=\"sk-toggleable__control sk-hidden--visually\" id=\"sk-estimator-id-1\" type=\"checkbox\" checked><label for=\"sk-estimator-id-1\" class=\"sk-toggleable__label fitted sk-toggleable__label-arrow fitted\">&nbsp;&nbsp;SVC<a class=\"sk-estimator-doc-link fitted\" rel=\"noreferrer\" target=\"_blank\" href=\"https://scikit-learn.org/1.4/modules/generated/sklearn.svm.SVC.html\">?<span>Documentation for SVC</span></a><span class=\"sk-estimator-doc-link fitted\">i<span>Fitted</span></span></label><div class=\"sk-toggleable__content fitted\"><pre>SVC(C=1000.0, kernel=&#x27;linear&#x27;)</pre></div> </div></div></div></div>"
     },
     "execution_count": 3,
     "metadata": {},
     "output_type": "execute_result"
    }
   ],
   "source": [
    "hard_margin_svm = SVC(kernel='linear', C=float(10000))\n",
    "hard_margin_svm.fit(X_train, y_train)"
   ],
   "metadata": {
    "collapsed": false,
    "ExecuteTime": {
     "end_time": "2024-05-06T02:40:33.215933100Z",
     "start_time": "2024-05-06T02:40:28.499937300Z"
    }
   },
   "id": "42d1d1d4c3dd2887"
  },
  {
   "cell_type": "code",
   "execution_count": 4,
   "outputs": [
    {
     "name": "stdout",
     "output_type": "stream",
     "text": [
      "accuracy using hard margin: 0.98\n"
     ]
    }
   ],
   "source": [
    "y_hard_predict = hard_margin_svm.predict(X_test)\n",
    "\n",
    "acc_hard_margin = accuracy_score(y_test, y_hard_predict)\n",
    "\n",
    "print(f'accuracy using hard margin: {acc_hard_margin:.2f}')"
   ],
   "metadata": {
    "collapsed": false,
    "ExecuteTime": {
     "end_time": "2024-05-06T02:40:39.959173700Z",
     "start_time": "2024-05-06T02:40:39.958667200Z"
    }
   },
   "id": "11ac8c056942af00"
  },
  {
   "cell_type": "markdown",
   "source": [
    "# Soft margin thư viện"
   ],
   "metadata": {
    "collapsed": false
   },
   "id": "988b142852132c45"
  },
  {
   "cell_type": "code",
   "execution_count": 5,
   "outputs": [
    {
     "data": {
      "text/plain": "SVC(kernel='linear')",
      "text/html": "<style>#sk-container-id-2 {\n  /* Definition of color scheme common for light and dark mode */\n  --sklearn-color-text: black;\n  --sklearn-color-line: gray;\n  /* Definition of color scheme for unfitted estimators */\n  --sklearn-color-unfitted-level-0: #fff5e6;\n  --sklearn-color-unfitted-level-1: #f6e4d2;\n  --sklearn-color-unfitted-level-2: #ffe0b3;\n  --sklearn-color-unfitted-level-3: chocolate;\n  /* Definition of color scheme for fitted estimators */\n  --sklearn-color-fitted-level-0: #f0f8ff;\n  --sklearn-color-fitted-level-1: #d4ebff;\n  --sklearn-color-fitted-level-2: #b3dbfd;\n  --sklearn-color-fitted-level-3: cornflowerblue;\n\n  /* Specific color for light theme */\n  --sklearn-color-text-on-default-background: var(--sg-text-color, var(--theme-code-foreground, var(--jp-content-font-color1, black)));\n  --sklearn-color-background: var(--sg-background-color, var(--theme-background, var(--jp-layout-color0, white)));\n  --sklearn-color-border-box: var(--sg-text-color, var(--theme-code-foreground, var(--jp-content-font-color1, black)));\n  --sklearn-color-icon: #696969;\n\n  @media (prefers-color-scheme: dark) {\n    /* Redefinition of color scheme for dark theme */\n    --sklearn-color-text-on-default-background: var(--sg-text-color, var(--theme-code-foreground, var(--jp-content-font-color1, white)));\n    --sklearn-color-background: var(--sg-background-color, var(--theme-background, var(--jp-layout-color0, #111)));\n    --sklearn-color-border-box: var(--sg-text-color, var(--theme-code-foreground, var(--jp-content-font-color1, white)));\n    --sklearn-color-icon: #878787;\n  }\n}\n\n#sk-container-id-2 {\n  color: var(--sklearn-color-text);\n}\n\n#sk-container-id-2 pre {\n  padding: 0;\n}\n\n#sk-container-id-2 input.sk-hidden--visually {\n  border: 0;\n  clip: rect(1px 1px 1px 1px);\n  clip: rect(1px, 1px, 1px, 1px);\n  height: 1px;\n  margin: -1px;\n  overflow: hidden;\n  padding: 0;\n  position: absolute;\n  width: 1px;\n}\n\n#sk-container-id-2 div.sk-dashed-wrapped {\n  border: 1px dashed var(--sklearn-color-line);\n  margin: 0 0.4em 0.5em 0.4em;\n  box-sizing: border-box;\n  padding-bottom: 0.4em;\n  background-color: var(--sklearn-color-background);\n}\n\n#sk-container-id-2 div.sk-container {\n  /* jupyter's `normalize.less` sets `[hidden] { display: none; }`\n     but bootstrap.min.css set `[hidden] { display: none !important; }`\n     so we also need the `!important` here to be able to override the\n     default hidden behavior on the sphinx rendered scikit-learn.org.\n     See: https://github.com/scikit-learn/scikit-learn/issues/21755 */\n  display: inline-block !important;\n  position: relative;\n}\n\n#sk-container-id-2 div.sk-text-repr-fallback {\n  display: none;\n}\n\ndiv.sk-parallel-item,\ndiv.sk-serial,\ndiv.sk-item {\n  /* draw centered vertical line to link estimators */\n  background-image: linear-gradient(var(--sklearn-color-text-on-default-background), var(--sklearn-color-text-on-default-background));\n  background-size: 2px 100%;\n  background-repeat: no-repeat;\n  background-position: center center;\n}\n\n/* Parallel-specific style estimator block */\n\n#sk-container-id-2 div.sk-parallel-item::after {\n  content: \"\";\n  width: 100%;\n  border-bottom: 2px solid var(--sklearn-color-text-on-default-background);\n  flex-grow: 1;\n}\n\n#sk-container-id-2 div.sk-parallel {\n  display: flex;\n  align-items: stretch;\n  justify-content: center;\n  background-color: var(--sklearn-color-background);\n  position: relative;\n}\n\n#sk-container-id-2 div.sk-parallel-item {\n  display: flex;\n  flex-direction: column;\n}\n\n#sk-container-id-2 div.sk-parallel-item:first-child::after {\n  align-self: flex-end;\n  width: 50%;\n}\n\n#sk-container-id-2 div.sk-parallel-item:last-child::after {\n  align-self: flex-start;\n  width: 50%;\n}\n\n#sk-container-id-2 div.sk-parallel-item:only-child::after {\n  width: 0;\n}\n\n/* Serial-specific style estimator block */\n\n#sk-container-id-2 div.sk-serial {\n  display: flex;\n  flex-direction: column;\n  align-items: center;\n  background-color: var(--sklearn-color-background);\n  padding-right: 1em;\n  padding-left: 1em;\n}\n\n\n/* Toggleable style: style used for estimator/Pipeline/ColumnTransformer box that is\nclickable and can be expanded/collapsed.\n- Pipeline and ColumnTransformer use this feature and define the default style\n- Estimators will overwrite some part of the style using the `sk-estimator` class\n*/\n\n/* Pipeline and ColumnTransformer style (default) */\n\n#sk-container-id-2 div.sk-toggleable {\n  /* Default theme specific background. It is overwritten whether we have a\n  specific estimator or a Pipeline/ColumnTransformer */\n  background-color: var(--sklearn-color-background);\n}\n\n/* Toggleable label */\n#sk-container-id-2 label.sk-toggleable__label {\n  cursor: pointer;\n  display: block;\n  width: 100%;\n  margin-bottom: 0;\n  padding: 0.5em;\n  box-sizing: border-box;\n  text-align: center;\n}\n\n#sk-container-id-2 label.sk-toggleable__label-arrow:before {\n  /* Arrow on the left of the label */\n  content: \"▸\";\n  float: left;\n  margin-right: 0.25em;\n  color: var(--sklearn-color-icon);\n}\n\n#sk-container-id-2 label.sk-toggleable__label-arrow:hover:before {\n  color: var(--sklearn-color-text);\n}\n\n/* Toggleable content - dropdown */\n\n#sk-container-id-2 div.sk-toggleable__content {\n  max-height: 0;\n  max-width: 0;\n  overflow: hidden;\n  text-align: left;\n  /* unfitted */\n  background-color: var(--sklearn-color-unfitted-level-0);\n}\n\n#sk-container-id-2 div.sk-toggleable__content.fitted {\n  /* fitted */\n  background-color: var(--sklearn-color-fitted-level-0);\n}\n\n#sk-container-id-2 div.sk-toggleable__content pre {\n  margin: 0.2em;\n  border-radius: 0.25em;\n  color: var(--sklearn-color-text);\n  /* unfitted */\n  background-color: var(--sklearn-color-unfitted-level-0);\n}\n\n#sk-container-id-2 div.sk-toggleable__content.fitted pre {\n  /* unfitted */\n  background-color: var(--sklearn-color-fitted-level-0);\n}\n\n#sk-container-id-2 input.sk-toggleable__control:checked~div.sk-toggleable__content {\n  /* Expand drop-down */\n  max-height: 200px;\n  max-width: 100%;\n  overflow: auto;\n}\n\n#sk-container-id-2 input.sk-toggleable__control:checked~label.sk-toggleable__label-arrow:before {\n  content: \"▾\";\n}\n\n/* Pipeline/ColumnTransformer-specific style */\n\n#sk-container-id-2 div.sk-label input.sk-toggleable__control:checked~label.sk-toggleable__label {\n  color: var(--sklearn-color-text);\n  background-color: var(--sklearn-color-unfitted-level-2);\n}\n\n#sk-container-id-2 div.sk-label.fitted input.sk-toggleable__control:checked~label.sk-toggleable__label {\n  background-color: var(--sklearn-color-fitted-level-2);\n}\n\n/* Estimator-specific style */\n\n/* Colorize estimator box */\n#sk-container-id-2 div.sk-estimator input.sk-toggleable__control:checked~label.sk-toggleable__label {\n  /* unfitted */\n  background-color: var(--sklearn-color-unfitted-level-2);\n}\n\n#sk-container-id-2 div.sk-estimator.fitted input.sk-toggleable__control:checked~label.sk-toggleable__label {\n  /* fitted */\n  background-color: var(--sklearn-color-fitted-level-2);\n}\n\n#sk-container-id-2 div.sk-label label.sk-toggleable__label,\n#sk-container-id-2 div.sk-label label {\n  /* The background is the default theme color */\n  color: var(--sklearn-color-text-on-default-background);\n}\n\n/* On hover, darken the color of the background */\n#sk-container-id-2 div.sk-label:hover label.sk-toggleable__label {\n  color: var(--sklearn-color-text);\n  background-color: var(--sklearn-color-unfitted-level-2);\n}\n\n/* Label box, darken color on hover, fitted */\n#sk-container-id-2 div.sk-label.fitted:hover label.sk-toggleable__label.fitted {\n  color: var(--sklearn-color-text);\n  background-color: var(--sklearn-color-fitted-level-2);\n}\n\n/* Estimator label */\n\n#sk-container-id-2 div.sk-label label {\n  font-family: monospace;\n  font-weight: bold;\n  display: inline-block;\n  line-height: 1.2em;\n}\n\n#sk-container-id-2 div.sk-label-container {\n  text-align: center;\n}\n\n/* Estimator-specific */\n#sk-container-id-2 div.sk-estimator {\n  font-family: monospace;\n  border: 1px dotted var(--sklearn-color-border-box);\n  border-radius: 0.25em;\n  box-sizing: border-box;\n  margin-bottom: 0.5em;\n  /* unfitted */\n  background-color: var(--sklearn-color-unfitted-level-0);\n}\n\n#sk-container-id-2 div.sk-estimator.fitted {\n  /* fitted */\n  background-color: var(--sklearn-color-fitted-level-0);\n}\n\n/* on hover */\n#sk-container-id-2 div.sk-estimator:hover {\n  /* unfitted */\n  background-color: var(--sklearn-color-unfitted-level-2);\n}\n\n#sk-container-id-2 div.sk-estimator.fitted:hover {\n  /* fitted */\n  background-color: var(--sklearn-color-fitted-level-2);\n}\n\n/* Specification for estimator info (e.g. \"i\" and \"?\") */\n\n/* Common style for \"i\" and \"?\" */\n\n.sk-estimator-doc-link,\na:link.sk-estimator-doc-link,\na:visited.sk-estimator-doc-link {\n  float: right;\n  font-size: smaller;\n  line-height: 1em;\n  font-family: monospace;\n  background-color: var(--sklearn-color-background);\n  border-radius: 1em;\n  height: 1em;\n  width: 1em;\n  text-decoration: none !important;\n  margin-left: 1ex;\n  /* unfitted */\n  border: var(--sklearn-color-unfitted-level-1) 1pt solid;\n  color: var(--sklearn-color-unfitted-level-1);\n}\n\n.sk-estimator-doc-link.fitted,\na:link.sk-estimator-doc-link.fitted,\na:visited.sk-estimator-doc-link.fitted {\n  /* fitted */\n  border: var(--sklearn-color-fitted-level-1) 1pt solid;\n  color: var(--sklearn-color-fitted-level-1);\n}\n\n/* On hover */\ndiv.sk-estimator:hover .sk-estimator-doc-link:hover,\n.sk-estimator-doc-link:hover,\ndiv.sk-label-container:hover .sk-estimator-doc-link:hover,\n.sk-estimator-doc-link:hover {\n  /* unfitted */\n  background-color: var(--sklearn-color-unfitted-level-3);\n  color: var(--sklearn-color-background);\n  text-decoration: none;\n}\n\ndiv.sk-estimator.fitted:hover .sk-estimator-doc-link.fitted:hover,\n.sk-estimator-doc-link.fitted:hover,\ndiv.sk-label-container:hover .sk-estimator-doc-link.fitted:hover,\n.sk-estimator-doc-link.fitted:hover {\n  /* fitted */\n  background-color: var(--sklearn-color-fitted-level-3);\n  color: var(--sklearn-color-background);\n  text-decoration: none;\n}\n\n/* Span, style for the box shown on hovering the info icon */\n.sk-estimator-doc-link span {\n  display: none;\n  z-index: 9999;\n  position: relative;\n  font-weight: normal;\n  right: .2ex;\n  padding: .5ex;\n  margin: .5ex;\n  width: min-content;\n  min-width: 20ex;\n  max-width: 50ex;\n  color: var(--sklearn-color-text);\n  box-shadow: 2pt 2pt 4pt #999;\n  /* unfitted */\n  background: var(--sklearn-color-unfitted-level-0);\n  border: .5pt solid var(--sklearn-color-unfitted-level-3);\n}\n\n.sk-estimator-doc-link.fitted span {\n  /* fitted */\n  background: var(--sklearn-color-fitted-level-0);\n  border: var(--sklearn-color-fitted-level-3);\n}\n\n.sk-estimator-doc-link:hover span {\n  display: block;\n}\n\n/* \"?\"-specific style due to the `<a>` HTML tag */\n\n#sk-container-id-2 a.estimator_doc_link {\n  float: right;\n  font-size: 1rem;\n  line-height: 1em;\n  font-family: monospace;\n  background-color: var(--sklearn-color-background);\n  border-radius: 1rem;\n  height: 1rem;\n  width: 1rem;\n  text-decoration: none;\n  /* unfitted */\n  color: var(--sklearn-color-unfitted-level-1);\n  border: var(--sklearn-color-unfitted-level-1) 1pt solid;\n}\n\n#sk-container-id-2 a.estimator_doc_link.fitted {\n  /* fitted */\n  border: var(--sklearn-color-fitted-level-1) 1pt solid;\n  color: var(--sklearn-color-fitted-level-1);\n}\n\n/* On hover */\n#sk-container-id-2 a.estimator_doc_link:hover {\n  /* unfitted */\n  background-color: var(--sklearn-color-unfitted-level-3);\n  color: var(--sklearn-color-background);\n  text-decoration: none;\n}\n\n#sk-container-id-2 a.estimator_doc_link.fitted:hover {\n  /* fitted */\n  background-color: var(--sklearn-color-fitted-level-3);\n}\n</style><div id=\"sk-container-id-2\" class=\"sk-top-container\"><div class=\"sk-text-repr-fallback\"><pre>SVC(kernel=&#x27;linear&#x27;)</pre><b>In a Jupyter environment, please rerun this cell to show the HTML representation or trust the notebook. <br />On GitHub, the HTML representation is unable to render, please try loading this page with nbviewer.org.</b></div><div class=\"sk-container\" hidden><div class=\"sk-item\"><div class=\"sk-estimator fitted sk-toggleable\"><input class=\"sk-toggleable__control sk-hidden--visually\" id=\"sk-estimator-id-2\" type=\"checkbox\" checked><label for=\"sk-estimator-id-2\" class=\"sk-toggleable__label fitted sk-toggleable__label-arrow fitted\">&nbsp;&nbsp;SVC<a class=\"sk-estimator-doc-link fitted\" rel=\"noreferrer\" target=\"_blank\" href=\"https://scikit-learn.org/1.4/modules/generated/sklearn.svm.SVC.html\">?<span>Documentation for SVC</span></a><span class=\"sk-estimator-doc-link fitted\">i<span>Fitted</span></span></label><div class=\"sk-toggleable__content fitted\"><pre>SVC(kernel=&#x27;linear&#x27;)</pre></div> </div></div></div></div>"
     },
     "execution_count": 5,
     "metadata": {},
     "output_type": "execute_result"
    }
   ],
   "source": [
    "soft_margin_svm = SVC(kernel='linear', C=1.0)\n",
    "soft_margin_svm.fit(X_train, y_train)"
   ],
   "metadata": {
    "collapsed": false,
    "ExecuteTime": {
     "end_time": "2024-05-06T02:40:51.597374100Z",
     "start_time": "2024-05-06T02:40:49.870974700Z"
    }
   },
   "id": "d89fb18577f43886"
  },
  {
   "cell_type": "code",
   "execution_count": 6,
   "outputs": [
    {
     "name": "stdout",
     "output_type": "stream",
     "text": [
      "accuracy using hard margin: 0.96\n"
     ]
    }
   ],
   "source": [
    "y_soft_predict = soft_margin_svm.predict(X_test)\n",
    "\n",
    "acc_soft_margin = accuracy_score(y_test, y_soft_predict)\n",
    "\n",
    "print(f'accuracy using hard margin: {acc_soft_margin:.2f}')"
   ],
   "metadata": {
    "collapsed": false,
    "ExecuteTime": {
     "end_time": "2024-05-06T02:41:39.788406200Z",
     "start_time": "2024-05-06T02:41:39.772385700Z"
    }
   },
   "id": "a194f787bc64a50"
  },
  {
   "cell_type": "markdown",
   "source": [
    "# Kernel thư viện"
   ],
   "metadata": {
    "collapsed": false
   },
   "id": "c11533e3486a4dd7"
  },
  {
   "cell_type": "code",
   "execution_count": 19,
   "outputs": [
    {
     "data": {
      "text/plain": "SVC(C=10, random_state=20)",
      "text/html": "<style>#sk-container-id-9 {\n  /* Definition of color scheme common for light and dark mode */\n  --sklearn-color-text: black;\n  --sklearn-color-line: gray;\n  /* Definition of color scheme for unfitted estimators */\n  --sklearn-color-unfitted-level-0: #fff5e6;\n  --sklearn-color-unfitted-level-1: #f6e4d2;\n  --sklearn-color-unfitted-level-2: #ffe0b3;\n  --sklearn-color-unfitted-level-3: chocolate;\n  /* Definition of color scheme for fitted estimators */\n  --sklearn-color-fitted-level-0: #f0f8ff;\n  --sklearn-color-fitted-level-1: #d4ebff;\n  --sklearn-color-fitted-level-2: #b3dbfd;\n  --sklearn-color-fitted-level-3: cornflowerblue;\n\n  /* Specific color for light theme */\n  --sklearn-color-text-on-default-background: var(--sg-text-color, var(--theme-code-foreground, var(--jp-content-font-color1, black)));\n  --sklearn-color-background: var(--sg-background-color, var(--theme-background, var(--jp-layout-color0, white)));\n  --sklearn-color-border-box: var(--sg-text-color, var(--theme-code-foreground, var(--jp-content-font-color1, black)));\n  --sklearn-color-icon: #696969;\n\n  @media (prefers-color-scheme: dark) {\n    /* Redefinition of color scheme for dark theme */\n    --sklearn-color-text-on-default-background: var(--sg-text-color, var(--theme-code-foreground, var(--jp-content-font-color1, white)));\n    --sklearn-color-background: var(--sg-background-color, var(--theme-background, var(--jp-layout-color0, #111)));\n    --sklearn-color-border-box: var(--sg-text-color, var(--theme-code-foreground, var(--jp-content-font-color1, white)));\n    --sklearn-color-icon: #878787;\n  }\n}\n\n#sk-container-id-9 {\n  color: var(--sklearn-color-text);\n}\n\n#sk-container-id-9 pre {\n  padding: 0;\n}\n\n#sk-container-id-9 input.sk-hidden--visually {\n  border: 0;\n  clip: rect(1px 1px 1px 1px);\n  clip: rect(1px, 1px, 1px, 1px);\n  height: 1px;\n  margin: -1px;\n  overflow: hidden;\n  padding: 0;\n  position: absolute;\n  width: 1px;\n}\n\n#sk-container-id-9 div.sk-dashed-wrapped {\n  border: 1px dashed var(--sklearn-color-line);\n  margin: 0 0.4em 0.5em 0.4em;\n  box-sizing: border-box;\n  padding-bottom: 0.4em;\n  background-color: var(--sklearn-color-background);\n}\n\n#sk-container-id-9 div.sk-container {\n  /* jupyter's `normalize.less` sets `[hidden] { display: none; }`\n     but bootstrap.min.css set `[hidden] { display: none !important; }`\n     so we also need the `!important` here to be able to override the\n     default hidden behavior on the sphinx rendered scikit-learn.org.\n     See: https://github.com/scikit-learn/scikit-learn/issues/21755 */\n  display: inline-block !important;\n  position: relative;\n}\n\n#sk-container-id-9 div.sk-text-repr-fallback {\n  display: none;\n}\n\ndiv.sk-parallel-item,\ndiv.sk-serial,\ndiv.sk-item {\n  /* draw centered vertical line to link estimators */\n  background-image: linear-gradient(var(--sklearn-color-text-on-default-background), var(--sklearn-color-text-on-default-background));\n  background-size: 2px 100%;\n  background-repeat: no-repeat;\n  background-position: center center;\n}\n\n/* Parallel-specific style estimator block */\n\n#sk-container-id-9 div.sk-parallel-item::after {\n  content: \"\";\n  width: 100%;\n  border-bottom: 2px solid var(--sklearn-color-text-on-default-background);\n  flex-grow: 1;\n}\n\n#sk-container-id-9 div.sk-parallel {\n  display: flex;\n  align-items: stretch;\n  justify-content: center;\n  background-color: var(--sklearn-color-background);\n  position: relative;\n}\n\n#sk-container-id-9 div.sk-parallel-item {\n  display: flex;\n  flex-direction: column;\n}\n\n#sk-container-id-9 div.sk-parallel-item:first-child::after {\n  align-self: flex-end;\n  width: 50%;\n}\n\n#sk-container-id-9 div.sk-parallel-item:last-child::after {\n  align-self: flex-start;\n  width: 50%;\n}\n\n#sk-container-id-9 div.sk-parallel-item:only-child::after {\n  width: 0;\n}\n\n/* Serial-specific style estimator block */\n\n#sk-container-id-9 div.sk-serial {\n  display: flex;\n  flex-direction: column;\n  align-items: center;\n  background-color: var(--sklearn-color-background);\n  padding-right: 1em;\n  padding-left: 1em;\n}\n\n\n/* Toggleable style: style used for estimator/Pipeline/ColumnTransformer box that is\nclickable and can be expanded/collapsed.\n- Pipeline and ColumnTransformer use this feature and define the default style\n- Estimators will overwrite some part of the style using the `sk-estimator` class\n*/\n\n/* Pipeline and ColumnTransformer style (default) */\n\n#sk-container-id-9 div.sk-toggleable {\n  /* Default theme specific background. It is overwritten whether we have a\n  specific estimator or a Pipeline/ColumnTransformer */\n  background-color: var(--sklearn-color-background);\n}\n\n/* Toggleable label */\n#sk-container-id-9 label.sk-toggleable__label {\n  cursor: pointer;\n  display: block;\n  width: 100%;\n  margin-bottom: 0;\n  padding: 0.5em;\n  box-sizing: border-box;\n  text-align: center;\n}\n\n#sk-container-id-9 label.sk-toggleable__label-arrow:before {\n  /* Arrow on the left of the label */\n  content: \"▸\";\n  float: left;\n  margin-right: 0.25em;\n  color: var(--sklearn-color-icon);\n}\n\n#sk-container-id-9 label.sk-toggleable__label-arrow:hover:before {\n  color: var(--sklearn-color-text);\n}\n\n/* Toggleable content - dropdown */\n\n#sk-container-id-9 div.sk-toggleable__content {\n  max-height: 0;\n  max-width: 0;\n  overflow: hidden;\n  text-align: left;\n  /* unfitted */\n  background-color: var(--sklearn-color-unfitted-level-0);\n}\n\n#sk-container-id-9 div.sk-toggleable__content.fitted {\n  /* fitted */\n  background-color: var(--sklearn-color-fitted-level-0);\n}\n\n#sk-container-id-9 div.sk-toggleable__content pre {\n  margin: 0.2em;\n  border-radius: 0.25em;\n  color: var(--sklearn-color-text);\n  /* unfitted */\n  background-color: var(--sklearn-color-unfitted-level-0);\n}\n\n#sk-container-id-9 div.sk-toggleable__content.fitted pre {\n  /* unfitted */\n  background-color: var(--sklearn-color-fitted-level-0);\n}\n\n#sk-container-id-9 input.sk-toggleable__control:checked~div.sk-toggleable__content {\n  /* Expand drop-down */\n  max-height: 200px;\n  max-width: 100%;\n  overflow: auto;\n}\n\n#sk-container-id-9 input.sk-toggleable__control:checked~label.sk-toggleable__label-arrow:before {\n  content: \"▾\";\n}\n\n/* Pipeline/ColumnTransformer-specific style */\n\n#sk-container-id-9 div.sk-label input.sk-toggleable__control:checked~label.sk-toggleable__label {\n  color: var(--sklearn-color-text);\n  background-color: var(--sklearn-color-unfitted-level-2);\n}\n\n#sk-container-id-9 div.sk-label.fitted input.sk-toggleable__control:checked~label.sk-toggleable__label {\n  background-color: var(--sklearn-color-fitted-level-2);\n}\n\n/* Estimator-specific style */\n\n/* Colorize estimator box */\n#sk-container-id-9 div.sk-estimator input.sk-toggleable__control:checked~label.sk-toggleable__label {\n  /* unfitted */\n  background-color: var(--sklearn-color-unfitted-level-2);\n}\n\n#sk-container-id-9 div.sk-estimator.fitted input.sk-toggleable__control:checked~label.sk-toggleable__label {\n  /* fitted */\n  background-color: var(--sklearn-color-fitted-level-2);\n}\n\n#sk-container-id-9 div.sk-label label.sk-toggleable__label,\n#sk-container-id-9 div.sk-label label {\n  /* The background is the default theme color */\n  color: var(--sklearn-color-text-on-default-background);\n}\n\n/* On hover, darken the color of the background */\n#sk-container-id-9 div.sk-label:hover label.sk-toggleable__label {\n  color: var(--sklearn-color-text);\n  background-color: var(--sklearn-color-unfitted-level-2);\n}\n\n/* Label box, darken color on hover, fitted */\n#sk-container-id-9 div.sk-label.fitted:hover label.sk-toggleable__label.fitted {\n  color: var(--sklearn-color-text);\n  background-color: var(--sklearn-color-fitted-level-2);\n}\n\n/* Estimator label */\n\n#sk-container-id-9 div.sk-label label {\n  font-family: monospace;\n  font-weight: bold;\n  display: inline-block;\n  line-height: 1.2em;\n}\n\n#sk-container-id-9 div.sk-label-container {\n  text-align: center;\n}\n\n/* Estimator-specific */\n#sk-container-id-9 div.sk-estimator {\n  font-family: monospace;\n  border: 1px dotted var(--sklearn-color-border-box);\n  border-radius: 0.25em;\n  box-sizing: border-box;\n  margin-bottom: 0.5em;\n  /* unfitted */\n  background-color: var(--sklearn-color-unfitted-level-0);\n}\n\n#sk-container-id-9 div.sk-estimator.fitted {\n  /* fitted */\n  background-color: var(--sklearn-color-fitted-level-0);\n}\n\n/* on hover */\n#sk-container-id-9 div.sk-estimator:hover {\n  /* unfitted */\n  background-color: var(--sklearn-color-unfitted-level-2);\n}\n\n#sk-container-id-9 div.sk-estimator.fitted:hover {\n  /* fitted */\n  background-color: var(--sklearn-color-fitted-level-2);\n}\n\n/* Specification for estimator info (e.g. \"i\" and \"?\") */\n\n/* Common style for \"i\" and \"?\" */\n\n.sk-estimator-doc-link,\na:link.sk-estimator-doc-link,\na:visited.sk-estimator-doc-link {\n  float: right;\n  font-size: smaller;\n  line-height: 1em;\n  font-family: monospace;\n  background-color: var(--sklearn-color-background);\n  border-radius: 1em;\n  height: 1em;\n  width: 1em;\n  text-decoration: none !important;\n  margin-left: 1ex;\n  /* unfitted */\n  border: var(--sklearn-color-unfitted-level-1) 1pt solid;\n  color: var(--sklearn-color-unfitted-level-1);\n}\n\n.sk-estimator-doc-link.fitted,\na:link.sk-estimator-doc-link.fitted,\na:visited.sk-estimator-doc-link.fitted {\n  /* fitted */\n  border: var(--sklearn-color-fitted-level-1) 1pt solid;\n  color: var(--sklearn-color-fitted-level-1);\n}\n\n/* On hover */\ndiv.sk-estimator:hover .sk-estimator-doc-link:hover,\n.sk-estimator-doc-link:hover,\ndiv.sk-label-container:hover .sk-estimator-doc-link:hover,\n.sk-estimator-doc-link:hover {\n  /* unfitted */\n  background-color: var(--sklearn-color-unfitted-level-3);\n  color: var(--sklearn-color-background);\n  text-decoration: none;\n}\n\ndiv.sk-estimator.fitted:hover .sk-estimator-doc-link.fitted:hover,\n.sk-estimator-doc-link.fitted:hover,\ndiv.sk-label-container:hover .sk-estimator-doc-link.fitted:hover,\n.sk-estimator-doc-link.fitted:hover {\n  /* fitted */\n  background-color: var(--sklearn-color-fitted-level-3);\n  color: var(--sklearn-color-background);\n  text-decoration: none;\n}\n\n/* Span, style for the box shown on hovering the info icon */\n.sk-estimator-doc-link span {\n  display: none;\n  z-index: 9999;\n  position: relative;\n  font-weight: normal;\n  right: .2ex;\n  padding: .5ex;\n  margin: .5ex;\n  width: min-content;\n  min-width: 20ex;\n  max-width: 50ex;\n  color: var(--sklearn-color-text);\n  box-shadow: 2pt 2pt 4pt #999;\n  /* unfitted */\n  background: var(--sklearn-color-unfitted-level-0);\n  border: .5pt solid var(--sklearn-color-unfitted-level-3);\n}\n\n.sk-estimator-doc-link.fitted span {\n  /* fitted */\n  background: var(--sklearn-color-fitted-level-0);\n  border: var(--sklearn-color-fitted-level-3);\n}\n\n.sk-estimator-doc-link:hover span {\n  display: block;\n}\n\n/* \"?\"-specific style due to the `<a>` HTML tag */\n\n#sk-container-id-9 a.estimator_doc_link {\n  float: right;\n  font-size: 1rem;\n  line-height: 1em;\n  font-family: monospace;\n  background-color: var(--sklearn-color-background);\n  border-radius: 1rem;\n  height: 1rem;\n  width: 1rem;\n  text-decoration: none;\n  /* unfitted */\n  color: var(--sklearn-color-unfitted-level-1);\n  border: var(--sklearn-color-unfitted-level-1) 1pt solid;\n}\n\n#sk-container-id-9 a.estimator_doc_link.fitted {\n  /* fitted */\n  border: var(--sklearn-color-fitted-level-1) 1pt solid;\n  color: var(--sklearn-color-fitted-level-1);\n}\n\n/* On hover */\n#sk-container-id-9 a.estimator_doc_link:hover {\n  /* unfitted */\n  background-color: var(--sklearn-color-unfitted-level-3);\n  color: var(--sklearn-color-background);\n  text-decoration: none;\n}\n\n#sk-container-id-9 a.estimator_doc_link.fitted:hover {\n  /* fitted */\n  background-color: var(--sklearn-color-fitted-level-3);\n}\n</style><div id=\"sk-container-id-9\" class=\"sk-top-container\"><div class=\"sk-text-repr-fallback\"><pre>SVC(C=10, random_state=20)</pre><b>In a Jupyter environment, please rerun this cell to show the HTML representation or trust the notebook. <br />On GitHub, the HTML representation is unable to render, please try loading this page with nbviewer.org.</b></div><div class=\"sk-container\" hidden><div class=\"sk-item\"><div class=\"sk-estimator fitted sk-toggleable\"><input class=\"sk-toggleable__control sk-hidden--visually\" id=\"sk-estimator-id-9\" type=\"checkbox\" checked><label for=\"sk-estimator-id-9\" class=\"sk-toggleable__label fitted sk-toggleable__label-arrow fitted\">&nbsp;&nbsp;SVC<a class=\"sk-estimator-doc-link fitted\" rel=\"noreferrer\" target=\"_blank\" href=\"https://scikit-learn.org/1.4/modules/generated/sklearn.svm.SVC.html\">?<span>Documentation for SVC</span></a><span class=\"sk-estimator-doc-link fitted\">i<span>Fitted</span></span></label><div class=\"sk-toggleable__content fitted\"><pre>SVC(C=10, random_state=20)</pre></div> </div></div></div></div>"
     },
     "execution_count": 19,
     "metadata": {},
     "output_type": "execute_result"
    }
   ],
   "source": [
    "classifier = SVC(kernel ='rbf', random_state = 20, C=10)\n",
    "classifier.fit(X_train, y_train)"
   ],
   "metadata": {
    "collapsed": false,
    "ExecuteTime": {
     "end_time": "2024-05-06T02:45:02.044652900Z",
     "start_time": "2024-05-06T02:45:02.006617300Z"
    }
   },
   "id": "245fa82b251dcb74"
  },
  {
   "cell_type": "code",
   "execution_count": 20,
   "outputs": [
    {
     "name": "stdout",
     "output_type": "stream",
     "text": [
      "accuracy using hard margin: 0.95\n"
     ]
    }
   ],
   "source": [
    "y_kernel_predict = classifier.predict(X_test)\n",
    "\n",
    "acc_kernel = accuracy_score(y_test, y_kernel_predict)\n",
    "\n",
    "print(f'accuracy using hard margin: {acc_kernel:.2f}')"
   ],
   "metadata": {
    "collapsed": false,
    "ExecuteTime": {
     "end_time": "2024-05-06T02:45:02.557360800Z",
     "start_time": "2024-05-06T02:45:02.505894600Z"
    }
   },
   "id": "da5b63ec4e5d3a2f"
  },
  {
   "cell_type": "markdown",
   "source": [
    "## Soft margin: tự xây dựng các bước giải bài toán ràng buộc"
   ],
   "metadata": {
    "collapsed": false
   },
   "id": "6f98fffd0b0b1962"
  },
  {
   "cell_type": "code",
   "execution_count": 49,
   "outputs": [
    {
     "ename": "ValueError",
     "evalue": "shapes (0,30) and (0,30) not aligned: 30 (dim 1) != 0 (dim 0)",
     "output_type": "error",
     "traceback": [
      "\u001B[1;31m---------------------------------------------------------------------------\u001B[0m",
      "\u001B[1;31mValueError\u001B[0m                                Traceback (most recent call last)",
      "Cell \u001B[1;32mIn[49], line 29\u001B[0m\n\u001B[0;32m     27\u001B[0m \u001B[38;5;66;03m# Tính trọng số w và độ lệch b\u001B[39;00m\n\u001B[0;32m     28\u001B[0m w_dual \u001B[38;5;241m=\u001B[39m np\u001B[38;5;241m.\u001B[39msum(l[support_vectors] \u001B[38;5;241m*\u001B[39m y_train[support_vectors, np\u001B[38;5;241m.\u001B[39mnewaxis] \u001B[38;5;241m*\u001B[39m X_train[support_vectors], axis\u001B[38;5;241m=\u001B[39m\u001B[38;5;241m0\u001B[39m)\n\u001B[1;32m---> 29\u001B[0m b_dual \u001B[38;5;241m=\u001B[39m np\u001B[38;5;241m.\u001B[39mmean(y_train[support_vectors] \u001B[38;5;241m-\u001B[39m \u001B[43mnp\u001B[49m\u001B[38;5;241;43m.\u001B[39;49m\u001B[43mdot\u001B[49m\u001B[43m(\u001B[49m\u001B[43mX_train\u001B[49m\u001B[43m[\u001B[49m\u001B[43msupport_vectors\u001B[49m\u001B[43m]\u001B[49m\u001B[43m,\u001B[49m\u001B[43m \u001B[49m\u001B[43mw_dual\u001B[49m\u001B[43m)\u001B[49m)\n\u001B[0;32m     31\u001B[0m \u001B[38;5;66;03m# Bước 5: Đánh giá mô hình trên tập kiểm tra\u001B[39;00m\n\u001B[0;32m     32\u001B[0m predictions \u001B[38;5;241m=\u001B[39m np\u001B[38;5;241m.\u001B[39msign(np\u001B[38;5;241m.\u001B[39mdot(X_test, w_dual) \u001B[38;5;241m+\u001B[39m b_dual)\n",
      "\u001B[1;31mValueError\u001B[0m: shapes (0,30) and (0,30) not aligned: 30 (dim 1) != 0 (dim 0)"
     ]
    }
   ],
   "source": [
    "import numpy as np\n",
    "from sklearn.datasets import load_breast_cancer\n",
    "from sklearn.model_selection import train_test_split\n",
    "from sklearn.preprocessing import StandardScaler\n",
    "from cvxopt import matrix, solvers\n",
    "\n",
    "C = 1\n",
    "N_train = X_train.shape[0]\n",
    "N_features = X_train.shape[1]\n",
    "\n",
    "# Xây dựng ma trận K\n",
    "K_train = np.dot(X_train, X_train.T)\n",
    "\n",
    "p = matrix(-np.ones((N_train, 1)))\n",
    "G = matrix(np.vstack((-np.eye(N_train), np.eye(N_train))))\n",
    "h = matrix(np.vstack((np.zeros((N_train, 1)), C * np.ones((N_train, 1)))))\n",
    "A = matrix(y_train.reshape((1, -1)), (1, N_train))\n",
    "\n",
    "b = matrix(np.zeros((1, 1)))\n",
    "\n",
    "solvers.options['show_progress'] = False\n",
    "sol = solvers.qp(matrix(K_train), p, G, h, A, b)\n",
    "\n",
    "l = np.array(sol['x'])\n",
    "support_vectors = np.where((l > 1e-5) & (l < C))[0]\n",
    "\n",
    "# Tính trọng số w và độ lệch b\n",
    "w_dual = np.sum(l[support_vectors] * y_train[support_vectors, np.newaxis] * X_train[support_vectors], axis=0)\n",
    "b_dual = np.mean(y_train[support_vectors] - np.dot(X_train[support_vectors], w_dual))\n",
    "\n",
    "# Bước 5: Đánh giá mô hình trên tập kiểm tra\n",
    "predictions = np.sign(np.dot(X_test, w_dual) + b_dual)\n",
    "accuracy = np.mean(predictions == y_test)\n",
    "print(\"Accuracy on test set:\", accuracy)"
   ],
   "metadata": {
    "collapsed": false,
    "ExecuteTime": {
     "end_time": "2024-05-08T18:06:29.907660900Z",
     "start_time": "2024-05-08T18:06:29.680081500Z"
    }
   },
   "id": "b57b880eaa47b041"
  },
  {
   "cell_type": "markdown",
   "source": [
    "## Soft - margin. Xây dựng phương pháp giải bài toán tối ưu không ràng buộc:\n"
   ],
   "metadata": {
    "collapsed": false
   },
   "id": "b3cf4718c57ed0be"
  },
  {
   "cell_type": "code",
   "execution_count": 51,
   "outputs": [
    {
     "name": "stderr",
     "output_type": "stream",
     "text": [
      "C:\\Users\\Admin\\AppData\\Local\\Temp\\ipykernel_21576\\1448300213.py:40: DeprecationWarning: Conversion of an array with ndim > 0 to a scalar is deprecated, and will error in future. Ensure you extract a single element from your array before performing this operation. (Deprecated NumPy 1.25.)\n",
      "  print('iter %d' % it + ' cost: %f' % cost(w))\n"
     ]
    },
    {
     "name": "stdout",
     "output_type": "stream",
     "text": [
      "iter 1 cost: 46993932.738665\n",
      "iter 10001 cost: 815293.882824\n",
      "iter 20001 cost: 873947.379137\n",
      "iter 30001 cost: 675748.309777\n",
      "iter 40001 cost: 671672.330356\n",
      "iter 50001 cost: 696225.533493\n",
      "iter 60001 cost: 591336.723033\n",
      "iter 70001 cost: 633234.509797\n",
      "iter 80001 cost: 726313.461581\n",
      "iter 90001 cost: 657054.395715\n",
      "[[-8.46097920e+02 -1.66695138e+02 -2.32085214e+03 -5.20606922e+01\n",
      "   1.42093738e+01  8.49765612e+01  1.26530026e+02  5.29487152e+01\n",
      "   2.32019584e+01  3.70077411e+00 -2.59219851e+01 -6.90934163e+01\n",
      "   1.46449905e+02  4.55597026e+02  2.17354329e+00  2.21003430e+01\n",
      "   3.11878958e+01  7.51091510e+00  5.17323583e+00  2.77419492e+00\n",
      "  -9.14369354e+02  1.44177188e+03 -4.43324911e+01  2.60167893e+02\n",
      "   3.07365424e+01  2.91740301e+02  3.71704417e+02  1.05828791e+02\n",
      "   7.73165106e+01  2.54043420e+01]] [-190.34510177]\n"
     ]
    }
   ],
   "source": [
    "X0 = X_train[y_train == 0]  # Lớp u lành tính (B)\n",
    "X1 = X_train[y_train == 1]  # Lớp u ác tính (M)\n",
    "\n",
    "# extended data\n",
    "N = X_train.shape[0]\n",
    "X0_bar = np.vstack((X0.T, np.ones((1, X0.shape[0]))))\n",
    "X1_bar = np.vstack((X1.T, np.ones((1, X1.shape[0]))))\n",
    "\n",
    "# as in (22)\n",
    "Z = np.hstack((X0_bar, -X1_bar))\n",
    "\n",
    "C = 100\n",
    "\n",
    "# Thiết lập các thông số\n",
    "lam = 1./C\n",
    "\n",
    "# Hàm chi phí\n",
    "def cost(w):\n",
    "    u = w.T.dot(Z)\n",
    "    return (np.sum(np.maximum(0, 1 - u)) + 0.5 * lam * np.sum(w*w)) - 0.5 * lam * w[-1] * w[-1]\n",
    "\n",
    "# Đạo hàm của hàm chi phí\n",
    "def grad(w):\n",
    "    u = w.T.dot(Z)\n",
    "    H = np.where(u < 1)[1]\n",
    "    ZS = Z[:, H]\n",
    "    g = (-np.sum(ZS, axis=1, keepdims=True) + lam * w)\n",
    "    g[-1] -= lam * w[-1]\n",
    "    return g\n",
    "\n",
    "# Gradient descent\n",
    "def grad_descent(w0, eta):\n",
    "    w = w0\n",
    "    it = 0\n",
    "    while it < 100000:\n",
    "        it = it + 1\n",
    "        g = grad(w)\n",
    "        w -= eta * g\n",
    "        if (it % 10000) == 1:\n",
    "            print('iter %d' % it + ' cost: %f' % cost(w))\n",
    "        if np.linalg.norm(g) < 1e-5:\n",
    "            break\n",
    "    return w\n",
    "\n",
    "# Huấn luyện mô hình\n",
    "w0 = np.random.randn(X0_bar.shape[0], 1)\n",
    "w = grad_descent(w0, 0.001)\n",
    "w_hinge = w[:-1].reshape(-1, 1)\n",
    "b_hinge = w[-1]\n",
    "print(w_hinge.T, b_hinge)"
   ],
   "metadata": {
    "collapsed": false,
    "ExecuteTime": {
     "end_time": "2024-05-08T18:06:52.045514500Z",
     "start_time": "2024-05-08T18:06:40.172875700Z"
    }
   },
   "id": "97e1ff033b7d4194"
  },
  {
   "cell_type": "code",
   "execution_count": 52,
   "outputs": [
    {
     "name": "stdout",
     "output_type": "stream",
     "text": [
      "Accuracy: 0.9415204678362573\n",
      "Confusion Matrix:\n",
      "[[ 53  10]\n",
      " [  0 108]]\n"
     ]
    },
    {
     "data": {
      "text/plain": "<Figure size 600x400 with 2 Axes>",
      "image/png": "[encoded data removed]"
     },
     "metadata": {},
     "output_type": "display_data"
    }
   ],
   "source": [
    "from sklearn.metrics import accuracy_score, confusion_matrix\n",
    "import seaborn as sns\n",
    "import matplotlib.pyplot as plt\n",
    "\n",
    "# Dự đoán phân lớp cho tập dữ liệu kiểm tra\n",
    "y_pred = np.sign(np.dot(X_test, w_hinge) + b_hinge).flatten()\n",
    "\n",
    "# Tính toán độ chính xác\n",
    "accuracy = accuracy_score(y_test, np.where(y_pred > 0, 0, 1))\n",
    "\n",
    "# Tạo confusion matrix\n",
    "conf_matrix = confusion_matrix(y_test, np.where(y_pred > 0, 0, 1))\n",
    "\n",
    "# Hiển thị kết quả\n",
    "print(\"Accuracy:\", accuracy)\n",
    "print(\"Confusion Matrix:\")\n",
    "print(conf_matrix)\n",
    "\n",
    "# Vẽ confusion matrix\n",
    "plt.figure(figsize=(6, 4))\n",
    "sns.heatmap(conf_matrix, annot=True, fmt='d', cmap='Blues')\n",
    "plt.xlabel('Predicted labels')\n",
    "plt.ylabel('True labels')\n",
    "plt.title('Confusion Matrix')\n",
    "plt.show()"
   ],
   "metadata": {
    "collapsed": false,
    "ExecuteTime": {
     "end_time": "2024-05-08T18:06:54.789564800Z",
     "start_time": "2024-05-08T18:06:54.421658700Z"
    }
   },
   "id": "4a8c63d81aca6b5f"
  },
  {
   "cell_type": "code",
   "execution_count": 53,
   "outputs": [
    {
     "name": "stdout",
     "output_type": "stream",
     "text": [
      "lambda = \n",
      " [[3.53242096e+001 1.13115264e-167 1.70188923e-167 1.21659640e-166\n",
      "  2.51988154e-167 3.34808263e-167 3.56672747e+001 3.35796796e-167\n",
      "  6.71523556e-167 3.29626121e-167 1.31047868e-166 1.55176999e-167\n",
      "  3.79458925e-167 3.42325693e-167 4.82610772e-167 1.87661932e-167\n",
      "  1.00385514e-167 1.97432363e-167 9.40704205e-167 3.87150865e-167\n",
      "  7.72458343e-167 6.00328249e-167 1.27495113e-165 3.40517763e-167\n",
      "  1.00000000e+002 3.97881684e-167 4.21742746e-167 1.07975792e-167\n",
      "  2.36488890e-167 2.70463134e-167 5.15410259e-167 4.06636869e-167\n",
      "  1.82018973e-167 1.64402630e-167 4.09207875e-166 3.80069182e-167\n",
      "  7.97983506e-167 3.14492659e-167 1.98359973e-167 8.64651329e-167\n",
      "  5.17868590e-167 7.41618644e-168 3.14975386e-167 2.28676142e-167\n",
      "  7.44575643e-167 2.35685547e-167 9.71046043e-168 3.17329639e-167\n",
      "  2.69681119e-167 4.08890823e-167 8.33683333e-167 3.26575031e-167\n",
      "  3.99208513e-167 1.00000000e+002 2.47303219e-167 8.23295266e-167\n",
      "  6.55083124e-167 5.29436046e-167 4.21783397e-167 1.68875502e-166\n",
      "  4.90770724e-167 1.65513685e-166 1.48189858e-166 8.27007420e-167\n",
      "  4.87089662e-167 7.82128771e-167 1.61994675e-166 4.20616737e+001\n",
      "  2.66576509e-167 4.32152565e-167 2.23899216e-167 1.42004346e-166\n",
      "  1.00000000e+002 1.27505980e-166 5.61285477e-167 5.54685964e-167\n",
      "  1.32958754e-167 6.10997566e-167 4.93713662e-167 2.52156755e-167\n",
      "  3.07107798e-167 1.56336933e-166 1.00000000e+002 2.45135510e-167\n",
      "  1.53122869e-167 3.05755586e-167 7.66062382e-167 2.56791157e-167\n",
      "  1.49240682e-167 4.63028262e-167 1.41057278e-167 1.32067582e-167\n",
      "  2.97527547e-167 4.86696075e-167 2.24697767e-166 1.04743029e-166\n",
      "  2.58301024e-167 2.00032201e-167 3.06801132e-167 1.82097756e-167\n",
      "  8.49616076e-167 2.14855043e-167 4.08113107e-167 1.74823429e-167\n",
      "  2.77802867e-167 2.10249078e-167 5.71483031e-167 1.88251669e-166\n",
      "  1.13637632e-167 2.03604210e-167 5.89268191e-167 3.11582665e-167\n",
      "  9.90445011e-168 5.46086867e-167 1.74728284e-167 1.29299857e-166\n",
      "  7.12438548e-167 2.38350154e-166 3.12679228e-167 4.78921382e-167\n",
      "  1.00000000e+002 5.97314766e-167 8.82045792e-168 2.90527374e-167\n",
      "  8.61095956e-167 1.17042245e-167 5.68905144e-167 5.46992350e-167\n",
      "  2.76887632e-167 6.99763521e-167 5.17841870e+001 1.69814989e-167\n",
      "  1.88992103e-167 3.82278009e-167 1.96599578e+001 3.69981232e-167\n",
      "  1.00000000e+002 4.65266040e-167 6.78020685e-167 2.76868817e-167\n",
      "  5.55543377e-167 1.16775847e-166 5.86159845e-167 2.01587913e-167\n",
      "  3.58770991e+001 5.20371907e-167 4.35301692e-167 1.46280910e-166\n",
      "  2.10312895e-167 5.37215995e+001 2.88980821e-167 3.43620055e-166\n",
      "  1.70940937e-167 3.72048099e-167 3.70545039e-167 1.00000000e+002\n",
      "  1.37990101e-166 4.46426994e-167 4.82442334e-167 1.34185202e-167\n",
      "  9.41223547e+001 5.18791882e-167 9.54898834e-167 3.97652376e-167\n",
      "  2.62140214e-167 1.22123756e-167 4.18207452e-167 2.74261180e-167\n",
      "  3.93902884e-167 5.16583174e-167 4.97389641e-167 3.24059750e-166\n",
      "  2.54615284e-167 3.40311671e-167 3.98192059e-167 8.73057304e-167\n",
      "  8.48487387e-167 4.28979105e+001 2.50861716e-167 2.12931094e-167\n",
      "  1.00000000e+002 5.78664235e-167 2.78062391e-167 2.02355548e-166\n",
      "  2.30247234e-167 5.56657851e-167 1.69145078e-167 2.10103819e-167\n",
      "  4.05245288e-167 3.93670273e-167 3.38751298e-167 3.58928262e-167\n",
      "  7.31472536e-167 1.00000000e+002 8.51494206e-167 3.69469315e-167\n",
      "  8.33241605e-167 4.38080376e+001 5.26345711e-167 1.80263897e-167\n",
      "  3.44891201e-167 2.77354735e-167 5.17421781e-166 2.51024605e-166\n",
      "  1.11551334e-166 2.08114152e-166 8.04677995e-168 9.30523180e-167\n",
      "  9.77577426e-168 2.81240998e-167 7.10373452e-167 1.79737155e-167\n",
      "  1.61356309e-167 2.10569831e-167 3.76772574e-167 2.08468021e-167\n",
      "  4.62972464e-167 2.35253797e-167 8.05223435e-168 2.38417577e-167\n",
      "  1.22638496e-167 1.17136302e-167 5.32512554e-167 1.37919480e-166\n",
      "  2.59276268e-167 1.82245574e-167 6.72462291e-168 8.05532228e-167\n",
      "  2.85750514e-167 4.94150999e-167 4.49138920e-167 5.54937223e-167\n",
      "  3.72065138e-167 2.53192925e-167 9.78796653e-168 1.72836194e-167\n",
      "  5.77556353e-166 2.52981494e-167 5.39172067e-167 1.33280981e-166\n",
      "  7.34922687e-167 7.26631367e-167 6.02332603e-167 2.82523785e-167\n",
      "  1.00876727e-166 2.88135339e-167 1.99517598e-167 6.66572126e+001\n",
      "  2.49791432e-167 1.37540708e-167 2.49179499e-167 3.53521919e-167\n",
      "  1.45687224e-167 2.87230139e-167 1.67399227e-167 1.68166051e-167\n",
      "  3.40513771e-167 5.33288389e-167 1.39589090e-167 3.16913052e-167\n",
      "  3.04174625e-167 8.24314225e-167 8.93077347e-167 1.26225340e-167\n",
      "  1.20272861e-166 6.10888021e-167 3.27929348e-167 3.41188152e-167\n",
      "  3.41093258e-167 1.01662672e-166 2.46699184e-167 2.39653306e-167\n",
      "  2.42489678e-166 3.38457168e-167 5.64704363e-167 3.02207019e-167\n",
      "  2.44552405e-167 2.56076883e-167 7.22580365e-167 1.54147191e-166\n",
      "  2.03506818e-167 2.36790436e-166 7.10703141e-166 1.75376123e+001\n",
      "  6.13315470e-167 5.25860694e-167 1.54698536e-166 2.09967545e-167\n",
      "  9.55253565e-167 4.92474544e-167 1.12785458e-166 2.66376839e-167\n",
      "  2.77101347e-167 2.54986856e-167 2.40988792e-167 3.58548808e-167\n",
      "  3.34440935e-167 5.76958301e-167 3.75749697e-167 2.36839445e-165\n",
      "  6.53934935e-167 4.85630605e-167 1.79824931e-167 4.38945781e-167\n",
      "  8.11358294e-167 1.15697962e-166 3.57468990e-167 2.87569943e-167\n",
      "  4.23546763e-167 1.23222690e-166 1.56384463e-165 2.19748472e-167\n",
      "  4.21796006e-167 2.57685918e-167 2.22722396e-167 2.14732108e-167\n",
      "  2.08110023e-167 3.92286875e-167 1.82686290e-167 6.66120244e-167\n",
      "  2.45416145e-167 1.31779641e-167 2.98595286e-167 7.87727397e-167\n",
      "  5.66719536e-167 2.35174764e-167 1.04886834e-166 3.52078802e+001\n",
      "  3.70967666e-167 1.08516587e-166 3.77784331e-167 6.91270304e-167\n",
      "  1.00000000e+002 2.12255689e-167 2.93827683e-166 8.54301794e-167\n",
      "  1.74968103e-167 1.02195190e-167 5.72144762e-167 2.87845030e-167\n",
      "  1.30987244e-166 2.04682229e-167 2.64187478e-167 3.70131905e-167\n",
      "  3.78830186e-167 1.64913736e-167 4.86052208e-167 2.84225369e-167\n",
      "  3.47958351e-167 1.12931633e-167 1.80677725e-167 2.36836805e-167\n",
      "  2.95438973e-167 3.77648478e-167 1.00000000e+002 1.95993895e-166\n",
      "  1.93781104e-166 6.16833350e-167 3.65530417e-167 4.29845728e-167\n",
      "  6.42146676e-167 1.11448570e-167 1.88336103e-166 2.52784522e-167\n",
      "  1.00000000e+002 3.00667230e-166 5.06948162e-167 2.14380039e-167\n",
      "  6.51609816e-167 8.84183096e-167 6.63020012e-167 4.04461980e-167\n",
      "  3.07082418e-167 1.55737615e-167 7.40519472e-168 4.38392802e-167\n",
      "  3.59109629e-168 3.56998464e-167 5.66830611e-167 4.84375806e-167\n",
      "  4.89520453e+001 2.82448410e-168 1.00000000e+002 5.28073458e-167\n",
      "  2.48471272e-167 3.60773890e-167 3.27644766e-167 9.13272309e-167\n",
      "  1.13705122e-166 6.66121813e-167 2.08998823e-167 1.39580753e-166\n",
      "  2.45037682e-167 3.79834671e-167 1.14967841e-166 3.86306654e-166\n",
      "  3.55254277e-167 1.90002236e-167 7.90210514e-167 4.99684798e-167\n",
      "  2.46264518e-167 3.81266757e-167 6.58345786e-167 1.00000000e+002\n",
      "  3.93759531e-167 1.52570900e-166 6.19351029e-167 6.75076521e-167\n",
      "  1.50575537e-167 1.00000000e+002 7.73843576e-168 1.58523927e-167\n",
      "  3.28433009e-167 1.00000000e+002 2.70668355e-167 4.42666202e-167\n",
      "  2.27202618e-167 2.10737722e-167 1.06596561e-167 1.10391779e-166\n",
      "  5.10456269e-166 2.40219202e-167 1.69672908e-166 3.14455332e-167\n",
      "  5.69550420e-167 2.94231653e-167 3.75449051e-167 2.69999803e-167\n",
      "  1.33650706e-167 1.99271068e-167 2.25901789e-167 3.84800288e-167\n",
      "  9.27806344e-167 2.27801483e-167 5.59076154e-167 8.72085433e+001\n",
      "  1.00000000e+002 1.02416752e+001 2.04641323e-167 2.97950206e-167\n",
      "  3.14277474e-167 1.00000000e+002 7.31764301e-167 1.78469831e-167\n",
      "  9.43520535e-167 1.51761207e-166 8.59947928e-167 7.54789842e+001\n",
      "  2.28344955e-167 4.59992535e-167 1.82121222e-167 1.14170041e-166\n",
      "  3.34631998e-167 1.26229547e-166 9.04020574e-167]]\n"
     ]
    }
   ],
   "source": [
    "import numpy as np\n",
    "from cvxopt import matrix, solvers\n",
    "from sklearn.datasets import load_breast_cancer\n",
    "from sklearn.model_selection import train_test_split\n",
    "\n",
    "# Load breast cancer dataset\n",
    "data = load_breast_cancer()\n",
    "X = data.data\n",
    "y = data.target\n",
    "\n",
    "# Convert labels to -1 and 1\n",
    "y_1 = 2 * y - 1\n",
    "\n",
    "# Split the data into training and testing sets\n",
    "X_train, X_test, y_train, y_test = train_test_split(X, y_1, test_size=0.2, random_state=42)\n",
    "\n",
    "m,n = X_train.shape\n",
    "y_train = y_train.reshape(-1,1) * 1.\n",
    "X_dash = y_train * X_train\n",
    "H = np.dot(X_dash , X_dash.T) * 1.\n",
    "\n",
    "P = matrix(H)\n",
    "q = matrix(-np.ones((m, 1)))\n",
    "G = matrix(np.vstack((np.eye(m)*-1,np.eye(m))))\n",
    "h = matrix(np.hstack((np.zeros(m), np.ones(m) * C)))\n",
    "A = matrix(y_train.reshape(1, -1))\n",
    "b = matrix(np.zeros(1))\n",
    "\n",
    "# X0 = X_train[y_train == -1]  # Lớp u lành tính (B)\n",
    "# X1 = X_train[y_train == 1]  # Lớp u ác tính (M)\n",
    "\n",
    "C = 100\n",
    "\n",
    "# Build A, b, G, h\n",
    "\n",
    "# V = np.concatenate((X0.T, -X1.T), axis = 1)\n",
    "# K = matrix(V.T.dot(V))\n",
    "# p = matrix(-np.ones((X_train.shape[0], 1)))\n",
    "# G = matrix(np.vstack((-np.eye(X_train.shape[0]), np.eye(X_train.shape[0]))))\n",
    "# \n",
    "# h = matrix(np.vstack((np.zeros((X_train.shape[0], 1)), C*np.ones((X_train.shape[0], 1)))))\n",
    "# # A = matrix(y_train.reshape((-1, X_train.shape[0])))\n",
    "# A = matrix(np.diag(y_train.ravel()))\n",
    "\n",
    "# b = matrix(np.zeros((1, 1)))\n",
    "\n",
    "solvers.options['show_progress'] = False\n",
    "sol = solvers.qp(P, q, G, h, A, b)\n",
    "\n",
    "l = np.array(sol['x'])\n",
    "print('lambda = \\n', l.T)"
   ],
   "metadata": {
    "collapsed": false,
    "ExecuteTime": {
     "end_time": "2024-05-08T18:09:42.805504100Z",
     "start_time": "2024-05-08T18:09:41.810080800Z"
    }
   },
   "id": "72385fdc9bdfe042"
  },
  {
   "cell_type": "code",
   "execution_count": 54,
   "outputs": [
    {
     "name": "stdout",
     "output_type": "stream",
     "text": [
      "(1, 455)\n"
     ]
    }
   ],
   "source": [
    "print(A.size)"
   ],
   "metadata": {
    "collapsed": false,
    "ExecuteTime": {
     "end_time": "2024-05-08T18:09:45.906323100Z",
     "start_time": "2024-05-08T18:09:45.901761700Z"
    }
   },
   "id": "ab8221c08e500f3"
  },
  {
   "cell_type": "code",
   "execution_count": 59,
   "outputs": [
    {
     "name": "stdout",
     "output_type": "stream",
     "text": [
      "l =  [ 35.32420964  35.66727467 100.         100.          42.06167375\n",
      " 100.         100.         100.          51.78418701  19.65995777\n",
      " 100.          35.87709906  53.72159948 100.          94.12235475\n",
      "  42.89791046 100.         100.          43.80803757  66.65721264\n",
      "  17.5376123   35.20788024 100.         100.         100.\n",
      "  48.95204528 100.         100.         100.         100.\n",
      "  87.20854328 100.          10.2416752  100.          75.47898417]\n",
      "w =  [ 7.38985812e-02  1.07296326e-01 -2.68813626e-01  1.41035906e-02\n",
      " -4.35091235e+00  3.99577022e+00 -5.60390180e+00 -1.00783708e+01\n",
      "  2.47260177e+00  5.86659880e-01  8.64024859e-01  2.32401136e+00\n",
      " -2.51112649e-01 -9.35374920e-02 -2.21996507e+00  7.85470365e+00\n",
      "  9.09227058e+00 -6.92906953e-01  1.68684503e+00  1.45477279e+00\n",
      " -1.14626468e-01 -3.99228526e-01  7.83619736e-02 -4.77676222e-03\n",
      " -1.23806718e+01  6.63722735e+00 -6.63166227e+00 -8.66344471e+00\n",
      " -9.29845764e+00  1.20629272e+00]\n",
      "b =  [27.04751246]\n"
     ]
    }
   ],
   "source": [
    "w = ((y_train * l).T @ X_train).reshape(-1,1)\n",
    "S = (l > 1e-4).flatten()\n",
    "b = y_train[S] - np.dot(X_train[S], w)\n",
    "\n",
    "#Display results\n",
    "print('l = ',l[l > 1e-4])\n",
    "print('w = ', w.flatten())\n",
    "print('b = ', b[0])"
   ],
   "metadata": {
    "collapsed": false,
    "ExecuteTime": {
     "end_time": "2024-05-08T18:11:19.619972Z",
     "start_time": "2024-05-08T18:11:19.614964100Z"
    }
   },
   "id": "fb14e5fa3365df7e"
  },
  {
   "cell_type": "code",
   "execution_count": 60,
   "outputs": [
    {
     "name": "stdout",
     "output_type": "stream",
     "text": [
      "(30, 1)\n"
     ]
    }
   ],
   "source": [
    "print(w.shape)"
   ],
   "metadata": {
    "collapsed": false,
    "ExecuteTime": {
     "end_time": "2024-05-08T18:11:21.084183700Z",
     "start_time": "2024-05-08T18:11:21.083671800Z"
    }
   },
   "id": "64e631b40bb95c5a"
  },
  {
   "cell_type": "code",
   "execution_count": 61,
   "outputs": [
    {
     "name": "stdout",
     "output_type": "stream",
     "text": [
      "(35, 1)\n"
     ]
    }
   ],
   "source": [
    "print(b.shape)"
   ],
   "metadata": {
    "collapsed": false,
    "ExecuteTime": {
     "end_time": "2024-05-08T18:11:24.121219200Z",
     "start_time": "2024-05-08T18:11:24.108538700Z"
    }
   },
   "id": "2a1428c152fd6e99"
  },
  {
   "cell_type": "code",
   "execution_count": 62,
   "outputs": [],
   "source": [
    "y_pred = np.sign(np.dot(X_test, w) + b_hinge).flatten()"
   ],
   "metadata": {
    "collapsed": false,
    "ExecuteTime": {
     "end_time": "2024-05-08T18:12:25.025457100Z",
     "start_time": "2024-05-08T18:12:24.991656800Z"
    }
   },
   "id": "de9f3d3fc5b096e8"
  },
  {
   "cell_type": "code",
   "execution_count": 67,
   "outputs": [
    {
     "data": {
      "text/plain": "array([-1., -1., -1., -1., -1., -1., -1., -1., -1., -1., -1., -1., -1.,\n       -1., -1., -1., -1., -1., -1., -1., -1., -1., -1., -1., -1., -1.,\n       -1., -1., -1., -1., -1., -1., -1., -1., -1., -1., -1., -1., -1.,\n       -1., -1., -1., -1., -1., -1., -1., -1., -1., -1., -1., -1., -1.,\n       -1., -1., -1., -1., -1., -1., -1., -1., -1., -1., -1., -1., -1.,\n       -1., -1., -1., -1., -1., -1., -1., -1., -1., -1., -1., -1., -1.,\n       -1., -1., -1., -1., -1., -1., -1., -1., -1., -1., -1., -1., -1.,\n       -1., -1., -1., -1., -1., -1., -1., -1., -1., -1., -1., -1., -1.,\n       -1., -1., -1., -1., -1., -1., -1., -1., -1., -1.])"
     },
     "execution_count": 67,
     "metadata": {},
     "output_type": "execute_result"
    }
   ],
   "source": [
    "y_pred"
   ],
   "metadata": {
    "collapsed": false,
    "ExecuteTime": {
     "end_time": "2024-05-08T18:13:46.997831800Z",
     "start_time": "2024-05-08T18:13:46.981795300Z"
    }
   },
   "id": "a855b3df6bb02fde"
  },
  {
   "cell_type": "code",
   "execution_count": 66,
   "outputs": [
    {
     "data": {
      "text/plain": "0.6228070175438597"
     },
     "execution_count": 66,
     "metadata": {},
     "output_type": "execute_result"
    }
   ],
   "source": [
    "# Tính toán độ chính xác\n",
    "accuracy = accuracy_score(y_test, np.where(y_pred > 0, 0, 1))\n",
    "accuracy"
   ],
   "metadata": {
    "collapsed": false,
    "ExecuteTime": {
     "end_time": "2024-05-08T18:13:19.067818500Z",
     "start_time": "2024-05-08T18:13:19.050785100Z"
    }
   },
   "id": "8eb4cba8454c7c90"
  },
  {
   "cell_type": "code",
   "execution_count": 68,
   "outputs": [
    {
     "data": {
      "text/plain": "array([ 1, -1, -1,  1,  1, -1, -1, -1,  1,  1,  1, -1,  1, -1,  1, -1,  1,\n        1,  1, -1, -1,  1, -1,  1,  1,  1,  1,  1,  1, -1,  1,  1,  1,  1,\n        1,  1, -1,  1, -1,  1,  1, -1,  1,  1,  1,  1,  1,  1,  1,  1, -1,\n       -1,  1,  1,  1,  1,  1, -1, -1,  1,  1, -1, -1,  1,  1,  1, -1, -1,\n        1,  1, -1, -1,  1, -1,  1,  1,  1, -1,  1,  1, -1,  1, -1, -1, -1,\n       -1, -1, -1,  1,  1,  1,  1,  1,  1,  1,  1, -1, -1,  1, -1, -1,  1,\n       -1, -1,  1,  1,  1, -1,  1,  1, -1,  1,  1, -1])"
     },
     "execution_count": 68,
     "metadata": {},
     "output_type": "execute_result"
    }
   ],
   "source": [
    "y_test"
   ],
   "metadata": {
    "collapsed": false,
    "ExecuteTime": {
     "end_time": "2024-05-08T18:13:58.844713500Z",
     "start_time": "2024-05-08T18:13:58.782192600Z"
    }
   },
   "id": "ea35ccbeaee180b3"
  },
  {
   "cell_type": "code",
   "execution_count": null,
   "outputs": [],
   "source": [],
   "metadata": {
    "collapsed": false
   },
   "id": "8a5544f628779727"
  }
 ],
 "metadata": {
  "kernelspec": {
   "display_name": "Python 3",
   "language": "python",
   "name": "python3"
  },
  "language_info": {
   "codemirror_mode": {
    "name": "ipython",
    "version": 2
   },
   "file_extension": ".py",
   "mimetype": "text/x-python",
   "name": "python",
   "nbconvert_exporter": "python",
   "pygments_lexer": "ipython2",
   "version": "2.7.6"
  }
 },
 "nbformat": 4,
 "nbformat_minor": 5
}
