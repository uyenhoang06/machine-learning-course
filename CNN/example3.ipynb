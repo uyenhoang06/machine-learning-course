{
 "cells": [
  {
   "cell_type": "code",
   "execution_count": 5,
   "id": "initial_id",
   "metadata": {
    "collapsed": true,
    "ExecuteTime": {
     "end_time": "2024-04-15T16:54:07.157463700Z",
     "start_time": "2024-04-15T16:54:06.331062Z"
    }
   },
   "outputs": [],
   "source": [
    "from __future__ import division, print_function, unicode_literals\n",
    "\n",
    "import numpy as np\n",
    "import cv2\n",
    "import os\n",
    "import matplotlib.pyplot as plt"
   ]
  },
  {
   "cell_type": "code",
   "execution_count": 6,
   "outputs": [
    {
     "name": "stdout",
     "output_type": "stream",
     "text": [
      "165 77760 243 320\n"
     ]
    }
   ],
   "source": [
    "# path to the database - change it if needed\n",
    "path = \"E:\\\\ML\\\\ANN\\\\face_data\\\\face_data\\\\\"\n",
    "\n",
    "ids = range(1, 16) # 15 people\n",
    "states = ['centerlight', 'glasses', 'happy', 'leftlight', \n",
    "          'noglasses', 'normal', 'rightlight','sad', \n",
    "          'sleepy', 'surprised', 'wink']\n",
    "\n",
    "prefix = 'subject'\n",
    "surfix = '.png' #file extension is png\n",
    "\n",
    "# open one picture to get the image's size\n",
    "fn = prefix + '01.' + states[0] + surfix\n",
    "im = cv2.imread(path + fn, 0)\n",
    "\n",
    "h = im.shape[0] # hight \n",
    "w = im.shape[1] # width\n",
    "\n",
    "D = h * w\n",
    "N = len(states)*15 \n",
    "print(N, D, h, w)\n",
    "\n",
    "X = np.zeros((D, N))\n",
    "\n",
    "N = len(states) * 15\n",
    "N = len(states) * 15\n",
    "X = []\n",
    "y = []\n",
    "\n",
    "for person_id in range(1, 16):\n",
    "    for state in states:\n",
    "        fn = path + prefix + str(person_id).zfill(2) + '.' + state + surfix\n",
    "        img = cv2.imread(fn, cv2.IMREAD_GRAYSCALE)\n",
    "        X.append(img)\n",
    "        y.append(person_id - 1)\n",
    "\n",
    "X = np.array(X)\n",
    "y = np.array(y)"
   ],
   "metadata": {
    "collapsed": false,
    "ExecuteTime": {
     "end_time": "2024-04-15T16:54:08.561445500Z",
     "start_time": "2024-04-15T16:54:08.310136200Z"
    }
   },
   "id": "57036dae9ec1d7e3"
  },
  {
   "cell_type": "code",
   "execution_count": 7,
   "outputs": [],
   "source": [
    "from sklearn.model_selection import  train_test_split\n",
    "X_train, X_test, y_train, y_test = train_test_split(X, y, test_size=0.2, random_state=42)\n",
    "X_train = X_train.reshape(X_train.shape[0], X_train.shape[1], X_train.shape[2], 1)\n",
    "X_test = X_test.reshape(X_test.shape[0], X_test.shape[1], X_test.shape[2], 1)\n",
    "input_shape = (X_train.shape[1], X_train.shape[2], 1)"
   ],
   "metadata": {
    "collapsed": false,
    "ExecuteTime": {
     "end_time": "2024-04-15T16:54:09.274448100Z",
     "start_time": "2024-04-15T16:54:09.260393500Z"
    }
   },
   "id": "ffa192d41a97eb88"
  },
  {
   "cell_type": "code",
   "execution_count": 13,
   "outputs": [
    {
     "name": "stderr",
     "output_type": "stream",
     "text": [
      "E:\\ML\\.venv\\Lib\\site-packages\\keras\\src\\layers\\convolutional\\base_conv.py:99: UserWarning: Do not pass an `input_shape`/`input_dim` argument to a layer. When using Sequential models, prefer using an `Input(shape)` object as the first layer in the model instead.\n",
      "  super().__init__(\n"
     ]
    }
   ],
   "source": [
    "from tensorflow.python.keras.layers import MaxPooling2D, Flatten, Dense, Conv2D\n",
    "from tensorflow.python.keras import Sequential\n",
    "import  keras\n",
    "\n",
    "\n",
    "model = keras.models.Sequential()\n",
    "model.add(keras.layers.Conv2D(32, kernel_size=(3, 3), activation='relu', input_shape=input_shape))\n",
    "model.add(keras.layers.MaxPooling2D(pool_size=(2, 2)))\n",
    "model.add(keras.layers.Flatten())\n",
    "model.add(keras.layers.Dense(128, activation='relu'))\n",
    "model.add(keras.layers.Dense(15, activation='softmax'))"
   ],
   "metadata": {
    "collapsed": false,
    "ExecuteTime": {
     "end_time": "2024-04-15T16:58:10.386202700Z",
     "start_time": "2024-04-15T16:58:08.241280300Z"
    }
   },
   "id": "ef9ffc13187efbbe"
  },
  {
   "cell_type": "code",
   "execution_count": 14,
   "outputs": [],
   "source": [
    "model.compile(optimizer='adam', loss='sparse_categorical_crossentropy', metrics=['accuracy'])"
   ],
   "metadata": {
    "collapsed": false,
    "ExecuteTime": {
     "end_time": "2024-04-15T16:58:17.457176200Z",
     "start_time": "2024-04-15T16:58:17.428714Z"
    }
   },
   "id": "604ed4ccad6fc00b"
  },
  {
   "cell_type": "code",
   "execution_count": 15,
   "outputs": [
    {
     "name": "stdout",
     "output_type": "stream",
     "text": [
      "Epoch 1/10\n",
      "\u001B[1m5/5\u001B[0m \u001B[32m━━━━━━━━━━━━━━━━━━━━\u001B[0m\u001B[37m\u001B[0m \u001B[1m23s\u001B[0m 2s/step - accuracy: 0.0473 - loss: 7538.0103\n",
      "Epoch 2/10\n",
      "\u001B[1m5/5\u001B[0m \u001B[32m━━━━━━━━━━━━━━━━━━━━\u001B[0m\u001B[37m\u001B[0m \u001B[1m7s\u001B[0m 1s/step - accuracy: 0.0756 - loss: 8663.3457\n",
      "Epoch 3/10\n",
      "\u001B[1m5/5\u001B[0m \u001B[32m━━━━━━━━━━━━━━━━━━━━\u001B[0m\u001B[37m\u001B[0m \u001B[1m5s\u001B[0m 957ms/step - accuracy: 0.1170 - loss: 3347.3826\n",
      "Epoch 4/10\n",
      "\u001B[1m5/5\u001B[0m \u001B[32m━━━━━━━━━━━━━━━━━━━━\u001B[0m\u001B[37m\u001B[0m \u001B[1m11s\u001B[0m 1s/step - accuracy: 0.2816 - loss: 1668.5293\n",
      "Epoch 5/10\n",
      "\u001B[1m5/5\u001B[0m \u001B[32m━━━━━━━━━━━━━━━━━━━━\u001B[0m\u001B[37m\u001B[0m \u001B[1m6s\u001B[0m 1s/step - accuracy: 0.3894 - loss: 824.0034\n",
      "Epoch 6/10\n",
      "\u001B[1m5/5\u001B[0m \u001B[32m━━━━━━━━━━━━━━━━━━━━\u001B[0m\u001B[37m\u001B[0m \u001B[1m5s\u001B[0m 901ms/step - accuracy: 0.5719 - loss: 259.5777\n",
      "Epoch 7/10\n",
      "\u001B[1m5/5\u001B[0m \u001B[32m━━━━━━━━━━━━━━━━━━━━\u001B[0m\u001B[37m\u001B[0m \u001B[1m5s\u001B[0m 926ms/step - accuracy: 0.4845 - loss: 137.5699\n",
      "Epoch 8/10\n",
      "\u001B[1m5/5\u001B[0m \u001B[32m━━━━━━━━━━━━━━━━━━━━\u001B[0m\u001B[37m\u001B[0m \u001B[1m4s\u001B[0m 789ms/step - accuracy: 0.5951 - loss: 81.0092\n",
      "Epoch 9/10\n",
      "\u001B[1m5/5\u001B[0m \u001B[32m━━━━━━━━━━━━━━━━━━━━\u001B[0m\u001B[37m\u001B[0m \u001B[1m4s\u001B[0m 802ms/step - accuracy: 0.7845 - loss: 20.6566\n",
      "Epoch 10/10\n",
      "\u001B[1m5/5\u001B[0m \u001B[32m━━━━━━━━━━━━━━━━━━━━\u001B[0m\u001B[37m\u001B[0m \u001B[1m4s\u001B[0m 701ms/step - accuracy: 0.8043 - loss: 12.3757\n"
     ]
    },
    {
     "data": {
      "text/plain": "<keras.src.callbacks.history.History at 0x18aff5b4d10>"
     },
     "execution_count": 15,
     "metadata": {},
     "output_type": "execute_result"
    }
   ],
   "source": [
    "model.fit(X_train, y_train, epochs=10, batch_size=32, verbose=1)"
   ],
   "metadata": {
    "collapsed": false,
    "ExecuteTime": {
     "end_time": "2024-04-15T16:59:33.684292600Z",
     "start_time": "2024-04-15T16:58:18.987864600Z"
    }
   },
   "id": "b16b9251e9cfed61"
  },
  {
   "cell_type": "code",
   "execution_count": 16,
   "outputs": [
    {
     "name": "stdout",
     "output_type": "stream",
     "text": [
      "\u001B[1m2/2\u001B[0m \u001B[32m━━━━━━━━━━━━━━━━━━━━\u001B[0m\u001B[37m\u001B[0m \u001B[1m3s\u001B[0m 469ms/step\n"
     ]
    }
   ],
   "source": [
    "y_pred_prob = model.predict(X_test)\n",
    "y_pred = np.argmax(y_pred_prob, axis=1)"
   ],
   "metadata": {
    "collapsed": false,
    "ExecuteTime": {
     "end_time": "2024-04-15T17:00:07.196480200Z",
     "start_time": "2024-04-15T17:00:03.353988Z"
    }
   },
   "id": "2e5fc14a7541e037"
  },
  {
   "cell_type": "code",
   "execution_count": 17,
   "outputs": [
    {
     "name": "stdout",
     "output_type": "stream",
     "text": [
      "\u001B[1m5/5\u001B[0m \u001B[32m━━━━━━━━━━━━━━━━━━━━\u001B[0m\u001B[37m\u001B[0m \u001B[1m4s\u001B[0m 609ms/step\n",
      "\u001B[1m2/2\u001B[0m \u001B[32m━━━━━━━━━━━━━━━━━━━━\u001B[0m\u001B[37m\u001B[0m \u001B[1m5s\u001B[0m 126ms/step\n",
      "Train:\n",
      "Accuracy: 0.9545454545454546\n",
      "Precision: 0.9674045651318378\n",
      "Recall: 0.9545454545454546\n",
      "\n",
      "Test:\n",
      "Accuracy: 0.7272727272727273\n",
      "Precision: 0.806060606060606\n",
      "Recall: 0.7272727272727273\n"
     ]
    },
    {
     "name": "stderr",
     "output_type": "stream",
     "text": [
      "E:\\ML\\.venv\\Lib\\site-packages\\sklearn\\metrics\\_classification.py:1509: UndefinedMetricWarning: Precision is ill-defined and being set to 0.0 in labels with no predicted samples. Use `zero_division` parameter to control this behavior.\n",
      "  _warn_prf(average, modifier, f\"{metric.capitalize()} is\", len(result))\n",
      "E:\\ML\\.venv\\Lib\\site-packages\\sklearn\\metrics\\_classification.py:1509: UndefinedMetricWarning: Recall is ill-defined and being set to 0.0 in labels with no true samples. Use `zero_division` parameter to control this behavior.\n",
      "  _warn_prf(average, modifier, f\"{metric.capitalize()} is\", len(result))\n"
     ]
    }
   ],
   "source": [
    "from sklearn.metrics import accuracy_score, precision_score, recall_score\n",
    "\n",
    "# Dự đoán xác suất trên tập train và test\n",
    "y_train_prob = model.predict(X_train)\n",
    "y_test_prob = model.predict(X_test)\n",
    "\n",
    "# Chuyển đổi xác suất thành nhãn dự đoán\n",
    "y_train_pred = np.argmax(y_train_prob, axis=1)\n",
    "y_test_pred = np.argmax(y_test_prob, axis=1)\n",
    "\n",
    "# Tính toán các độ đo trên tập train\n",
    "accuracy_train = accuracy_score(y_train, y_train_pred)\n",
    "precision_train = precision_score(y_train, y_train_pred, average='weighted')\n",
    "recall_train = recall_score(y_train, y_train_pred, average='weighted')\n",
    "\n",
    "# Tính toán các độ đo trên tập test\n",
    "accuracy_test = accuracy_score(y_test, y_test_pred)\n",
    "precision_test = precision_score(y_test, y_test_pred, average='weighted')\n",
    "recall_test = recall_score(y_test, y_test_pred, average='weighted')\n",
    "\n",
    "print(\"Train:\")\n",
    "print(\"Accuracy:\", accuracy_train)\n",
    "print(\"Precision:\", precision_train)\n",
    "print(\"Recall:\", recall_train)\n",
    "\n",
    "print(\"\\nTest:\")\n",
    "print(\"Accuracy:\", accuracy_test)\n",
    "print(\"Precision:\", precision_test)\n",
    "print(\"Recall:\", recall_test)"
   ],
   "metadata": {
    "collapsed": false,
    "ExecuteTime": {
     "end_time": "2024-04-15T17:00:28.785030Z",
     "start_time": "2024-04-15T17:00:14.864373600Z"
    }
   },
   "id": "78fac1f554ca77fd"
  },
  {
   "cell_type": "code",
   "execution_count": 30,
   "outputs": [
    {
     "name": "stdout",
     "output_type": "stream",
     "text": [
      "Epoch 1/20\n",
      "\u001B[1m7/7\u001B[0m \u001B[32m━━━━━━━━━━━━━━━━━━━━\u001B[0m\u001B[37m\u001B[0m \u001B[1m2s\u001B[0m 76ms/step - accuracy: 0.0869 - loss: 14701.3184\n",
      "Epoch 2/20\n",
      "\u001B[1m7/7\u001B[0m \u001B[32m━━━━━━━━━━━━━━━━━━━━\u001B[0m\u001B[37m\u001B[0m \u001B[1m1s\u001B[0m 79ms/step - accuracy: 0.1059 - loss: 17201.2910\n",
      "Epoch 3/20\n",
      "\u001B[1m7/7\u001B[0m \u001B[32m━━━━━━━━━━━━━━━━━━━━\u001B[0m\u001B[37m\u001B[0m \u001B[1m1s\u001B[0m 82ms/step - accuracy: 0.2783 - loss: 10855.5869\n",
      "Epoch 4/20\n",
      "\u001B[1m7/7\u001B[0m \u001B[32m━━━━━━━━━━━━━━━━━━━━\u001B[0m\u001B[37m\u001B[0m \u001B[1m1s\u001B[0m 84ms/step - accuracy: 0.2558 - loss: 3099.2932\n",
      "Epoch 5/20\n",
      "\u001B[1m7/7\u001B[0m \u001B[32m━━━━━━━━━━━━━━━━━━━━\u001B[0m\u001B[37m\u001B[0m \u001B[1m1s\u001B[0m 76ms/step - accuracy: 0.3391 - loss: 2850.1121\n",
      "Epoch 6/20\n",
      "\u001B[1m7/7\u001B[0m \u001B[32m━━━━━━━━━━━━━━━━━━━━\u001B[0m\u001B[37m\u001B[0m \u001B[1m1s\u001B[0m 78ms/step - accuracy: 0.2608 - loss: 1571.2900\n",
      "Epoch 7/20\n",
      "\u001B[1m7/7\u001B[0m \u001B[32m━━━━━━━━━━━━━━━━━━━━\u001B[0m\u001B[37m\u001B[0m \u001B[1m1s\u001B[0m 80ms/step - accuracy: 0.5212 - loss: 735.5194\n",
      "Epoch 8/20\n",
      "\u001B[1m7/7\u001B[0m \u001B[32m━━━━━━━━━━━━━━━━━━━━\u001B[0m\u001B[37m\u001B[0m \u001B[1m1s\u001B[0m 75ms/step - accuracy: 0.6534 - loss: 363.0574\n",
      "Epoch 9/20\n",
      "\u001B[1m7/7\u001B[0m \u001B[32m━━━━━━━━━━━━━━━━━━━━\u001B[0m\u001B[37m\u001B[0m \u001B[1m1s\u001B[0m 76ms/step - accuracy: 0.6985 - loss: 206.2530\n",
      "Epoch 10/20\n",
      "\u001B[1m7/7\u001B[0m \u001B[32m━━━━━━━━━━━━━━━━━━━━\u001B[0m\u001B[37m\u001B[0m \u001B[1m1s\u001B[0m 78ms/step - accuracy: 0.8469 - loss: 103.4141\n",
      "Epoch 11/20\n",
      "\u001B[1m7/7\u001B[0m \u001B[32m━━━━━━━━━━━━━━━━━━━━\u001B[0m\u001B[37m\u001B[0m \u001B[1m1s\u001B[0m 76ms/step - accuracy: 0.7733 - loss: 97.6017\n",
      "Epoch 12/20\n",
      "\u001B[1m7/7\u001B[0m \u001B[32m━━━━━━━━━━━━━━━━━━━━\u001B[0m\u001B[37m\u001B[0m \u001B[1m1s\u001B[0m 73ms/step - accuracy: 0.8495 - loss: 25.3501\n",
      "Epoch 13/20\n",
      "\u001B[1m7/7\u001B[0m \u001B[32m━━━━━━━━━━━━━━━━━━━━\u001B[0m\u001B[37m\u001B[0m \u001B[1m1s\u001B[0m 74ms/step - accuracy: 0.8787 - loss: 41.0923\n",
      "Epoch 14/20\n",
      "\u001B[1m7/7\u001B[0m \u001B[32m━━━━━━━━━━━━━━━━━━━━\u001B[0m\u001B[37m\u001B[0m \u001B[1m1s\u001B[0m 75ms/step - accuracy: 0.8738 - loss: 60.0168\n",
      "Epoch 15/20\n",
      "\u001B[1m7/7\u001B[0m \u001B[32m━━━━━━━━━━━━━━━━━━━━\u001B[0m\u001B[37m\u001B[0m \u001B[1m1s\u001B[0m 75ms/step - accuracy: 0.8397 - loss: 45.2571\n",
      "Epoch 16/20\n",
      "\u001B[1m7/7\u001B[0m \u001B[32m━━━━━━━━━━━━━━━━━━━━\u001B[0m\u001B[37m\u001B[0m \u001B[1m1s\u001B[0m 75ms/step - accuracy: 0.7735 - loss: 121.0878\n",
      "Epoch 17/20\n",
      "\u001B[1m7/7\u001B[0m \u001B[32m━━━━━━━━━━━━━━━━━━━━\u001B[0m\u001B[37m\u001B[0m \u001B[1m1s\u001B[0m 78ms/step - accuracy: 0.8248 - loss: 102.7509\n",
      "Epoch 18/20\n",
      "\u001B[1m7/7\u001B[0m \u001B[32m━━━━━━━━━━━━━━━━━━━━\u001B[0m\u001B[37m\u001B[0m \u001B[1m1s\u001B[0m 78ms/step - accuracy: 0.7651 - loss: 102.3859\n",
      "Epoch 19/20\n",
      "\u001B[1m7/7\u001B[0m \u001B[32m━━━━━━━━━━━━━━━━━━━━\u001B[0m\u001B[37m\u001B[0m \u001B[1m1s\u001B[0m 75ms/step - accuracy: 0.7260 - loss: 161.8214\n",
      "Epoch 20/20\n",
      "\u001B[1m7/7\u001B[0m \u001B[32m━━━━━━━━━━━━━━━━━━━━\u001B[0m\u001B[37m\u001B[0m \u001B[1m1s\u001B[0m 75ms/step - accuracy: 0.8288 - loss: 100.3349\n",
      "\u001B[1m2/2\u001B[0m \u001B[32m━━━━━━━━━━━━━━━━━━━━\u001B[0m\u001B[37m\u001B[0m \u001B[1m0s\u001B[0m 6ms/step - accuracy: 0.7551 - loss: 120.5640  \n",
      "ANN Test Accuracy: 0.7575757503509521\n"
     ]
    }
   ],
   "source": [
    "from keras.src.layers import Reshape\n",
    "\n",
    "# So sánh kết quả khi giảm chiều\n",
    "# Xây dựng mô hình ANN với Reshape layer\n",
    "ann_model = keras.models.Sequential()\n",
    "ann_model.add(Reshape((243, 320), input_shape=(X_train.shape[1], X_train.shape[2])))\n",
    "ann_model.add(keras.layers.Flatten())\n",
    "ann_model.add(keras.layers.Dense(128, activation='relu'))\n",
    "ann_model.add(keras.layers.Dense(15, activation='softmax'))\n",
    "\n",
    "# Biên dịch mô hình ANN\n",
    "ann_model.compile(optimizer='adam', loss='sparse_categorical_crossentropy', metrics=['accuracy'])\n",
    "\n",
    "# Huấn luyện mô hình ANN\n",
    "ann_model.fit(X_train, y_train, epochs=20, batch_size=20, verbose=1)\n",
    "\n",
    "# Đánh giá mô hình ANN trên tập test\n",
    "ann_loss, ann_accuracy = ann_model.evaluate(X_test, y_test)\n",
    "print(\"ANN Test Accuracy:\", ann_accuracy)"
   ],
   "metadata": {
    "collapsed": false,
    "ExecuteTime": {
     "end_time": "2024-04-15T17:05:10.680915500Z",
     "start_time": "2024-04-15T17:04:57.848140500Z"
    }
   },
   "id": "4eb2ec328f172fee"
  },
  {
   "cell_type": "code",
   "execution_count": 31,
   "outputs": [
    {
     "name": "stdout",
     "output_type": "stream",
     "text": [
      "Logistic Regression Test Accuracy: 0.8787878787878788\n"
     ]
    }
   ],
   "source": [
    "# Logistic\n",
    "from sklearn.linear_model import LogisticRegression\n",
    "\n",
    "# Chuẩn bị dữ liệu cho Logistic Regression\n",
    "X_train_flat = X_train.reshape(X_train.shape[0], -1)\n",
    "X_test_flat = X_test.reshape(X_test.shape[0], -1)\n",
    "\n",
    "# Xây dựng mô hình Logistic Regression\n",
    "logistic_model = LogisticRegression(max_iter=1000)\n",
    "\n",
    "# Huấn luyện mô hình Logistic Regression\n",
    "logistic_model.fit(X_train_flat, y_train)\n",
    "\n",
    "# Đánh giá mô hình Logistic Regression trên tập test\n",
    "logistic_accuracy = logistic_model.score(X_test_flat, y_test)\n",
    "print(\"Logistic Regression Test Accuracy:\", logistic_accuracy)"
   ],
   "metadata": {
    "collapsed": false,
    "ExecuteTime": {
     "end_time": "2024-04-15T17:05:21.261731600Z",
     "start_time": "2024-04-15T17:05:13.826552500Z"
    }
   },
   "id": "4c0c4f7f909210cc"
  },
  {
   "cell_type": "code",
   "execution_count": 32,
   "outputs": [
    {
     "name": "stdout",
     "output_type": "stream",
     "text": [
      "\u001B[1m2/2\u001B[0m \u001B[32m━━━━━━━━━━━━━━━━━━━━\u001B[0m\u001B[37m\u001B[0m \u001B[1m7s\u001B[0m 37ms/step - accuracy: 0.7244 - loss: 28.2584\n"
     ]
    }
   ],
   "source": [
    "cnn_loss, cnn_accuracy = model.evaluate(X_test, y_test)"
   ],
   "metadata": {
    "collapsed": false,
    "ExecuteTime": {
     "end_time": "2024-04-15T17:05:30.561018500Z",
     "start_time": "2024-04-15T17:05:23.772394500Z"
    }
   },
   "id": "839370a639f95c7d"
  },
  {
   "cell_type": "code",
   "execution_count": 33,
   "outputs": [
    {
     "name": "stdout",
     "output_type": "stream",
     "text": [
      "ANN Test Accuracy: 0.7575757503509521\n",
      "CNN Test Accuracy: 0.7272727489471436\n",
      "Logistic Regression Test Accuracy: 0.8787878787878788\n"
     ]
    }
   ],
   "source": [
    "print(\"ANN Test Accuracy:\", ann_accuracy)\n",
    "print(\"CNN Test Accuracy:\", cnn_accuracy)\n",
    "print(\"Logistic Regression Test Accuracy:\", logistic_accuracy)"
   ],
   "metadata": {
    "collapsed": false,
    "ExecuteTime": {
     "end_time": "2024-04-15T17:05:44.756915100Z",
     "start_time": "2024-04-15T17:05:44.729397300Z"
    }
   },
   "id": "d41369965ddac422"
  }
 ],
 "metadata": {
  "kernelspec": {
   "display_name": "Python 3",
   "language": "python",
   "name": "python3"
  },
  "language_info": {
   "codemirror_mode": {
    "name": "ipython",
    "version": 2
   },
   "file_extension": ".py",
   "mimetype": "text/x-python",
   "name": "python",
   "nbconvert_exporter": "python",
   "pygments_lexer": "ipython2",
   "version": "2.7.6"
  }
 },
 "nbformat": 4,
 "nbformat_minor": 5
}
